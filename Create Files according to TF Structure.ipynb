{
 "cells": [
  {
   "cell_type": "code",
   "execution_count": 1,
   "metadata": {},
   "outputs": [],
   "source": [
    "import pandas as pd"
   ]
  },
  {
   "cell_type": "code",
   "execution_count": 2,
   "metadata": {},
   "outputs": [],
   "source": [
    "# load the dataset for our M3 Project\n",
    "df = pd.read_csv('Dataset_Nofileext.csv', usecols=[1,2,3], encoding='utf-8')\n",
    "#df = df.loc[(df['File_type'] == 'pdf')]"
   ]
  },
  {
   "cell_type": "code",
   "execution_count": 5,
   "metadata": {},
   "outputs": [
    {
     "name": "stdout",
     "output_type": "stream",
     "text": [
      "<class 'pandas.core.frame.DataFrame'>\n",
      "RangeIndex: 209768 entries, 0 to 209767\n",
      "Data columns (total 3 columns):\n",
      " #   Column     Non-Null Count   Dtype \n",
      "---  ------     --------------   ----- \n",
      " 0   Name       209741 non-null  object\n",
      " 1   File_type  209616 non-null  object\n",
      " 2   Service    209768 non-null  object\n",
      "dtypes: object(3)\n",
      "memory usage: 4.8+ MB\n"
     ]
    },
    {
     "data": {
      "text/html": [
       "<div>\n",
       "<style scoped>\n",
       "    .dataframe tbody tr th:only-of-type {\n",
       "        vertical-align: middle;\n",
       "    }\n",
       "\n",
       "    .dataframe tbody tr th {\n",
       "        vertical-align: top;\n",
       "    }\n",
       "\n",
       "    .dataframe thead th {\n",
       "        text-align: right;\n",
       "    }\n",
       "</style>\n",
       "<table border=\"1\" class=\"dataframe\">\n",
       "  <thead>\n",
       "    <tr style=\"text-align: right;\">\n",
       "      <th></th>\n",
       "      <th>Name</th>\n",
       "      <th>File_type</th>\n",
       "      <th>Service</th>\n",
       "    </tr>\n",
       "  </thead>\n",
       "  <tbody>\n",
       "    <tr>\n",
       "      <th>0</th>\n",
       "      <td>200903   07 PfR21 HQ Budget   Decelerate   Inp...</td>\n",
       "      <td>pptx</td>\n",
       "      <td>FAD</td>\n",
       "    </tr>\n",
       "    <tr>\n",
       "      <th>1</th>\n",
       "      <td>FTE Control DP</td>\n",
       "      <td>xlsm</td>\n",
       "      <td>FAD</td>\n",
       "    </tr>\n",
       "    <tr>\n",
       "      <th>2</th>\n",
       "      <td>2020 09 03 ICRC Letter re IRS Correspondence w...</td>\n",
       "      <td>pdf</td>\n",
       "      <td>FAD</td>\n",
       "    </tr>\n",
       "    <tr>\n",
       "      <th>3</th>\n",
       "      <td>supporting organizations practice guide</td>\n",
       "      <td>pdf</td>\n",
       "      <td>FAD</td>\n",
       "    </tr>\n",
       "    <tr>\n",
       "      <th>4</th>\n",
       "      <td>2019 06 19 PWS JEH FL Bar Tax intl charitable ...</td>\n",
       "      <td>pdf</td>\n",
       "      <td>FAD</td>\n",
       "    </tr>\n",
       "    <tr>\n",
       "      <th>...</th>\n",
       "      <td>...</td>\n",
       "      <td>...</td>\n",
       "      <td>...</td>\n",
       "    </tr>\n",
       "    <tr>\n",
       "      <th>209763</th>\n",
       "      <td>ICRCEcoSec OPGuidelines AssistDoctrine49 EN vF...</td>\n",
       "      <td>doc</td>\n",
       "      <td>ASSIST</td>\n",
       "    </tr>\n",
       "    <tr>\n",
       "      <th>209764</th>\n",
       "      <td>140618 ICRCEcoSec Brief CashTransfers vFINAL</td>\n",
       "      <td>docx</td>\n",
       "      <td>ASSIST</td>\n",
       "    </tr>\n",
       "    <tr>\n",
       "      <th>209765</th>\n",
       "      <td>140710 ICRCEcoSec Brief Accountability EN vFINAL</td>\n",
       "      <td>pdf</td>\n",
       "      <td>ASSIST</td>\n",
       "    </tr>\n",
       "    <tr>\n",
       "      <th>209766</th>\n",
       "      <td>140710 ICRCEcoSec Brief Accountability EN vFINAL</td>\n",
       "      <td>docx</td>\n",
       "      <td>ASSIST</td>\n",
       "    </tr>\n",
       "    <tr>\n",
       "      <th>209767</th>\n",
       "      <td>0803 ICRC M2RBM Handbook EN vFINAL</td>\n",
       "      <td>pdf</td>\n",
       "      <td>ASSIST</td>\n",
       "    </tr>\n",
       "  </tbody>\n",
       "</table>\n",
       "<p>209768 rows × 3 columns</p>\n",
       "</div>"
      ],
      "text/plain": [
       "                                                     Name File_type Service\n",
       "0       200903   07 PfR21 HQ Budget   Decelerate   Inp...      pptx     FAD\n",
       "1                                         FTE Control DP       xlsm     FAD\n",
       "2       2020 09 03 ICRC Letter re IRS Correspondence w...       pdf     FAD\n",
       "3                 supporting organizations practice guide       pdf     FAD\n",
       "4       2019 06 19 PWS JEH FL Bar Tax intl charitable ...       pdf     FAD\n",
       "...                                                   ...       ...     ...\n",
       "209763  ICRCEcoSec OPGuidelines AssistDoctrine49 EN vF...       doc  ASSIST\n",
       "209764      140618 ICRCEcoSec Brief CashTransfers vFINAL       docx  ASSIST\n",
       "209765   140710 ICRCEcoSec Brief Accountability EN vFINAL       pdf  ASSIST\n",
       "209766  140710 ICRCEcoSec Brief Accountability EN vFINAL       docx  ASSIST\n",
       "209767                 0803 ICRC M2RBM Handbook EN vFINAL       pdf  ASSIST\n",
       "\n",
       "[209768 rows x 3 columns]"
      ]
     },
     "execution_count": 5,
     "metadata": {},
     "output_type": "execute_result"
    }
   ],
   "source": [
    "df.info()\n",
    "df"
   ]
  },
  {
   "cell_type": "code",
   "execution_count": 6,
   "metadata": {
    "scrolled": true
   },
   "outputs": [
    {
     "data": {
      "text/html": [
       "<div>\n",
       "<style scoped>\n",
       "    .dataframe tbody tr th:only-of-type {\n",
       "        vertical-align: middle;\n",
       "    }\n",
       "\n",
       "    .dataframe tbody tr th {\n",
       "        vertical-align: top;\n",
       "    }\n",
       "\n",
       "    .dataframe thead th {\n",
       "        text-align: right;\n",
       "    }\n",
       "</style>\n",
       "<table border=\"1\" class=\"dataframe\">\n",
       "  <thead>\n",
       "    <tr style=\"text-align: right;\">\n",
       "      <th></th>\n",
       "      <th>Name</th>\n",
       "      <th>File_type</th>\n",
       "      <th>Service</th>\n",
       "    </tr>\n",
       "  </thead>\n",
       "  <tbody>\n",
       "    <tr>\n",
       "      <th>0</th>\n",
       "      <td>200903   07 PfR21 HQ Budget   Decelerate   Inp...</td>\n",
       "      <td>pptx</td>\n",
       "      <td>FAD</td>\n",
       "    </tr>\n",
       "    <tr>\n",
       "      <th>1</th>\n",
       "      <td>FTE Control DP</td>\n",
       "      <td>xlsm</td>\n",
       "      <td>FAD</td>\n",
       "    </tr>\n",
       "    <tr>\n",
       "      <th>2</th>\n",
       "      <td>2020 09 03 ICRC Letter re IRS Correspondence w...</td>\n",
       "      <td>pdf</td>\n",
       "      <td>FAD</td>\n",
       "    </tr>\n",
       "    <tr>\n",
       "      <th>3</th>\n",
       "      <td>supporting organizations practice guide</td>\n",
       "      <td>pdf</td>\n",
       "      <td>FAD</td>\n",
       "    </tr>\n",
       "    <tr>\n",
       "      <th>4</th>\n",
       "      <td>2019 06 19 PWS JEH FL Bar Tax intl charitable ...</td>\n",
       "      <td>pdf</td>\n",
       "      <td>FAD</td>\n",
       "    </tr>\n",
       "    <tr>\n",
       "      <th>...</th>\n",
       "      <td>...</td>\n",
       "      <td>...</td>\n",
       "      <td>...</td>\n",
       "    </tr>\n",
       "    <tr>\n",
       "      <th>209442</th>\n",
       "      <td>ICRC Foundation Trustees</td>\n",
       "      <td>docx</td>\n",
       "      <td>FAD</td>\n",
       "    </tr>\n",
       "    <tr>\n",
       "      <th>209447</th>\n",
       "      <td>DIR2243</td>\n",
       "      <td>docx</td>\n",
       "      <td>FAD</td>\n",
       "    </tr>\n",
       "    <tr>\n",
       "      <th>209448</th>\n",
       "      <td>150914 ICRC Investment BUD16   Tabular Views v...</td>\n",
       "      <td>xlsx</td>\n",
       "      <td>FAD</td>\n",
       "    </tr>\n",
       "    <tr>\n",
       "      <th>209449</th>\n",
       "      <td>Budget Terrain 2016 copie PDF</td>\n",
       "      <td>pdf</td>\n",
       "      <td>FAD</td>\n",
       "    </tr>\n",
       "    <tr>\n",
       "      <th>209450</th>\n",
       "      <td>2016 SneakPreview V1</td>\n",
       "      <td>pptx</td>\n",
       "      <td>FAD</td>\n",
       "    </tr>\n",
       "  </tbody>\n",
       "</table>\n",
       "<p>96390 rows × 3 columns</p>\n",
       "</div>"
      ],
      "text/plain": [
       "                                                     Name File_type Service\n",
       "0       200903   07 PfR21 HQ Budget   Decelerate   Inp...      pptx     FAD\n",
       "1                                         FTE Control DP       xlsm     FAD\n",
       "2       2020 09 03 ICRC Letter re IRS Correspondence w...       pdf     FAD\n",
       "3                 supporting organizations practice guide       pdf     FAD\n",
       "4       2019 06 19 PWS JEH FL Bar Tax intl charitable ...       pdf     FAD\n",
       "...                                                   ...       ...     ...\n",
       "209442                          ICRC Foundation Trustees       docx     FAD\n",
       "209447                                           DIR2243       docx     FAD\n",
       "209448  150914 ICRC Investment BUD16   Tabular Views v...      xlsx     FAD\n",
       "209449                      Budget Terrain 2016 copie PDF       pdf     FAD\n",
       "209450                              2016 SneakPreview V1       pptx     FAD\n",
       "\n",
       "[96390 rows x 3 columns]"
      ]
     },
     "execution_count": 6,
     "metadata": {},
     "output_type": "execute_result"
    }
   ],
   "source": [
    "# Create df with the \"FAD\" category\n",
    "df_FAD = df.loc[df['Service'].isin(['FAD'])]\n",
    "df_FAD"
   ]
  },
  {
   "cell_type": "code",
   "execution_count": 7,
   "metadata": {},
   "outputs": [
    {
     "data": {
      "text/plain": [
       "'200903   07 PfR21 HQ Budget   Decelerate   Input DIR Workshop '"
      ]
     },
     "execution_count": 7,
     "metadata": {},
     "output_type": "execute_result"
    }
   ],
   "source": [
    "df_FAD.Name.iloc[0]"
   ]
  },
  {
   "cell_type": "code",
   "execution_count": null,
   "metadata": {},
   "outputs": [],
   "source": [
    "# Create separate title-files within the \"FAD\" directory"
   ]
  },
  {
   "cell_type": "code",
   "execution_count": 9,
   "metadata": {},
   "outputs": [
    {
     "ename": "TypeError",
     "evalue": "write() argument must be str, not float",
     "output_type": "error",
     "traceback": [
      "\u001b[1;31m---------------------------------------------------------------------------\u001b[0m",
      "\u001b[1;31mTypeError\u001b[0m                                 Traceback (most recent call last)",
      "\u001b[1;32m<ipython-input-9-6d44fb36b44f>\u001b[0m in \u001b[0;36m<module>\u001b[1;34m\u001b[0m\n\u001b[0;32m      5\u001b[0m     \u001b[1;32melse\u001b[0m\u001b[1;33m:\u001b[0m\u001b[1;33m\u001b[0m\u001b[1;33m\u001b[0m\u001b[0m\n\u001b[0;32m      6\u001b[0m        \u001b[0mf\u001b[0m \u001b[1;33m=\u001b[0m \u001b[0mopen\u001b[0m\u001b[1;33m(\u001b[0m\u001b[1;34m'./../train/FAD/'\u001b[0m\u001b[1;33m+\u001b[0m \u001b[0mstr\u001b[0m\u001b[1;33m(\u001b[0m\u001b[0mi\u001b[0m\u001b[1;33m)\u001b[0m \u001b[1;33m+\u001b[0m \u001b[1;34m'.txt'\u001b[0m\u001b[1;33m,\u001b[0m \u001b[1;34m'w'\u001b[0m\u001b[1;33m,\u001b[0m \u001b[0mencoding\u001b[0m\u001b[1;33m=\u001b[0m\u001b[1;34m'utf-8'\u001b[0m\u001b[1;33m)\u001b[0m\u001b[1;33m\u001b[0m\u001b[1;33m\u001b[0m\u001b[0m\n\u001b[1;32m----> 7\u001b[1;33m        \u001b[0mf\u001b[0m\u001b[1;33m.\u001b[0m\u001b[0mwrite\u001b[0m\u001b[1;33m(\u001b[0m\u001b[0mrow\u001b[0m\u001b[1;33m[\u001b[0m\u001b[1;36m0\u001b[0m\u001b[1;33m]\u001b[0m\u001b[1;33m)\u001b[0m\u001b[1;33m\u001b[0m\u001b[1;33m\u001b[0m\u001b[0m\n\u001b[0m\u001b[0;32m      8\u001b[0m        \u001b[0mf\u001b[0m\u001b[1;33m.\u001b[0m\u001b[0mclose\u001b[0m\u001b[1;33m(\u001b[0m\u001b[1;33m)\u001b[0m\u001b[1;33m\u001b[0m\u001b[1;33m\u001b[0m\u001b[0m\n\u001b[0;32m      9\u001b[0m        \u001b[0mi\u001b[0m\u001b[1;33m+=\u001b[0m\u001b[1;36m1\u001b[0m\u001b[1;33m\u001b[0m\u001b[1;33m\u001b[0m\u001b[0m\n",
      "\u001b[1;31mTypeError\u001b[0m: write() argument must be str, not float"
     ]
    }
   ],
   "source": [
    "i=0\n",
    "for index, row in df_FAD.iterrows():\n",
    "    if i > len(df_FAD):\n",
    "       break\n",
    "    else:\n",
    "       f = open('./../train/FAD/'+ str(i) + '.txt', 'w', encoding='utf-8')\n",
    "       f.write(row[0])\n",
    "       f.close()\n",
    "       i+=1"
   ]
  },
  {
   "cell_type": "code",
   "execution_count": 10,
   "metadata": {},
   "outputs": [],
   "source": [
    "# Create the other files\n",
    "df_REM = df.loc[df['Service'].isin(['REM'])]\n",
    "i=0\n",
    "for index, row in df_REM.iterrows():\n",
    "    if i > len(df_REM):\n",
    "       break\n",
    "    else:\n",
    "       f = open('./../train/REM/'+ str(i) + '.txt', 'w', encoding='utf-8')\n",
    "       f.write(row[0])\n",
    "       f.close()\n",
    "       i+=1"
   ]
  },
  {
   "cell_type": "code",
   "execution_count": 11,
   "metadata": {},
   "outputs": [],
   "source": [
    "df_PROT = df.loc[df['Service'].isin(['PROT'])]\n",
    "i=0\n",
    "for index, row in df_PROT.iterrows():\n",
    "    if i > len(df_PROT):\n",
    "       break\n",
    "    else:\n",
    "       f = open('./../train/PROT/'+ str(i) + '.txt', 'w', encoding='utf-8')\n",
    "       f.write(row[0])\n",
    "       f.close()\n",
    "       i+=1"
   ]
  },
  {
   "cell_type": "code",
   "execution_count": 12,
   "metadata": {},
   "outputs": [
    {
     "ename": "TypeError",
     "evalue": "write() argument must be str, not float",
     "output_type": "error",
     "traceback": [
      "\u001b[1;31m---------------------------------------------------------------------------\u001b[0m",
      "\u001b[1;31mTypeError\u001b[0m                                 Traceback (most recent call last)",
      "\u001b[1;32m<ipython-input-12-155945e122b4>\u001b[0m in \u001b[0;36m<module>\u001b[1;34m\u001b[0m\n\u001b[0;32m      6\u001b[0m     \u001b[1;32melse\u001b[0m\u001b[1;33m:\u001b[0m\u001b[1;33m\u001b[0m\u001b[1;33m\u001b[0m\u001b[0m\n\u001b[0;32m      7\u001b[0m        \u001b[0mf\u001b[0m \u001b[1;33m=\u001b[0m \u001b[0mopen\u001b[0m\u001b[1;33m(\u001b[0m\u001b[1;34m'./../train/ASSIST/'\u001b[0m\u001b[1;33m+\u001b[0m \u001b[0mstr\u001b[0m\u001b[1;33m(\u001b[0m\u001b[0mi\u001b[0m\u001b[1;33m)\u001b[0m \u001b[1;33m+\u001b[0m \u001b[1;34m'.txt'\u001b[0m\u001b[1;33m,\u001b[0m \u001b[1;34m'w'\u001b[0m\u001b[1;33m,\u001b[0m \u001b[0mencoding\u001b[0m\u001b[1;33m=\u001b[0m\u001b[1;34m'utf-8'\u001b[0m\u001b[1;33m)\u001b[0m\u001b[1;33m\u001b[0m\u001b[1;33m\u001b[0m\u001b[0m\n\u001b[1;32m----> 8\u001b[1;33m        \u001b[0mf\u001b[0m\u001b[1;33m.\u001b[0m\u001b[0mwrite\u001b[0m\u001b[1;33m(\u001b[0m\u001b[0mrow\u001b[0m\u001b[1;33m[\u001b[0m\u001b[1;36m0\u001b[0m\u001b[1;33m]\u001b[0m\u001b[1;33m)\u001b[0m\u001b[1;33m\u001b[0m\u001b[1;33m\u001b[0m\u001b[0m\n\u001b[0m\u001b[0;32m      9\u001b[0m        \u001b[0mf\u001b[0m\u001b[1;33m.\u001b[0m\u001b[0mclose\u001b[0m\u001b[1;33m(\u001b[0m\u001b[1;33m)\u001b[0m\u001b[1;33m\u001b[0m\u001b[1;33m\u001b[0m\u001b[0m\n\u001b[0;32m     10\u001b[0m        \u001b[0mi\u001b[0m\u001b[1;33m+=\u001b[0m\u001b[1;36m1\u001b[0m\u001b[1;33m\u001b[0m\u001b[1;33m\u001b[0m\u001b[0m\n",
      "\u001b[1;31mTypeError\u001b[0m: write() argument must be str, not float"
     ]
    }
   ],
   "source": [
    "df_ASSIST = df.loc[df['Service'].isin(['ASSIST'])]\n",
    "i=0\n",
    "for index, row in df_ASSIST.iterrows():\n",
    "    if i > len(df_ASSIST):\n",
    "       break\n",
    "    else:\n",
    "       f = open('./../train/ASSIST/'+ str(i) + '.txt', 'w', encoding='utf-8')\n",
    "       f.write(row[0])\n",
    "       f.close()\n",
    "       i+=1"
   ]
  },
  {
   "cell_type": "code",
   "execution_count": null,
   "metadata": {},
   "outputs": [],
   "source": []
  },
  {
   "cell_type": "code",
   "execution_count": null,
   "metadata": {},
   "outputs": [],
   "source": []
  }
 ],
 "metadata": {
  "kernelspec": {
   "display_name": "Python 3",
   "language": "python",
   "name": "python3"
  },
  "language_info": {
   "codemirror_mode": {
    "name": "ipython",
    "version": 3
   },
   "file_extension": ".py",
   "mimetype": "text/x-python",
   "name": "python",
   "nbconvert_exporter": "python",
   "pygments_lexer": "ipython3",
   "version": "3.8.3"
  }
 },
 "nbformat": 4,
 "nbformat_minor": 4
}
