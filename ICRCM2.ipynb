{
 "cells": [
  {
   "cell_type": "markdown",
   "metadata": {},
   "source": [
    "Project: ICRC Collaboration. CAS Applied Data Sciencem Module 1. University of Bern"
   ]
  },
  {
   "cell_type": "markdown",
   "metadata": {},
   "source": [
    "# Collaborative work at ICRC\n",
    "## Descriptive statistics on collaborative spaces"
   ]
  },
  {
   "cell_type": "markdown",
   "metadata": {},
   "source": [
    "### 1. Descriptive Statistics\n",
    "In the part below, we will describe the collaborative subset of data more in detail.\n",
    "We focus on the collaborative subset because, as we want, we want to analyse how people work with the documents that can be edited"
   ]
  },
  {
   "cell_type": "code",
   "execution_count": 5,
   "metadata": {},
   "outputs": [],
   "source": [
    "#first, we import the necessary modules\n",
    "import pandas as pd\n",
    "import numpy as np\n",
    "import scipy.stats as stats\n",
    "import seaborn as sns\n",
    "import matplotlib.pyplot as plt\n",
    "# we set pandas to show as short decimal numbers, as we dont want excessive long strings that bring no added value:\n",
    "pd.set_option('display.float_format', lambda x: '%.3f' % x)"
   ]
  },
  {
   "cell_type": "code",
   "execution_count": 2,
   "metadata": {},
   "outputs": [
    {
     "data": {
      "text/html": [
       "<div>\n",
       "<style scoped>\n",
       "    .dataframe tbody tr th:only-of-type {\n",
       "        vertical-align: middle;\n",
       "    }\n",
       "\n",
       "    .dataframe tbody tr th {\n",
       "        vertical-align: top;\n",
       "    }\n",
       "\n",
       "    .dataframe thead th {\n",
       "        text-align: right;\n",
       "    }\n",
       "</style>\n",
       "<table border=\"1\" class=\"dataframe\">\n",
       "  <thead>\n",
       "    <tr style=\"text-align: right;\">\n",
       "      <th></th>\n",
       "      <th>Unnamed: 0</th>\n",
       "      <th>File_type</th>\n",
       "      <th>Service</th>\n",
       "      <th>SizeMB</th>\n",
       "      <th>Version</th>\n",
       "      <th>Total_sizeMB</th>\n",
       "      <th>Created</th>\n",
       "      <th>Last_modified</th>\n",
       "      <th>Working_days</th>\n",
       "    </tr>\n",
       "  </thead>\n",
       "  <tbody>\n",
       "    <tr>\n",
       "      <th>0</th>\n",
       "      <td>1</td>\n",
       "      <td>Textual</td>\n",
       "      <td>ASSIST</td>\n",
       "      <td>0.120</td>\n",
       "      <td>1</td>\n",
       "      <td>0.240</td>\n",
       "      <td>2014-08-20</td>\n",
       "      <td>2014-08-20</td>\n",
       "      <td>0 days</td>\n",
       "    </tr>\n",
       "    <tr>\n",
       "      <th>1</th>\n",
       "      <td>3</td>\n",
       "      <td>Textual</td>\n",
       "      <td>ASSIST</td>\n",
       "      <td>0.530</td>\n",
       "      <td>1</td>\n",
       "      <td>0.530</td>\n",
       "      <td>2014-08-20</td>\n",
       "      <td>2014-08-20</td>\n",
       "      <td>0 days</td>\n",
       "    </tr>\n",
       "    <tr>\n",
       "      <th>2</th>\n",
       "      <td>4</td>\n",
       "      <td>Textual</td>\n",
       "      <td>ASSIST</td>\n",
       "      <td>0.260</td>\n",
       "      <td>1</td>\n",
       "      <td>0.510</td>\n",
       "      <td>2014-08-18</td>\n",
       "      <td>2014-08-20</td>\n",
       "      <td>2 days</td>\n",
       "    </tr>\n",
       "    <tr>\n",
       "      <th>3</th>\n",
       "      <td>5</td>\n",
       "      <td>Textual</td>\n",
       "      <td>ASSIST</td>\n",
       "      <td>0.090</td>\n",
       "      <td>1</td>\n",
       "      <td>0.530</td>\n",
       "      <td>2014-08-11</td>\n",
       "      <td>2014-08-20</td>\n",
       "      <td>9 days</td>\n",
       "    </tr>\n",
       "    <tr>\n",
       "      <th>4</th>\n",
       "      <td>6</td>\n",
       "      <td>Textual</td>\n",
       "      <td>ASSIST</td>\n",
       "      <td>0.170</td>\n",
       "      <td>1</td>\n",
       "      <td>0.520</td>\n",
       "      <td>2014-08-11</td>\n",
       "      <td>2014-08-20</td>\n",
       "      <td>9 days</td>\n",
       "    </tr>\n",
       "    <tr>\n",
       "      <th>...</th>\n",
       "      <td>...</td>\n",
       "      <td>...</td>\n",
       "      <td>...</td>\n",
       "      <td>...</td>\n",
       "      <td>...</td>\n",
       "      <td>...</td>\n",
       "      <td>...</td>\n",
       "      <td>...</td>\n",
       "      <td>...</td>\n",
       "    </tr>\n",
       "    <tr>\n",
       "      <th>106681</th>\n",
       "      <td>209760</td>\n",
       "      <td>Worksheet</td>\n",
       "      <td>FAD</td>\n",
       "      <td>0.090</td>\n",
       "      <td>144</td>\n",
       "      <td>11.530</td>\n",
       "      <td>2020-01-07</td>\n",
       "      <td>2020-09-04</td>\n",
       "      <td>241 days</td>\n",
       "    </tr>\n",
       "    <tr>\n",
       "      <th>106682</th>\n",
       "      <td>209761</td>\n",
       "      <td>Worksheet</td>\n",
       "      <td>FAD</td>\n",
       "      <td>1.290</td>\n",
       "      <td>136</td>\n",
       "      <td>410.040</td>\n",
       "      <td>2019-12-19</td>\n",
       "      <td>2020-09-04</td>\n",
       "      <td>260 days</td>\n",
       "    </tr>\n",
       "    <tr>\n",
       "      <th>106683</th>\n",
       "      <td>209762</td>\n",
       "      <td>Worksheet</td>\n",
       "      <td>FAD</td>\n",
       "      <td>0.050</td>\n",
       "      <td>211</td>\n",
       "      <td>9.270</td>\n",
       "      <td>2020-05-25</td>\n",
       "      <td>2020-09-04</td>\n",
       "      <td>102 days</td>\n",
       "    </tr>\n",
       "    <tr>\n",
       "      <th>106684</th>\n",
       "      <td>209766</td>\n",
       "      <td>Worksheet</td>\n",
       "      <td>FAD</td>\n",
       "      <td>0.620</td>\n",
       "      <td>128</td>\n",
       "      <td>71.460</td>\n",
       "      <td>2020-02-05</td>\n",
       "      <td>2020-09-04</td>\n",
       "      <td>212 days</td>\n",
       "    </tr>\n",
       "    <tr>\n",
       "      <th>106685</th>\n",
       "      <td>209767</td>\n",
       "      <td>Presentation</td>\n",
       "      <td>FAD</td>\n",
       "      <td>1.440</td>\n",
       "      <td>5</td>\n",
       "      <td>49.540</td>\n",
       "      <td>2020-08-28</td>\n",
       "      <td>2020-09-04</td>\n",
       "      <td>7 days</td>\n",
       "    </tr>\n",
       "  </tbody>\n",
       "</table>\n",
       "<p>106686 rows × 9 columns</p>\n",
       "</div>"
      ],
      "text/plain": [
       "        Unnamed: 0     File_type Service  SizeMB  Version  Total_sizeMB  \\\n",
       "0                1       Textual  ASSIST   0.120        1         0.240   \n",
       "1                3       Textual  ASSIST   0.530        1         0.530   \n",
       "2                4       Textual  ASSIST   0.260        1         0.510   \n",
       "3                5       Textual  ASSIST   0.090        1         0.530   \n",
       "4                6       Textual  ASSIST   0.170        1         0.520   \n",
       "...            ...           ...     ...     ...      ...           ...   \n",
       "106681      209760     Worksheet     FAD   0.090      144        11.530   \n",
       "106682      209761     Worksheet     FAD   1.290      136       410.040   \n",
       "106683      209762     Worksheet     FAD   0.050      211         9.270   \n",
       "106684      209766     Worksheet     FAD   0.620      128        71.460   \n",
       "106685      209767  Presentation     FAD   1.440        5        49.540   \n",
       "\n",
       "           Created Last_modified Working_days  \n",
       "0       2014-08-20    2014-08-20       0 days  \n",
       "1       2014-08-20    2014-08-20       0 days  \n",
       "2       2014-08-18    2014-08-20       2 days  \n",
       "3       2014-08-11    2014-08-20       9 days  \n",
       "4       2014-08-11    2014-08-20       9 days  \n",
       "...            ...           ...          ...  \n",
       "106681  2020-01-07    2020-09-04     241 days  \n",
       "106682  2019-12-19    2020-09-04     260 days  \n",
       "106683  2020-05-25    2020-09-04     102 days  \n",
       "106684  2020-02-05    2020-09-04     212 days  \n",
       "106685  2020-08-28    2020-09-04       7 days  \n",
       "\n",
       "[106686 rows x 9 columns]"
      ]
     },
     "execution_count": 2,
     "metadata": {},
     "output_type": "execute_result"
    }
   ],
   "source": [
    "#We import the data\n",
    "df = pd.read_csv ('CollabCleanSPdata.csv')\n",
    "#we have a quick look at it\n",
    "df"
   ]
  },
  {
   "cell_type": "code",
   "execution_count": 6,
   "metadata": {},
   "outputs": [
    {
     "ename": "KeyError",
     "evalue": "'Unnamed: 0'",
     "output_type": "error",
     "traceback": [
      "\u001b[1;31m---------------------------------------------------------------------------\u001b[0m",
      "\u001b[1;31mKeyError\u001b[0m                                  Traceback (most recent call last)",
      "\u001b[1;32m~\\anaconda3\\envs\\CasADS\\lib\\site-packages\\pandas\\core\\indexes\\base.py\u001b[0m in \u001b[0;36mget_loc\u001b[1;34m(self, key, method, tolerance)\u001b[0m\n\u001b[0;32m   2888\u001b[0m             \u001b[1;32mtry\u001b[0m\u001b[1;33m:\u001b[0m\u001b[1;33m\u001b[0m\u001b[1;33m\u001b[0m\u001b[0m\n\u001b[1;32m-> 2889\u001b[1;33m                 \u001b[1;32mreturn\u001b[0m \u001b[0mself\u001b[0m\u001b[1;33m.\u001b[0m\u001b[0m_engine\u001b[0m\u001b[1;33m.\u001b[0m\u001b[0mget_loc\u001b[0m\u001b[1;33m(\u001b[0m\u001b[0mcasted_key\u001b[0m\u001b[1;33m)\u001b[0m\u001b[1;33m\u001b[0m\u001b[1;33m\u001b[0m\u001b[0m\n\u001b[0m\u001b[0;32m   2890\u001b[0m             \u001b[1;32mexcept\u001b[0m \u001b[0mKeyError\u001b[0m \u001b[1;32mas\u001b[0m \u001b[0merr\u001b[0m\u001b[1;33m:\u001b[0m\u001b[1;33m\u001b[0m\u001b[1;33m\u001b[0m\u001b[0m\n",
      "\u001b[1;32mpandas\\_libs\\index.pyx\u001b[0m in \u001b[0;36mpandas._libs.index.IndexEngine.get_loc\u001b[1;34m()\u001b[0m\n",
      "\u001b[1;32mpandas\\_libs\\index.pyx\u001b[0m in \u001b[0;36mpandas._libs.index.IndexEngine.get_loc\u001b[1;34m()\u001b[0m\n",
      "\u001b[1;32mpandas\\_libs\\hashtable_class_helper.pxi\u001b[0m in \u001b[0;36mpandas._libs.hashtable.PyObjectHashTable.get_item\u001b[1;34m()\u001b[0m\n",
      "\u001b[1;32mpandas\\_libs\\hashtable_class_helper.pxi\u001b[0m in \u001b[0;36mpandas._libs.hashtable.PyObjectHashTable.get_item\u001b[1;34m()\u001b[0m\n",
      "\u001b[1;31mKeyError\u001b[0m: 'Unnamed: 0'",
      "\nThe above exception was the direct cause of the following exception:\n",
      "\u001b[1;31mKeyError\u001b[0m                                  Traceback (most recent call last)",
      "\u001b[1;32m<ipython-input-6-0ed8e7be3bc8>\u001b[0m in \u001b[0;36m<module>\u001b[1;34m\u001b[0m\n\u001b[0;32m      1\u001b[0m \u001b[1;31m#we delete the \"unnamed\" column, that has given us the index of the source dataframe\u001b[0m\u001b[1;33m\u001b[0m\u001b[1;33m\u001b[0m\u001b[1;33m\u001b[0m\u001b[0m\n\u001b[1;32m----> 2\u001b[1;33m \u001b[1;32mdel\u001b[0m \u001b[0mdf\u001b[0m\u001b[1;33m[\u001b[0m\u001b[1;34m'Unnamed: 0'\u001b[0m\u001b[1;33m]\u001b[0m\u001b[1;33m\u001b[0m\u001b[1;33m\u001b[0m\u001b[0m\n\u001b[0m",
      "\u001b[1;32m~\\anaconda3\\envs\\CasADS\\lib\\site-packages\\pandas\\core\\generic.py\u001b[0m in \u001b[0;36m__delitem__\u001b[1;34m(self, key)\u001b[0m\n\u001b[0;32m   3700\u001b[0m             \u001b[1;31m# there was no match, this call should raise the appropriate\u001b[0m\u001b[1;33m\u001b[0m\u001b[1;33m\u001b[0m\u001b[1;33m\u001b[0m\u001b[0m\n\u001b[0;32m   3701\u001b[0m             \u001b[1;31m# exception:\u001b[0m\u001b[1;33m\u001b[0m\u001b[1;33m\u001b[0m\u001b[1;33m\u001b[0m\u001b[0m\n\u001b[1;32m-> 3702\u001b[1;33m             \u001b[0mloc\u001b[0m \u001b[1;33m=\u001b[0m \u001b[0mself\u001b[0m\u001b[1;33m.\u001b[0m\u001b[0maxes\u001b[0m\u001b[1;33m[\u001b[0m\u001b[1;33m-\u001b[0m\u001b[1;36m1\u001b[0m\u001b[1;33m]\u001b[0m\u001b[1;33m.\u001b[0m\u001b[0mget_loc\u001b[0m\u001b[1;33m(\u001b[0m\u001b[0mkey\u001b[0m\u001b[1;33m)\u001b[0m\u001b[1;33m\u001b[0m\u001b[1;33m\u001b[0m\u001b[0m\n\u001b[0m\u001b[0;32m   3703\u001b[0m             \u001b[0mself\u001b[0m\u001b[1;33m.\u001b[0m\u001b[0m_mgr\u001b[0m\u001b[1;33m.\u001b[0m\u001b[0midelete\u001b[0m\u001b[1;33m(\u001b[0m\u001b[0mloc\u001b[0m\u001b[1;33m)\u001b[0m\u001b[1;33m\u001b[0m\u001b[1;33m\u001b[0m\u001b[0m\n\u001b[0;32m   3704\u001b[0m \u001b[1;33m\u001b[0m\u001b[0m\n",
      "\u001b[1;32m~\\anaconda3\\envs\\CasADS\\lib\\site-packages\\pandas\\core\\indexes\\base.py\u001b[0m in \u001b[0;36mget_loc\u001b[1;34m(self, key, method, tolerance)\u001b[0m\n\u001b[0;32m   2889\u001b[0m                 \u001b[1;32mreturn\u001b[0m \u001b[0mself\u001b[0m\u001b[1;33m.\u001b[0m\u001b[0m_engine\u001b[0m\u001b[1;33m.\u001b[0m\u001b[0mget_loc\u001b[0m\u001b[1;33m(\u001b[0m\u001b[0mcasted_key\u001b[0m\u001b[1;33m)\u001b[0m\u001b[1;33m\u001b[0m\u001b[1;33m\u001b[0m\u001b[0m\n\u001b[0;32m   2890\u001b[0m             \u001b[1;32mexcept\u001b[0m \u001b[0mKeyError\u001b[0m \u001b[1;32mas\u001b[0m \u001b[0merr\u001b[0m\u001b[1;33m:\u001b[0m\u001b[1;33m\u001b[0m\u001b[1;33m\u001b[0m\u001b[0m\n\u001b[1;32m-> 2891\u001b[1;33m                 \u001b[1;32mraise\u001b[0m \u001b[0mKeyError\u001b[0m\u001b[1;33m(\u001b[0m\u001b[0mkey\u001b[0m\u001b[1;33m)\u001b[0m \u001b[1;32mfrom\u001b[0m \u001b[0merr\u001b[0m\u001b[1;33m\u001b[0m\u001b[1;33m\u001b[0m\u001b[0m\n\u001b[0m\u001b[0;32m   2892\u001b[0m \u001b[1;33m\u001b[0m\u001b[0m\n\u001b[0;32m   2893\u001b[0m         \u001b[1;32mif\u001b[0m \u001b[0mtolerance\u001b[0m \u001b[1;32mis\u001b[0m \u001b[1;32mnot\u001b[0m \u001b[1;32mNone\u001b[0m\u001b[1;33m:\u001b[0m\u001b[1;33m\u001b[0m\u001b[1;33m\u001b[0m\u001b[0m\n",
      "\u001b[1;31mKeyError\u001b[0m: 'Unnamed: 0'"
     ]
    }
   ],
   "source": [
    "#we delete the \"unnamed\" column, that has given us the index of the source dataframe\n",
    "del df['Unnamed: 0']"
   ]
  },
  {
   "cell_type": "code",
   "execution_count": 7,
   "metadata": {},
   "outputs": [
    {
     "data": {
      "text/html": [
       "<div>\n",
       "<style scoped>\n",
       "    .dataframe tbody tr th:only-of-type {\n",
       "        vertical-align: middle;\n",
       "    }\n",
       "\n",
       "    .dataframe tbody tr th {\n",
       "        vertical-align: top;\n",
       "    }\n",
       "\n",
       "    .dataframe thead th {\n",
       "        text-align: right;\n",
       "    }\n",
       "</style>\n",
       "<table border=\"1\" class=\"dataframe\">\n",
       "  <thead>\n",
       "    <tr style=\"text-align: right;\">\n",
       "      <th></th>\n",
       "      <th>File_type</th>\n",
       "      <th>Service</th>\n",
       "      <th>SizeMB</th>\n",
       "      <th>Version</th>\n",
       "      <th>Total_sizeMB</th>\n",
       "      <th>Created</th>\n",
       "      <th>Last_modified</th>\n",
       "      <th>Working_days</th>\n",
       "    </tr>\n",
       "  </thead>\n",
       "  <tbody>\n",
       "    <tr>\n",
       "      <th>0</th>\n",
       "      <td>Textual</td>\n",
       "      <td>ASSIST</td>\n",
       "      <td>0.120</td>\n",
       "      <td>1</td>\n",
       "      <td>0.240</td>\n",
       "      <td>2014-08-20</td>\n",
       "      <td>2014-08-20</td>\n",
       "      <td>0 days</td>\n",
       "    </tr>\n",
       "    <tr>\n",
       "      <th>1</th>\n",
       "      <td>Textual</td>\n",
       "      <td>ASSIST</td>\n",
       "      <td>0.530</td>\n",
       "      <td>1</td>\n",
       "      <td>0.530</td>\n",
       "      <td>2014-08-20</td>\n",
       "      <td>2014-08-20</td>\n",
       "      <td>0 days</td>\n",
       "    </tr>\n",
       "    <tr>\n",
       "      <th>2</th>\n",
       "      <td>Textual</td>\n",
       "      <td>ASSIST</td>\n",
       "      <td>0.260</td>\n",
       "      <td>1</td>\n",
       "      <td>0.510</td>\n",
       "      <td>2014-08-18</td>\n",
       "      <td>2014-08-20</td>\n",
       "      <td>2 days</td>\n",
       "    </tr>\n",
       "    <tr>\n",
       "      <th>3</th>\n",
       "      <td>Textual</td>\n",
       "      <td>ASSIST</td>\n",
       "      <td>0.090</td>\n",
       "      <td>1</td>\n",
       "      <td>0.530</td>\n",
       "      <td>2014-08-11</td>\n",
       "      <td>2014-08-20</td>\n",
       "      <td>9 days</td>\n",
       "    </tr>\n",
       "    <tr>\n",
       "      <th>4</th>\n",
       "      <td>Textual</td>\n",
       "      <td>ASSIST</td>\n",
       "      <td>0.170</td>\n",
       "      <td>1</td>\n",
       "      <td>0.520</td>\n",
       "      <td>2014-08-11</td>\n",
       "      <td>2014-08-20</td>\n",
       "      <td>9 days</td>\n",
       "    </tr>\n",
       "    <tr>\n",
       "      <th>5</th>\n",
       "      <td>Textual</td>\n",
       "      <td>ASSIST</td>\n",
       "      <td>0.230</td>\n",
       "      <td>1</td>\n",
       "      <td>0.900</td>\n",
       "      <td>2014-08-11</td>\n",
       "      <td>2014-08-20</td>\n",
       "      <td>9 days</td>\n",
       "    </tr>\n",
       "    <tr>\n",
       "      <th>6</th>\n",
       "      <td>Textual</td>\n",
       "      <td>ASSIST</td>\n",
       "      <td>0.090</td>\n",
       "      <td>1</td>\n",
       "      <td>0.270</td>\n",
       "      <td>2014-08-11</td>\n",
       "      <td>2014-08-20</td>\n",
       "      <td>9 days</td>\n",
       "    </tr>\n",
       "    <tr>\n",
       "      <th>7</th>\n",
       "      <td>Worksheet</td>\n",
       "      <td>ASSIST</td>\n",
       "      <td>1.450</td>\n",
       "      <td>1</td>\n",
       "      <td>4.350</td>\n",
       "      <td>2014-08-13</td>\n",
       "      <td>2014-08-20</td>\n",
       "      <td>7 days</td>\n",
       "    </tr>\n",
       "    <tr>\n",
       "      <th>8</th>\n",
       "      <td>Worksheet</td>\n",
       "      <td>ASSIST</td>\n",
       "      <td>1.450</td>\n",
       "      <td>1</td>\n",
       "      <td>2.900</td>\n",
       "      <td>2014-08-13</td>\n",
       "      <td>2014-08-20</td>\n",
       "      <td>7 days</td>\n",
       "    </tr>\n",
       "    <tr>\n",
       "      <th>9</th>\n",
       "      <td>Textual</td>\n",
       "      <td>ASSIST</td>\n",
       "      <td>0.160</td>\n",
       "      <td>1</td>\n",
       "      <td>0.160</td>\n",
       "      <td>2014-08-18</td>\n",
       "      <td>2014-08-20</td>\n",
       "      <td>2 days</td>\n",
       "    </tr>\n",
       "  </tbody>\n",
       "</table>\n",
       "</div>"
      ],
      "text/plain": [
       "   File_type Service  SizeMB  Version  Total_sizeMB     Created Last_modified  \\\n",
       "0    Textual  ASSIST   0.120        1         0.240  2014-08-20    2014-08-20   \n",
       "1    Textual  ASSIST   0.530        1         0.530  2014-08-20    2014-08-20   \n",
       "2    Textual  ASSIST   0.260        1         0.510  2014-08-18    2014-08-20   \n",
       "3    Textual  ASSIST   0.090        1         0.530  2014-08-11    2014-08-20   \n",
       "4    Textual  ASSIST   0.170        1         0.520  2014-08-11    2014-08-20   \n",
       "5    Textual  ASSIST   0.230        1         0.900  2014-08-11    2014-08-20   \n",
       "6    Textual  ASSIST   0.090        1         0.270  2014-08-11    2014-08-20   \n",
       "7  Worksheet  ASSIST   1.450        1         4.350  2014-08-13    2014-08-20   \n",
       "8  Worksheet  ASSIST   1.450        1         2.900  2014-08-13    2014-08-20   \n",
       "9    Textual  ASSIST   0.160        1         0.160  2014-08-18    2014-08-20   \n",
       "\n",
       "  Working_days  \n",
       "0       0 days  \n",
       "1       0 days  \n",
       "2       2 days  \n",
       "3       9 days  \n",
       "4       9 days  \n",
       "5       9 days  \n",
       "6       9 days  \n",
       "7       7 days  \n",
       "8       7 days  \n",
       "9       2 days  "
      ]
     },
     "execution_count": 7,
     "metadata": {},
     "output_type": "execute_result"
    }
   ],
   "source": [
    "df.head(10)"
   ]
  },
  {
   "cell_type": "code",
   "execution_count": null,
   "metadata": {},
   "outputs": [],
   "source": [
    "#we look also at the type of data we have, to see if we can work with it\n",
    "df.info()"
   ]
  },
  {
   "cell_type": "code",
   "execution_count": 8,
   "metadata": {},
   "outputs": [
    {
     "data": {
      "text/html": [
       "<div>\n",
       "<style scoped>\n",
       "    .dataframe tbody tr th:only-of-type {\n",
       "        vertical-align: middle;\n",
       "    }\n",
       "\n",
       "    .dataframe tbody tr th {\n",
       "        vertical-align: top;\n",
       "    }\n",
       "\n",
       "    .dataframe thead th {\n",
       "        text-align: right;\n",
       "    }\n",
       "</style>\n",
       "<table border=\"1\" class=\"dataframe\">\n",
       "  <thead>\n",
       "    <tr style=\"text-align: right;\">\n",
       "      <th></th>\n",
       "      <th>File_type</th>\n",
       "      <th>Service</th>\n",
       "      <th>SizeMB</th>\n",
       "      <th>Version</th>\n",
       "      <th>Total_sizeMB</th>\n",
       "      <th>Created</th>\n",
       "      <th>Last_modified</th>\n",
       "      <th>Working_days</th>\n",
       "    </tr>\n",
       "  </thead>\n",
       "  <tbody>\n",
       "    <tr>\n",
       "      <th>0</th>\n",
       "      <td>Textual</td>\n",
       "      <td>ASSIST</td>\n",
       "      <td>0.120</td>\n",
       "      <td>1</td>\n",
       "      <td>0.240</td>\n",
       "      <td>2014-08-20</td>\n",
       "      <td>2014-08-20</td>\n",
       "      <td>0 days</td>\n",
       "    </tr>\n",
       "    <tr>\n",
       "      <th>1</th>\n",
       "      <td>Textual</td>\n",
       "      <td>ASSIST</td>\n",
       "      <td>0.530</td>\n",
       "      <td>1</td>\n",
       "      <td>0.530</td>\n",
       "      <td>2014-08-20</td>\n",
       "      <td>2014-08-20</td>\n",
       "      <td>0 days</td>\n",
       "    </tr>\n",
       "    <tr>\n",
       "      <th>2</th>\n",
       "      <td>Textual</td>\n",
       "      <td>ASSIST</td>\n",
       "      <td>0.260</td>\n",
       "      <td>1</td>\n",
       "      <td>0.510</td>\n",
       "      <td>2014-08-18</td>\n",
       "      <td>2014-08-20</td>\n",
       "      <td>2 days</td>\n",
       "    </tr>\n",
       "    <tr>\n",
       "      <th>3</th>\n",
       "      <td>Textual</td>\n",
       "      <td>ASSIST</td>\n",
       "      <td>0.090</td>\n",
       "      <td>1</td>\n",
       "      <td>0.530</td>\n",
       "      <td>2014-08-11</td>\n",
       "      <td>2014-08-20</td>\n",
       "      <td>9 days</td>\n",
       "    </tr>\n",
       "    <tr>\n",
       "      <th>4</th>\n",
       "      <td>Textual</td>\n",
       "      <td>ASSIST</td>\n",
       "      <td>0.170</td>\n",
       "      <td>1</td>\n",
       "      <td>0.520</td>\n",
       "      <td>2014-08-11</td>\n",
       "      <td>2014-08-20</td>\n",
       "      <td>9 days</td>\n",
       "    </tr>\n",
       "    <tr>\n",
       "      <th>5</th>\n",
       "      <td>Textual</td>\n",
       "      <td>ASSIST</td>\n",
       "      <td>0.230</td>\n",
       "      <td>1</td>\n",
       "      <td>0.900</td>\n",
       "      <td>2014-08-11</td>\n",
       "      <td>2014-08-20</td>\n",
       "      <td>9 days</td>\n",
       "    </tr>\n",
       "    <tr>\n",
       "      <th>6</th>\n",
       "      <td>Textual</td>\n",
       "      <td>ASSIST</td>\n",
       "      <td>0.090</td>\n",
       "      <td>1</td>\n",
       "      <td>0.270</td>\n",
       "      <td>2014-08-11</td>\n",
       "      <td>2014-08-20</td>\n",
       "      <td>9 days</td>\n",
       "    </tr>\n",
       "    <tr>\n",
       "      <th>7</th>\n",
       "      <td>Worksheet</td>\n",
       "      <td>ASSIST</td>\n",
       "      <td>1.450</td>\n",
       "      <td>1</td>\n",
       "      <td>4.350</td>\n",
       "      <td>2014-08-13</td>\n",
       "      <td>2014-08-20</td>\n",
       "      <td>7 days</td>\n",
       "    </tr>\n",
       "    <tr>\n",
       "      <th>8</th>\n",
       "      <td>Worksheet</td>\n",
       "      <td>ASSIST</td>\n",
       "      <td>1.450</td>\n",
       "      <td>1</td>\n",
       "      <td>2.900</td>\n",
       "      <td>2014-08-13</td>\n",
       "      <td>2014-08-20</td>\n",
       "      <td>7 days</td>\n",
       "    </tr>\n",
       "    <tr>\n",
       "      <th>9</th>\n",
       "      <td>Textual</td>\n",
       "      <td>ASSIST</td>\n",
       "      <td>0.160</td>\n",
       "      <td>1</td>\n",
       "      <td>0.160</td>\n",
       "      <td>2014-08-18</td>\n",
       "      <td>2014-08-20</td>\n",
       "      <td>2 days</td>\n",
       "    </tr>\n",
       "  </tbody>\n",
       "</table>\n",
       "</div>"
      ],
      "text/plain": [
       "   File_type Service  SizeMB  Version  Total_sizeMB    Created Last_modified  \\\n",
       "0    Textual  ASSIST   0.120        1         0.240 2014-08-20    2014-08-20   \n",
       "1    Textual  ASSIST   0.530        1         0.530 2014-08-20    2014-08-20   \n",
       "2    Textual  ASSIST   0.260        1         0.510 2014-08-18    2014-08-20   \n",
       "3    Textual  ASSIST   0.090        1         0.530 2014-08-11    2014-08-20   \n",
       "4    Textual  ASSIST   0.170        1         0.520 2014-08-11    2014-08-20   \n",
       "5    Textual  ASSIST   0.230        1         0.900 2014-08-11    2014-08-20   \n",
       "6    Textual  ASSIST   0.090        1         0.270 2014-08-11    2014-08-20   \n",
       "7  Worksheet  ASSIST   1.450        1         4.350 2014-08-13    2014-08-20   \n",
       "8  Worksheet  ASSIST   1.450        1         2.900 2014-08-13    2014-08-20   \n",
       "9    Textual  ASSIST   0.160        1         0.160 2014-08-18    2014-08-20   \n",
       "\n",
       "  Working_days  \n",
       "0       0 days  \n",
       "1       0 days  \n",
       "2       2 days  \n",
       "3       9 days  \n",
       "4       9 days  \n",
       "5       9 days  \n",
       "6       9 days  \n",
       "7       7 days  \n",
       "8       7 days  \n",
       "9       2 days  "
      ]
     },
     "execution_count": 8,
     "metadata": {},
     "output_type": "execute_result"
    }
   ],
   "source": [
    "#Created and last modified are dates, not objects; working days should be a time delta, not an object. We correct this:\n",
    "df['Created'] = pd.to_datetime(df['Created'])\n",
    "df['Last_modified'] = pd.to_datetime(df['Last_modified'])\n",
    "df['Working_days'] = pd.to_timedelta(df['Working_days'])\n",
    "df.head(10)"
   ]
  },
  {
   "cell_type": "code",
   "execution_count": 9,
   "metadata": {},
   "outputs": [
    {
     "name": "stdout",
     "output_type": "stream",
     "text": [
      "<class 'pandas.core.frame.DataFrame'>\n",
      "RangeIndex: 106686 entries, 0 to 106685\n",
      "Data columns (total 8 columns):\n",
      " #   Column         Non-Null Count   Dtype          \n",
      "---  ------         --------------   -----          \n",
      " 0   File_type      106686 non-null  object         \n",
      " 1   Service        106686 non-null  object         \n",
      " 2   SizeMB         106686 non-null  float64        \n",
      " 3   Version        106686 non-null  int64          \n",
      " 4   Total_sizeMB   106686 non-null  float64        \n",
      " 5   Created        106686 non-null  datetime64[ns] \n",
      " 6   Last_modified  106686 non-null  datetime64[ns] \n",
      " 7   Working_days   106686 non-null  timedelta64[ns]\n",
      "dtypes: datetime64[ns](2), float64(2), int64(1), object(2), timedelta64[ns](1)\n",
      "memory usage: 6.5+ MB\n"
     ]
    }
   ],
   "source": [
    "#and we check that it worked.\n",
    "df.info()"
   ]
  },
  {
   "cell_type": "code",
   "execution_count": 10,
   "metadata": {},
   "outputs": [
    {
     "data": {
      "text/html": [
       "<div>\n",
       "<style scoped>\n",
       "    .dataframe tbody tr th:only-of-type {\n",
       "        vertical-align: middle;\n",
       "    }\n",
       "\n",
       "    .dataframe tbody tr th {\n",
       "        vertical-align: top;\n",
       "    }\n",
       "\n",
       "    .dataframe thead th {\n",
       "        text-align: right;\n",
       "    }\n",
       "</style>\n",
       "<table border=\"1\" class=\"dataframe\">\n",
       "  <thead>\n",
       "    <tr style=\"text-align: right;\">\n",
       "      <th></th>\n",
       "      <th>SizeMB</th>\n",
       "      <th>Version</th>\n",
       "      <th>Total_sizeMB</th>\n",
       "      <th>Working_days</th>\n",
       "    </tr>\n",
       "  </thead>\n",
       "  <tbody>\n",
       "    <tr>\n",
       "      <th>count</th>\n",
       "      <td>106686.000</td>\n",
       "      <td>106686.000</td>\n",
       "      <td>106686.000</td>\n",
       "      <td>106686</td>\n",
       "    </tr>\n",
       "    <tr>\n",
       "      <th>mean</th>\n",
       "      <td>1.370</td>\n",
       "      <td>2.716</td>\n",
       "      <td>4.750</td>\n",
       "      <td>82 days 09:33:27.423654461</td>\n",
       "    </tr>\n",
       "    <tr>\n",
       "      <th>std</th>\n",
       "      <td>7.386</td>\n",
       "      <td>8.548</td>\n",
       "      <td>44.035</td>\n",
       "      <td>170 days 06:26:18.189711008</td>\n",
       "    </tr>\n",
       "    <tr>\n",
       "      <th>min</th>\n",
       "      <td>0.000</td>\n",
       "      <td>1.000</td>\n",
       "      <td>0.000</td>\n",
       "      <td>0 days 00:00:00</td>\n",
       "    </tr>\n",
       "    <tr>\n",
       "      <th>25%</th>\n",
       "      <td>0.040</td>\n",
       "      <td>1.000</td>\n",
       "      <td>0.070</td>\n",
       "      <td>0 days 00:00:00</td>\n",
       "    </tr>\n",
       "    <tr>\n",
       "      <th>50%</th>\n",
       "      <td>0.070</td>\n",
       "      <td>1.000</td>\n",
       "      <td>0.160</td>\n",
       "      <td>0 days 00:00:00</td>\n",
       "    </tr>\n",
       "    <tr>\n",
       "      <th>75%</th>\n",
       "      <td>0.270</td>\n",
       "      <td>2.000</td>\n",
       "      <td>0.700</td>\n",
       "      <td>59 days 00:00:00</td>\n",
       "    </tr>\n",
       "    <tr>\n",
       "      <th>max</th>\n",
       "      <td>249.410</td>\n",
       "      <td>511.000</td>\n",
       "      <td>5485.640</td>\n",
       "      <td>1739 days 00:00:00</td>\n",
       "    </tr>\n",
       "  </tbody>\n",
       "</table>\n",
       "</div>"
      ],
      "text/plain": [
       "          SizeMB    Version  Total_sizeMB                 Working_days\n",
       "count 106686.000 106686.000    106686.000                       106686\n",
       "mean       1.370      2.716         4.750   82 days 09:33:27.423654461\n",
       "std        7.386      8.548        44.035  170 days 06:26:18.189711008\n",
       "min        0.000      1.000         0.000              0 days 00:00:00\n",
       "25%        0.040      1.000         0.070              0 days 00:00:00\n",
       "50%        0.070      1.000         0.160              0 days 00:00:00\n",
       "75%        0.270      2.000         0.700             59 days 00:00:00\n",
       "max      249.410    511.000      5485.640           1739 days 00:00:00"
      ]
     },
     "execution_count": 10,
     "metadata": {},
     "output_type": "execute_result"
    }
   ],
   "source": [
    "#then, we extract some basic statistics\n",
    "df.describe()"
   ]
  },
  {
   "cell_type": "markdown",
   "metadata": {},
   "source": [
    "Here we see some interesting facts already:\n",
    "- Standard deviation is quite high in many values\n",
    "- Our Version distribution seems not to be normal. We saw that in the previous module\n",
    "We do a quick check on the kurtosis and skewness of all values"
   ]
  },
  {
   "cell_type": "code",
   "execution_count": 11,
   "metadata": {},
   "outputs": [
    {
     "data": {
      "text/plain": [
       "SizeMB          328.303\n",
       "Version        1167.858\n",
       "Total_sizeMB   4110.512\n",
       "dtype: float64"
      ]
     },
     "execution_count": 11,
     "metadata": {},
     "output_type": "execute_result"
    }
   ],
   "source": [
    "df.kurt()"
   ]
  },
  {
   "cell_type": "code",
   "execution_count": 12,
   "metadata": {},
   "outputs": [
    {
     "data": {
      "text/plain": [
       "SizeMB         14.868\n",
       "Version        27.013\n",
       "Total_sizeMB   49.952\n",
       "dtype: float64"
      ]
     },
     "execution_count": 12,
     "metadata": {},
     "output_type": "execute_result"
    }
   ],
   "source": [
    "df.skew()"
   ]
  },
  {
   "cell_type": "code",
   "execution_count": 13,
   "metadata": {},
   "outputs": [
    {
     "data": {
      "text/plain": [
       "SizeMB           54.560\n",
       "Version          73.072\n",
       "Total_sizeMB   1939.093\n",
       "dtype: float64"
      ]
     },
     "execution_count": 13,
     "metadata": {},
     "output_type": "execute_result"
    }
   ],
   "source": [
    "df.var()"
   ]
  },
  {
   "cell_type": "markdown",
   "metadata": {},
   "source": [
    "Some other descriptive statistics:\n"
   ]
  },
  {
   "cell_type": "code",
   "execution_count": 16,
   "metadata": {},
   "outputs": [
    {
     "data": {
      "text/html": [
       "<div>\n",
       "<style scoped>\n",
       "    .dataframe tbody tr th:only-of-type {\n",
       "        vertical-align: middle;\n",
       "    }\n",
       "\n",
       "    .dataframe tbody tr th {\n",
       "        vertical-align: top;\n",
       "    }\n",
       "\n",
       "    .dataframe thead th {\n",
       "        text-align: right;\n",
       "    }\n",
       "</style>\n",
       "<table border=\"1\" class=\"dataframe\">\n",
       "  <thead>\n",
       "    <tr style=\"text-align: right;\">\n",
       "      <th></th>\n",
       "      <th>SizeMB</th>\n",
       "      <th>Version</th>\n",
       "      <th>Total_sizeMB</th>\n",
       "    </tr>\n",
       "  </thead>\n",
       "  <tbody>\n",
       "    <tr>\n",
       "      <th>SizeMB</th>\n",
       "      <td>7.361</td>\n",
       "      <td>0.088</td>\n",
       "      <td>27.889</td>\n",
       "    </tr>\n",
       "    <tr>\n",
       "      <th>Version</th>\n",
       "      <td>0.088</td>\n",
       "      <td>27.353</td>\n",
       "      <td>12.856</td>\n",
       "    </tr>\n",
       "    <tr>\n",
       "      <th>Total_sizeMB</th>\n",
       "      <td>27.889</td>\n",
       "      <td>12.856</td>\n",
       "      <td>356.874</td>\n",
       "    </tr>\n",
       "  </tbody>\n",
       "</table>\n",
       "</div>"
      ],
      "text/plain": [
       "              SizeMB  Version  Total_sizeMB\n",
       "SizeMB         7.361    0.088        27.889\n",
       "Version        0.088   27.353        12.856\n",
       "Total_sizeMB  27.889   12.856       356.874"
      ]
     },
     "execution_count": 16,
     "metadata": {},
     "output_type": "execute_result"
    }
   ],
   "source": [
    "#we calculate the correlation and covariance matrix, per file type\n",
    "df[df['File_type']=='Textual'].cov()"
   ]
  },
  {
   "cell_type": "code",
   "execution_count": 17,
   "metadata": {},
   "outputs": [
    {
     "data": {
      "text/html": [
       "<div>\n",
       "<style scoped>\n",
       "    .dataframe tbody tr th:only-of-type {\n",
       "        vertical-align: middle;\n",
       "    }\n",
       "\n",
       "    .dataframe tbody tr th {\n",
       "        vertical-align: top;\n",
       "    }\n",
       "\n",
       "    .dataframe thead th {\n",
       "        text-align: right;\n",
       "    }\n",
       "</style>\n",
       "<table border=\"1\" class=\"dataframe\">\n",
       "  <thead>\n",
       "    <tr style=\"text-align: right;\">\n",
       "      <th></th>\n",
       "      <th>SizeMB</th>\n",
       "      <th>Version</th>\n",
       "      <th>Total_sizeMB</th>\n",
       "    </tr>\n",
       "  </thead>\n",
       "  <tbody>\n",
       "    <tr>\n",
       "      <th>SizeMB</th>\n",
       "      <td>1.000</td>\n",
       "      <td>0.006</td>\n",
       "      <td>0.544</td>\n",
       "    </tr>\n",
       "    <tr>\n",
       "      <th>Version</th>\n",
       "      <td>0.006</td>\n",
       "      <td>1.000</td>\n",
       "      <td>0.130</td>\n",
       "    </tr>\n",
       "    <tr>\n",
       "      <th>Total_sizeMB</th>\n",
       "      <td>0.544</td>\n",
       "      <td>0.130</td>\n",
       "      <td>1.000</td>\n",
       "    </tr>\n",
       "  </tbody>\n",
       "</table>\n",
       "</div>"
      ],
      "text/plain": [
       "              SizeMB  Version  Total_sizeMB\n",
       "SizeMB         1.000    0.006         0.544\n",
       "Version        0.006    1.000         0.130\n",
       "Total_sizeMB   0.544    0.130         1.000"
      ]
     },
     "execution_count": 17,
     "metadata": {},
     "output_type": "execute_result"
    }
   ],
   "source": [
    "df[df['File_type']=='Textual'].corr()"
   ]
  },
  {
   "cell_type": "code",
   "execution_count": 18,
   "metadata": {},
   "outputs": [
    {
     "data": {
      "text/html": [
       "<div>\n",
       "<style scoped>\n",
       "    .dataframe tbody tr th:only-of-type {\n",
       "        vertical-align: middle;\n",
       "    }\n",
       "\n",
       "    .dataframe tbody tr th {\n",
       "        vertical-align: top;\n",
       "    }\n",
       "\n",
       "    .dataframe thead th {\n",
       "        text-align: right;\n",
       "    }\n",
       "</style>\n",
       "<table border=\"1\" class=\"dataframe\">\n",
       "  <thead>\n",
       "    <tr style=\"text-align: right;\">\n",
       "      <th></th>\n",
       "      <th>SizeMB</th>\n",
       "      <th>Version</th>\n",
       "      <th>Total_sizeMB</th>\n",
       "    </tr>\n",
       "  </thead>\n",
       "  <tbody>\n",
       "    <tr>\n",
       "      <th>SizeMB</th>\n",
       "      <td>248.722</td>\n",
       "      <td>-1.458</td>\n",
       "      <td>558.976</td>\n",
       "    </tr>\n",
       "    <tr>\n",
       "      <th>Version</th>\n",
       "      <td>-1.458</td>\n",
       "      <td>18.885</td>\n",
       "      <td>39.208</td>\n",
       "    </tr>\n",
       "    <tr>\n",
       "      <th>Total_sizeMB</th>\n",
       "      <td>558.976</td>\n",
       "      <td>39.208</td>\n",
       "      <td>3874.831</td>\n",
       "    </tr>\n",
       "  </tbody>\n",
       "</table>\n",
       "</div>"
      ],
      "text/plain": [
       "              SizeMB  Version  Total_sizeMB\n",
       "SizeMB       248.722   -1.458       558.976\n",
       "Version       -1.458   18.885        39.208\n",
       "Total_sizeMB 558.976   39.208      3874.831"
      ]
     },
     "execution_count": 18,
     "metadata": {},
     "output_type": "execute_result"
    }
   ],
   "source": [
    "df[df['File_type']=='Presentation'].cov()"
   ]
  },
  {
   "cell_type": "code",
   "execution_count": 19,
   "metadata": {},
   "outputs": [
    {
     "data": {
      "text/html": [
       "<div>\n",
       "<style scoped>\n",
       "    .dataframe tbody tr th:only-of-type {\n",
       "        vertical-align: middle;\n",
       "    }\n",
       "\n",
       "    .dataframe tbody tr th {\n",
       "        vertical-align: top;\n",
       "    }\n",
       "\n",
       "    .dataframe thead th {\n",
       "        text-align: right;\n",
       "    }\n",
       "</style>\n",
       "<table border=\"1\" class=\"dataframe\">\n",
       "  <thead>\n",
       "    <tr style=\"text-align: right;\">\n",
       "      <th></th>\n",
       "      <th>SizeMB</th>\n",
       "      <th>Version</th>\n",
       "      <th>Total_sizeMB</th>\n",
       "    </tr>\n",
       "  </thead>\n",
       "  <tbody>\n",
       "    <tr>\n",
       "      <th>SizeMB</th>\n",
       "      <td>1.000</td>\n",
       "      <td>-0.021</td>\n",
       "      <td>0.569</td>\n",
       "    </tr>\n",
       "    <tr>\n",
       "      <th>Version</th>\n",
       "      <td>-0.021</td>\n",
       "      <td>1.000</td>\n",
       "      <td>0.145</td>\n",
       "    </tr>\n",
       "    <tr>\n",
       "      <th>Total_sizeMB</th>\n",
       "      <td>0.569</td>\n",
       "      <td>0.145</td>\n",
       "      <td>1.000</td>\n",
       "    </tr>\n",
       "  </tbody>\n",
       "</table>\n",
       "</div>"
      ],
      "text/plain": [
       "              SizeMB  Version  Total_sizeMB\n",
       "SizeMB         1.000   -0.021         0.569\n",
       "Version       -0.021    1.000         0.145\n",
       "Total_sizeMB   0.569    0.145         1.000"
      ]
     },
     "execution_count": 19,
     "metadata": {},
     "output_type": "execute_result"
    }
   ],
   "source": [
    "df[df['File_type']=='Presentation'].corr()"
   ]
  },
  {
   "cell_type": "code",
   "execution_count": 20,
   "metadata": {},
   "outputs": [
    {
     "data": {
      "text/html": [
       "<div>\n",
       "<style scoped>\n",
       "    .dataframe tbody tr th:only-of-type {\n",
       "        vertical-align: middle;\n",
       "    }\n",
       "\n",
       "    .dataframe tbody tr th {\n",
       "        vertical-align: top;\n",
       "    }\n",
       "\n",
       "    .dataframe thead th {\n",
       "        text-align: right;\n",
       "    }\n",
       "</style>\n",
       "<table border=\"1\" class=\"dataframe\">\n",
       "  <thead>\n",
       "    <tr style=\"text-align: right;\">\n",
       "      <th></th>\n",
       "      <th>SizeMB</th>\n",
       "      <th>Version</th>\n",
       "      <th>Total_sizeMB</th>\n",
       "    </tr>\n",
       "  </thead>\n",
       "  <tbody>\n",
       "    <tr>\n",
       "      <th>SizeMB</th>\n",
       "      <td>55.752</td>\n",
       "      <td>-0.697</td>\n",
       "      <td>184.504</td>\n",
       "    </tr>\n",
       "    <tr>\n",
       "      <th>Version</th>\n",
       "      <td>-0.697</td>\n",
       "      <td>132.229</td>\n",
       "      <td>168.422</td>\n",
       "    </tr>\n",
       "    <tr>\n",
       "      <th>Total_sizeMB</th>\n",
       "      <td>184.504</td>\n",
       "      <td>168.422</td>\n",
       "      <td>3102.695</td>\n",
       "    </tr>\n",
       "  </tbody>\n",
       "</table>\n",
       "</div>"
      ],
      "text/plain": [
       "              SizeMB  Version  Total_sizeMB\n",
       "SizeMB        55.752   -0.697       184.504\n",
       "Version       -0.697  132.229       168.422\n",
       "Total_sizeMB 184.504  168.422      3102.695"
      ]
     },
     "execution_count": 20,
     "metadata": {},
     "output_type": "execute_result"
    }
   ],
   "source": [
    "df[df['File_type']=='Worksheet'].cov()"
   ]
  },
  {
   "cell_type": "code",
   "execution_count": 21,
   "metadata": {},
   "outputs": [
    {
     "data": {
      "text/html": [
       "<div>\n",
       "<style scoped>\n",
       "    .dataframe tbody tr th:only-of-type {\n",
       "        vertical-align: middle;\n",
       "    }\n",
       "\n",
       "    .dataframe tbody tr th {\n",
       "        vertical-align: top;\n",
       "    }\n",
       "\n",
       "    .dataframe thead th {\n",
       "        text-align: right;\n",
       "    }\n",
       "</style>\n",
       "<table border=\"1\" class=\"dataframe\">\n",
       "  <thead>\n",
       "    <tr style=\"text-align: right;\">\n",
       "      <th></th>\n",
       "      <th>SizeMB</th>\n",
       "      <th>Version</th>\n",
       "      <th>Total_sizeMB</th>\n",
       "    </tr>\n",
       "  </thead>\n",
       "  <tbody>\n",
       "    <tr>\n",
       "      <th>SizeMB</th>\n",
       "      <td>1.000</td>\n",
       "      <td>-0.008</td>\n",
       "      <td>0.444</td>\n",
       "    </tr>\n",
       "    <tr>\n",
       "      <th>Version</th>\n",
       "      <td>-0.008</td>\n",
       "      <td>1.000</td>\n",
       "      <td>0.263</td>\n",
       "    </tr>\n",
       "    <tr>\n",
       "      <th>Total_sizeMB</th>\n",
       "      <td>0.444</td>\n",
       "      <td>0.263</td>\n",
       "      <td>1.000</td>\n",
       "    </tr>\n",
       "  </tbody>\n",
       "</table>\n",
       "</div>"
      ],
      "text/plain": [
       "              SizeMB  Version  Total_sizeMB\n",
       "SizeMB         1.000   -0.008         0.444\n",
       "Version       -0.008    1.000         0.263\n",
       "Total_sizeMB   0.444    0.263         1.000"
      ]
     },
     "execution_count": 21,
     "metadata": {},
     "output_type": "execute_result"
    }
   ],
   "source": [
    "df[df['File_type']=='Worksheet'].corr()"
   ]
  },
  {
   "cell_type": "code",
   "execution_count": 15,
   "metadata": {},
   "outputs": [
    {
     "data": {
      "text/html": [
       "<div>\n",
       "<style scoped>\n",
       "    .dataframe tbody tr th:only-of-type {\n",
       "        vertical-align: middle;\n",
       "    }\n",
       "\n",
       "    .dataframe tbody tr th {\n",
       "        vertical-align: top;\n",
       "    }\n",
       "\n",
       "    .dataframe thead th {\n",
       "        text-align: right;\n",
       "    }\n",
       "</style>\n",
       "<table border=\"1\" class=\"dataframe\">\n",
       "  <thead>\n",
       "    <tr style=\"text-align: right;\">\n",
       "      <th></th>\n",
       "      <th>SizeMB</th>\n",
       "      <th>Version</th>\n",
       "      <th>Total_sizeMB</th>\n",
       "    </tr>\n",
       "  </thead>\n",
       "  <tbody>\n",
       "    <tr>\n",
       "      <th>SizeMB</th>\n",
       "      <td>1.000</td>\n",
       "      <td>-0.006</td>\n",
       "      <td>0.475</td>\n",
       "    </tr>\n",
       "    <tr>\n",
       "      <th>Version</th>\n",
       "      <td>-0.006</td>\n",
       "      <td>1.000</td>\n",
       "      <td>0.225</td>\n",
       "    </tr>\n",
       "    <tr>\n",
       "      <th>Total_sizeMB</th>\n",
       "      <td>0.475</td>\n",
       "      <td>0.225</td>\n",
       "      <td>1.000</td>\n",
       "    </tr>\n",
       "  </tbody>\n",
       "</table>\n",
       "</div>"
      ],
      "text/plain": [
       "              SizeMB  Version  Total_sizeMB\n",
       "SizeMB         1.000   -0.006         0.475\n",
       "Version       -0.006    1.000         0.225\n",
       "Total_sizeMB   0.475    0.225         1.000"
      ]
     },
     "execution_count": 15,
     "metadata": {},
     "output_type": "execute_result"
    }
   ],
   "source": [
    "#And we get a table with the correlations among files\n",
    "df.corr()"
   ]
  },
  {
   "cell_type": "code",
   "execution_count": 24,
   "metadata": {},
   "outputs": [],
   "source": [
    "#Finally, as it will be useful for later to concentrate the analysis in files with low value,\n",
    "#we will create a dataframe with documents having a version below 15\n",
    "df_lowV = df[(df.Version <= 15)].copy()"
   ]
  },
  {
   "cell_type": "code",
   "execution_count": 25,
   "metadata": {},
   "outputs": [
    {
     "data": {
      "text/html": [
       "<div>\n",
       "<style scoped>\n",
       "    .dataframe tbody tr th:only-of-type {\n",
       "        vertical-align: middle;\n",
       "    }\n",
       "\n",
       "    .dataframe tbody tr th {\n",
       "        vertical-align: top;\n",
       "    }\n",
       "\n",
       "    .dataframe thead th {\n",
       "        text-align: right;\n",
       "    }\n",
       "</style>\n",
       "<table border=\"1\" class=\"dataframe\">\n",
       "  <thead>\n",
       "    <tr style=\"text-align: right;\">\n",
       "      <th></th>\n",
       "      <th>File_type</th>\n",
       "      <th>Service</th>\n",
       "      <th>SizeMB</th>\n",
       "      <th>Version</th>\n",
       "      <th>Total_sizeMB</th>\n",
       "      <th>Created</th>\n",
       "      <th>Last_modified</th>\n",
       "      <th>Working_days</th>\n",
       "    </tr>\n",
       "  </thead>\n",
       "  <tbody>\n",
       "    <tr>\n",
       "      <th>0</th>\n",
       "      <td>Textual</td>\n",
       "      <td>ASSIST</td>\n",
       "      <td>0.120</td>\n",
       "      <td>1</td>\n",
       "      <td>0.240</td>\n",
       "      <td>2014-08-20</td>\n",
       "      <td>2014-08-20</td>\n",
       "      <td>0 days</td>\n",
       "    </tr>\n",
       "    <tr>\n",
       "      <th>1</th>\n",
       "      <td>Textual</td>\n",
       "      <td>ASSIST</td>\n",
       "      <td>0.530</td>\n",
       "      <td>1</td>\n",
       "      <td>0.530</td>\n",
       "      <td>2014-08-20</td>\n",
       "      <td>2014-08-20</td>\n",
       "      <td>0 days</td>\n",
       "    </tr>\n",
       "    <tr>\n",
       "      <th>2</th>\n",
       "      <td>Textual</td>\n",
       "      <td>ASSIST</td>\n",
       "      <td>0.260</td>\n",
       "      <td>1</td>\n",
       "      <td>0.510</td>\n",
       "      <td>2014-08-18</td>\n",
       "      <td>2014-08-20</td>\n",
       "      <td>2 days</td>\n",
       "    </tr>\n",
       "    <tr>\n",
       "      <th>3</th>\n",
       "      <td>Textual</td>\n",
       "      <td>ASSIST</td>\n",
       "      <td>0.090</td>\n",
       "      <td>1</td>\n",
       "      <td>0.530</td>\n",
       "      <td>2014-08-11</td>\n",
       "      <td>2014-08-20</td>\n",
       "      <td>9 days</td>\n",
       "    </tr>\n",
       "    <tr>\n",
       "      <th>4</th>\n",
       "      <td>Textual</td>\n",
       "      <td>ASSIST</td>\n",
       "      <td>0.170</td>\n",
       "      <td>1</td>\n",
       "      <td>0.520</td>\n",
       "      <td>2014-08-11</td>\n",
       "      <td>2014-08-20</td>\n",
       "      <td>9 days</td>\n",
       "    </tr>\n",
       "    <tr>\n",
       "      <th>...</th>\n",
       "      <td>...</td>\n",
       "      <td>...</td>\n",
       "      <td>...</td>\n",
       "      <td>...</td>\n",
       "      <td>...</td>\n",
       "      <td>...</td>\n",
       "      <td>...</td>\n",
       "      <td>...</td>\n",
       "    </tr>\n",
       "    <tr>\n",
       "      <th>106675</th>\n",
       "      <td>Presentation</td>\n",
       "      <td>FAD</td>\n",
       "      <td>1.460</td>\n",
       "      <td>1</td>\n",
       "      <td>1.460</td>\n",
       "      <td>2020-09-04</td>\n",
       "      <td>2020-09-04</td>\n",
       "      <td>0 days</td>\n",
       "    </tr>\n",
       "    <tr>\n",
       "      <th>106676</th>\n",
       "      <td>Worksheet</td>\n",
       "      <td>FAD</td>\n",
       "      <td>0.070</td>\n",
       "      <td>2</td>\n",
       "      <td>0.220</td>\n",
       "      <td>2020-09-04</td>\n",
       "      <td>2020-09-04</td>\n",
       "      <td>0 days</td>\n",
       "    </tr>\n",
       "    <tr>\n",
       "      <th>106678</th>\n",
       "      <td>Worksheet</td>\n",
       "      <td>FAD</td>\n",
       "      <td>1.310</td>\n",
       "      <td>9</td>\n",
       "      <td>11.180</td>\n",
       "      <td>2020-08-14</td>\n",
       "      <td>2020-09-04</td>\n",
       "      <td>21 days</td>\n",
       "    </tr>\n",
       "    <tr>\n",
       "      <th>106680</th>\n",
       "      <td>Worksheet</td>\n",
       "      <td>FAD</td>\n",
       "      <td>0.050</td>\n",
       "      <td>1</td>\n",
       "      <td>0.050</td>\n",
       "      <td>2020-09-04</td>\n",
       "      <td>2020-09-04</td>\n",
       "      <td>0 days</td>\n",
       "    </tr>\n",
       "    <tr>\n",
       "      <th>106685</th>\n",
       "      <td>Presentation</td>\n",
       "      <td>FAD</td>\n",
       "      <td>1.440</td>\n",
       "      <td>5</td>\n",
       "      <td>49.540</td>\n",
       "      <td>2020-08-28</td>\n",
       "      <td>2020-09-04</td>\n",
       "      <td>7 days</td>\n",
       "    </tr>\n",
       "  </tbody>\n",
       "</table>\n",
       "<p>104694 rows × 8 columns</p>\n",
       "</div>"
      ],
      "text/plain": [
       "           File_type Service  SizeMB  Version  Total_sizeMB    Created  \\\n",
       "0            Textual  ASSIST   0.120        1         0.240 2014-08-20   \n",
       "1            Textual  ASSIST   0.530        1         0.530 2014-08-20   \n",
       "2            Textual  ASSIST   0.260        1         0.510 2014-08-18   \n",
       "3            Textual  ASSIST   0.090        1         0.530 2014-08-11   \n",
       "4            Textual  ASSIST   0.170        1         0.520 2014-08-11   \n",
       "...              ...     ...     ...      ...           ...        ...   \n",
       "106675  Presentation     FAD   1.460        1         1.460 2020-09-04   \n",
       "106676     Worksheet     FAD   0.070        2         0.220 2020-09-04   \n",
       "106678     Worksheet     FAD   1.310        9        11.180 2020-08-14   \n",
       "106680     Worksheet     FAD   0.050        1         0.050 2020-09-04   \n",
       "106685  Presentation     FAD   1.440        5        49.540 2020-08-28   \n",
       "\n",
       "       Last_modified Working_days  \n",
       "0         2014-08-20       0 days  \n",
       "1         2014-08-20       0 days  \n",
       "2         2014-08-20       2 days  \n",
       "3         2014-08-20       9 days  \n",
       "4         2014-08-20       9 days  \n",
       "...              ...          ...  \n",
       "106675    2020-09-04       0 days  \n",
       "106676    2020-09-04       0 days  \n",
       "106678    2020-09-04      21 days  \n",
       "106680    2020-09-04       0 days  \n",
       "106685    2020-09-04       7 days  \n",
       "\n",
       "[104694 rows x 8 columns]"
      ]
     },
     "execution_count": 25,
     "metadata": {},
     "output_type": "execute_result"
    }
   ],
   "source": [
    "#And we check the result:\n",
    "df_lowV"
   ]
  },
  {
   "cell_type": "markdown",
   "metadata": {},
   "source": [
    "### 2. Descriptive plotting:\n",
    "Here we will run a series of graphics to have a first overview of our data. In particular:\n",
    "- We will do a scatter plow of all document Versions together, in relation with the total size, for both the total dataframe and the one with low versions (Below 15)\n",
    "- We will plot other graphs to have better visualisations of the insights of our data"
   ]
  },
  {
   "cell_type": "code",
   "execution_count": 22,
   "metadata": {},
   "outputs": [
    {
     "data": {
      "image/png": "[encoded data removed]",
      "text/plain": [
       "<Figure size 576x432 with 1 Axes>"
      ]
     },
     "metadata": {
      "needs_background": "light"
     },
     "output_type": "display_data"
    }
   ],
   "source": [
    "#scatter plow\n",
    "ax =df.plot(x='Version', y='Total_sizeMB', marker=\"o\" , linestyle='None', figsize=(8,6))\n",
    "plt.legend()\n",
    "plt.show()"
   ]
  },
  {
   "cell_type": "code",
   "execution_count": 26,
   "metadata": {},
   "outputs": [
    {
     "data": {
      "image/png": "[encoded data removed]",
      "text/plain": [
       "<Figure size 576x432 with 1 Axes>"
      ]
     },
     "metadata": {
      "needs_background": "light"
     },
     "output_type": "display_data"
    }
   ],
   "source": [
    "#We do the same with the low version dataframe\n",
    "ax =df_lowV.plot(x='Version', y='Total_sizeMB', marker=\"o\" , linestyle='None', figsize=(8,6))\n",
    "plt.legend()\n",
    "plt.show()"
   ]
  },
  {
   "cell_type": "code",
   "execution_count": 29,
   "metadata": {},
   "outputs": [
    {
     "data": {
      "image/png": "[encoded data removed]",
      "text/plain": [
       "<Figure size 576x432 with 1 Axes>"
      ]
     },
     "metadata": {
      "needs_background": "light"
     },
     "output_type": "display_data"
    }
   ],
   "source": [
    "ax =df_lowV.plot(x='Version', y='Working_days',marker=\"o\", linestyle='None',figsize=(8,6))\n",
    "plt.legend()\n",
    "plt.show()"
   ]
  },
  {
   "cell_type": "code",
   "execution_count": 30,
   "metadata": {},
   "outputs": [
    {
     "data": {
      "image/png": "[encoded data removed]",
      "text/plain": [
       "<Figure size 576x1440 with 1 Axes>"
      ]
     },
     "metadata": {
      "needs_background": "light"
     },
     "output_type": "display_data"
    }
   ],
   "source": [
    "# we do the same in relation with the file type and the Version\n",
    "plt.figure(figsize=(8,20))\n",
    "sns.violinplot(data=df, y='Version', x='File_type');"
   ]
  },
  {
   "cell_type": "code",
   "execution_count": 31,
   "metadata": {},
   "outputs": [
    {
     "data": {
      "image/png": "[encoded data removed]",
      "text/plain": [
       "<Figure size 864x576 with 1 Axes>"
      ]
     },
     "metadata": {
      "needs_background": "light"
     },
     "output_type": "display_data"
    }
   ],
   "source": [
    "#and we plot the same violin but with low version files\n",
    "plt.figure(figsize=(12,8))\n",
    "sns.violinplot(data=df_lowV, y='File_type', x='Version');"
   ]
  },
  {
   "cell_type": "code",
   "execution_count": 32,
   "metadata": {},
   "outputs": [
    {
     "data": {
      "text/plain": [
       "<AxesSubplot:xlabel='Service', ylabel='Version'>"
      ]
     },
     "execution_count": 32,
     "metadata": {},
     "output_type": "execute_result"
    },
    {
     "data": {
      "image/png": "[encoded data removed]",
      "text/plain": [
       "<Figure size 432x288 with 1 Axes>"
      ]
     },
     "metadata": {
      "needs_background": "light"
     },
     "output_type": "display_data"
    }
   ],
   "source": [
    "#a barplot having Version distribution, file types, by service\n",
    "sns.barplot(data = df, x='Service', y='Version', hue='File_type')"
   ]
  },
  {
   "cell_type": "code",
   "execution_count": 35,
   "metadata": {},
   "outputs": [
    {
     "data": {
      "text/plain": [
       "<AxesSubplot:xlabel='Total_sizeMB', ylabel='Version'>"
      ]
     },
     "execution_count": 35,
     "metadata": {},
     "output_type": "execute_result"
    },
    {
     "data": {
      "image/png": "[encoded data removed]",
      "text/plain": [
       "<Figure size 1080x1080 with 1 Axes>"
      ]
     },
     "metadata": {
      "needs_background": "light"
     },
     "output_type": "display_data"
    }
   ],
   "source": [
    "#we do a scatterflow with the size of files and its version, by service\n",
    "plt.figure(figsize=(15,15))\n",
    "sns.scatterplot(data=df, x=\"Total_sizeMB\", y=\"Version\", hue=\"Service\")"
   ]
  },
  {
   "cell_type": "code",
   "execution_count": 36,
   "metadata": {},
   "outputs": [
    {
     "data": {
      "text/plain": [
       "<AxesSubplot:xlabel='Total_sizeMB', ylabel='Version'>"
      ]
     },
     "execution_count": 36,
     "metadata": {},
     "output_type": "execute_result"
    },
    {
     "data": {
      "image/png": "[encoded data removed]",
      "text/plain": [
       "<Figure size 1080x1080 with 1 Axes>"
      ]
     },
     "metadata": {
      "needs_background": "light"
     },
     "output_type": "display_data"
    }
   ],
   "source": [
    "#and the same with file types\n",
    "plt.figure(figsize=(15,15))\n",
    "sns.scatterplot(data=df, x=\"Total_sizeMB\", y=\"Version\", hue=\"File_type\")"
   ]
  },
  {
   "cell_type": "code",
   "execution_count": 37,
   "metadata": {},
   "outputs": [
    {
     "data": {
      "image/png": "[encoded data removed]",
      "text/plain": [
       "<Figure size 864x864 with 1 Axes>"
      ]
     },
     "metadata": {
      "needs_background": "light"
     },
     "output_type": "display_data"
    }
   ],
   "source": [
    "# We want to see if there is a relation in the working days and the number of versions\n",
    "ax =df.plot(x='Version', y='Working_days', marker=\"o\" , linestyle='None', figsize=(12,12))\n",
    "plt.legend()\n",
    "plt.show()"
   ]
  },
  {
   "cell_type": "markdown",
   "metadata": {},
   "source": [
    "### 3. Answering our question:\n",
    "We want to assess how people collaborate at ICRC, in general, and by type of service. As a reminder, we have the following services:\n",
    "- FAD (Finance and Administration) responsible for finances\n",
    "- REM (Ressources Mobilisation) responsible for fundraising\n",
    "- PROT (Protection) responsible for humanitarian protection response\n",
    "- ASSIST (Assistance) responsible for humanitarian assistance response\n",
    "- PRES (Presidency) responsible for the leadership of the institution.\n",
    "The first two services (FAD and REM) are administrative services. PROT and ASSIST are operational services where the last one is a political body.\n",
    "\n",
    "For what we have seen in our graphics, our distribution of Version history seems to be not normal, probably a poisson distribution. We can check that this is the case and then use a p-value to assess the probability of reachen a given version number. The higher the probability, the higher the collaboration among colleagues."
   ]
  },
  {
   "cell_type": "code",
   "execution_count": 47,
   "metadata": {},
   "outputs": [
    {
     "data": {
      "image/png": "[encoded data removed]",
      "text/plain": [
       "<Figure size 1440x864 with 1 Axes>"
      ]
     },
     "metadata": {
      "needs_background": "light"
     },
     "output_type": "display_data"
    }
   ],
   "source": [
    "#When we plot our version histogram it looks it has a poisson distribution\n",
    "#We saw above that the versions range from 1 to 511. Let's represent all of them:\n",
    "ax = df['Version'].plot(bins=511,range=(1,511), kind=\"hist\",fill=True,histtype='step',label='Version number', figsize=(20,12))\n",
    "ax.set_xlabel('Version number')\n",
    "plt.legend()\n",
    "plt.show()"
   ]
  },
  {
   "cell_type": "code",
   "execution_count": 48,
   "metadata": {},
   "outputs": [
    {
     "data": {
      "image/png": "[encoded data removed]",
      "text/plain": [
       "<Figure size 432x288 with 1 Axes>"
      ]
     },
     "metadata": {
      "needs_background": "light"
     },
     "output_type": "display_data"
    }
   ],
   "source": [
    "#As we saw before, most values are at the early versions. \n",
    "#Let's focus at those first values and represent only the 15 most common occurences:\n",
    "ax = df['Version'].plot(bins=15,range=(1,15), kind=\"hist\",fill=True,histtype='step',label='Version number')\n",
    "ax.set_xlabel('Version number')\n",
    "plt.legend()\n",
    "plt.show()"
   ]
  },
  {
   "cell_type": "code",
   "execution_count": 50,
   "metadata": {},
   "outputs": [
    {
     "data": {
      "text/html": [
       "<div>\n",
       "<style scoped>\n",
       "    .dataframe tbody tr th:only-of-type {\n",
       "        vertical-align: middle;\n",
       "    }\n",
       "\n",
       "    .dataframe tbody tr th {\n",
       "        vertical-align: top;\n",
       "    }\n",
       "\n",
       "    .dataframe thead th {\n",
       "        text-align: right;\n",
       "    }\n",
       "</style>\n",
       "<table border=\"1\" class=\"dataframe\">\n",
       "  <thead>\n",
       "    <tr style=\"text-align: right;\">\n",
       "      <th></th>\n",
       "      <th>SizeMB</th>\n",
       "      <th>Version</th>\n",
       "      <th>Total_sizeMB</th>\n",
       "      <th>Working_days</th>\n",
       "    </tr>\n",
       "  </thead>\n",
       "  <tbody>\n",
       "    <tr>\n",
       "      <th>count</th>\n",
       "      <td>104694.000</td>\n",
       "      <td>104694.000</td>\n",
       "      <td>104694.000</td>\n",
       "      <td>104694</td>\n",
       "    </tr>\n",
       "    <tr>\n",
       "      <th>mean</th>\n",
       "      <td>1.377</td>\n",
       "      <td>1.997</td>\n",
       "      <td>3.983</td>\n",
       "      <td>80 days 13:19:15.160754199</td>\n",
       "    </tr>\n",
       "    <tr>\n",
       "      <th>std</th>\n",
       "      <td>7.439</td>\n",
       "      <td>1.952</td>\n",
       "      <td>29.133</td>\n",
       "      <td>168 days 07:54:27.678304978</td>\n",
       "    </tr>\n",
       "    <tr>\n",
       "      <th>min</th>\n",
       "      <td>0.000</td>\n",
       "      <td>1.000</td>\n",
       "      <td>0.000</td>\n",
       "      <td>0 days 00:00:00</td>\n",
       "    </tr>\n",
       "    <tr>\n",
       "      <th>25%</th>\n",
       "      <td>0.040</td>\n",
       "      <td>1.000</td>\n",
       "      <td>0.060</td>\n",
       "      <td>0 days 00:00:00</td>\n",
       "    </tr>\n",
       "    <tr>\n",
       "      <th>50%</th>\n",
       "      <td>0.070</td>\n",
       "      <td>1.000</td>\n",
       "      <td>0.160</td>\n",
       "      <td>0 days 00:00:00</td>\n",
       "    </tr>\n",
       "    <tr>\n",
       "      <th>75%</th>\n",
       "      <td>0.270</td>\n",
       "      <td>2.000</td>\n",
       "      <td>0.630</td>\n",
       "      <td>56 days 00:00:00</td>\n",
       "    </tr>\n",
       "    <tr>\n",
       "      <th>max</th>\n",
       "      <td>249.410</td>\n",
       "      <td>15.000</td>\n",
       "      <td>2964.450</td>\n",
       "      <td>1739 days 00:00:00</td>\n",
       "    </tr>\n",
       "  </tbody>\n",
       "</table>\n",
       "</div>"
      ],
      "text/plain": [
       "          SizeMB    Version  Total_sizeMB                 Working_days\n",
       "count 104694.000 104694.000    104694.000                       104694\n",
       "mean       1.377      1.997         3.983   80 days 13:19:15.160754199\n",
       "std        7.439      1.952        29.133  168 days 07:54:27.678304978\n",
       "min        0.000      1.000         0.000              0 days 00:00:00\n",
       "25%        0.040      1.000         0.060              0 days 00:00:00\n",
       "50%        0.070      1.000         0.160              0 days 00:00:00\n",
       "75%        0.270      2.000         0.630             56 days 00:00:00\n",
       "max      249.410     15.000      2964.450           1739 days 00:00:00"
      ]
     },
     "execution_count": 50,
     "metadata": {},
     "output_type": "execute_result"
    }
   ],
   "source": [
    "#I get the basic statistical information from my Low Version dataframe:\n",
    "df_lowV.describe()"
   ]
  },
  {
   "cell_type": "code",
   "execution_count": 51,
   "metadata": {},
   "outputs": [
    {
     "data": {
      "text/plain": [
       "SizeMB          55.336\n",
       "Version          3.809\n",
       "Total_sizeMB   848.738\n",
       "dtype: float64"
      ]
     },
     "execution_count": 51,
     "metadata": {},
     "output_type": "execute_result"
    }
   ],
   "source": [
    "#We have to check it has a Poisson distribution. In a Poisson, Variance and Mean are equal\n",
    "#Let's check that Variance = 1.997 (our mean) to see if we are in such a case:\n",
    "df_lowV.var()"
   ]
  },
  {
   "cell_type": "markdown",
   "metadata": {},
   "source": [
    "### Probability\n",
    "We have discovered that our dataframe is not poisson distributed. We cannot use the poisson.pmf formula existing in scipy to calculate our probability\n",
    "Let's get the probability of getting at least a version 3. This number will be obtain by suming the probabilities of all versions above and including 3"
   ]
  },
  {
   "cell_type": "code",
   "execution_count": 52,
   "metadata": {},
   "outputs": [],
   "source": [
    "#I calculate the probability of getting a version in my dataframe\n",
    "df['Pro'] = df.Version.map(df.Version.value_counts(normalize=True)).copy()"
   ]
  },
  {
   "cell_type": "code",
   "execution_count": 53,
   "metadata": {},
   "outputs": [
    {
     "data": {
      "text/html": [
       "<div>\n",
       "<style scoped>\n",
       "    .dataframe tbody tr th:only-of-type {\n",
       "        vertical-align: middle;\n",
       "    }\n",
       "\n",
       "    .dataframe tbody tr th {\n",
       "        vertical-align: top;\n",
       "    }\n",
       "\n",
       "    .dataframe thead th {\n",
       "        text-align: right;\n",
       "    }\n",
       "</style>\n",
       "<table border=\"1\" class=\"dataframe\">\n",
       "  <thead>\n",
       "    <tr style=\"text-align: right;\">\n",
       "      <th></th>\n",
       "      <th>Version</th>\n",
       "      <th>Pro</th>\n",
       "    </tr>\n",
       "  </thead>\n",
       "  <tbody>\n",
       "    <tr>\n",
       "      <th>0</th>\n",
       "      <td>1</td>\n",
       "      <td>0.589</td>\n",
       "    </tr>\n",
       "    <tr>\n",
       "      <th>12</th>\n",
       "      <td>2</td>\n",
       "      <td>0.196</td>\n",
       "    </tr>\n",
       "    <tr>\n",
       "      <th>91</th>\n",
       "      <td>4</td>\n",
       "      <td>0.041</td>\n",
       "    </tr>\n",
       "    <tr>\n",
       "      <th>96</th>\n",
       "      <td>6</td>\n",
       "      <td>0.016</td>\n",
       "    </tr>\n",
       "    <tr>\n",
       "      <th>97</th>\n",
       "      <td>3</td>\n",
       "      <td>0.078</td>\n",
       "    </tr>\n",
       "    <tr>\n",
       "      <th>...</th>\n",
       "      <td>...</td>\n",
       "      <td>...</td>\n",
       "    </tr>\n",
       "    <tr>\n",
       "      <th>106661</th>\n",
       "      <td>238</td>\n",
       "      <td>0.000</td>\n",
       "    </tr>\n",
       "    <tr>\n",
       "      <th>106672</th>\n",
       "      <td>159</td>\n",
       "      <td>0.000</td>\n",
       "    </tr>\n",
       "    <tr>\n",
       "      <th>106677</th>\n",
       "      <td>156</td>\n",
       "      <td>0.000</td>\n",
       "    </tr>\n",
       "    <tr>\n",
       "      <th>106679</th>\n",
       "      <td>136</td>\n",
       "      <td>0.000</td>\n",
       "    </tr>\n",
       "    <tr>\n",
       "      <th>106681</th>\n",
       "      <td>144</td>\n",
       "      <td>0.000</td>\n",
       "    </tr>\n",
       "  </tbody>\n",
       "</table>\n",
       "<p>177 rows × 2 columns</p>\n",
       "</div>"
      ],
      "text/plain": [
       "        Version   Pro\n",
       "0             1 0.589\n",
       "12            2 0.196\n",
       "91            4 0.041\n",
       "96            6 0.016\n",
       "97            3 0.078\n",
       "...         ...   ...\n",
       "106661      238 0.000\n",
       "106672      159 0.000\n",
       "106677      156 0.000\n",
       "106679      136 0.000\n",
       "106681      144 0.000\n",
       "\n",
       "[177 rows x 2 columns]"
      ]
     },
     "execution_count": 53,
     "metadata": {},
     "output_type": "execute_result"
    }
   ],
   "source": [
    "#I get rid of the duplicates to get the probability of each version\n",
    "df_Pro=df[['Version', 'Pro']].drop_duplicates(subset=['Version']).copy()\n",
    "df_Pro"
   ]
  },
  {
   "cell_type": "code",
   "execution_count": 54,
   "metadata": {},
   "outputs": [
    {
     "data": {
      "text/html": [
       "<div>\n",
       "<style scoped>\n",
       "    .dataframe tbody tr th:only-of-type {\n",
       "        vertical-align: middle;\n",
       "    }\n",
       "\n",
       "    .dataframe tbody tr th {\n",
       "        vertical-align: top;\n",
       "    }\n",
       "\n",
       "    .dataframe thead th {\n",
       "        text-align: right;\n",
       "    }\n",
       "</style>\n",
       "<table border=\"1\" class=\"dataframe\">\n",
       "  <thead>\n",
       "    <tr style=\"text-align: right;\">\n",
       "      <th></th>\n",
       "      <th>Version</th>\n",
       "      <th>Pro</th>\n",
       "    </tr>\n",
       "  </thead>\n",
       "  <tbody>\n",
       "    <tr>\n",
       "      <th>0</th>\n",
       "      <td>1</td>\n",
       "      <td>0.589</td>\n",
       "    </tr>\n",
       "    <tr>\n",
       "      <th>12</th>\n",
       "      <td>2</td>\n",
       "      <td>0.196</td>\n",
       "    </tr>\n",
       "    <tr>\n",
       "      <th>97</th>\n",
       "      <td>3</td>\n",
       "      <td>0.078</td>\n",
       "    </tr>\n",
       "    <tr>\n",
       "      <th>91</th>\n",
       "      <td>4</td>\n",
       "      <td>0.041</td>\n",
       "    </tr>\n",
       "    <tr>\n",
       "      <th>185</th>\n",
       "      <td>5</td>\n",
       "      <td>0.024</td>\n",
       "    </tr>\n",
       "    <tr>\n",
       "      <th>...</th>\n",
       "      <td>...</td>\n",
       "      <td>...</td>\n",
       "    </tr>\n",
       "    <tr>\n",
       "      <th>21703</th>\n",
       "      <td>462</td>\n",
       "      <td>0.000</td>\n",
       "    </tr>\n",
       "    <tr>\n",
       "      <th>106345</th>\n",
       "      <td>473</td>\n",
       "      <td>0.000</td>\n",
       "    </tr>\n",
       "    <tr>\n",
       "      <th>76932</th>\n",
       "      <td>501</td>\n",
       "      <td>0.000</td>\n",
       "    </tr>\n",
       "    <tr>\n",
       "      <th>92328</th>\n",
       "      <td>507</td>\n",
       "      <td>0.000</td>\n",
       "    </tr>\n",
       "    <tr>\n",
       "      <th>73691</th>\n",
       "      <td>511</td>\n",
       "      <td>0.000</td>\n",
       "    </tr>\n",
       "  </tbody>\n",
       "</table>\n",
       "<p>177 rows × 2 columns</p>\n",
       "</div>"
      ],
      "text/plain": [
       "        Version   Pro\n",
       "0             1 0.589\n",
       "12            2 0.196\n",
       "97            3 0.078\n",
       "91            4 0.041\n",
       "185           5 0.024\n",
       "...         ...   ...\n",
       "21703       462 0.000\n",
       "106345      473 0.000\n",
       "76932       501 0.000\n",
       "92328       507 0.000\n",
       "73691       511 0.000\n",
       "\n",
       "[177 rows x 2 columns]"
      ]
     },
     "execution_count": 54,
     "metadata": {},
     "output_type": "execute_result"
    }
   ],
   "source": [
    "#I sort the values to have the versions in order\n",
    "df_Pro.sort_values(by=['Version'], inplace=True)\n",
    "df_Pro"
   ]
  },
  {
   "cell_type": "code",
   "execution_count": 55,
   "metadata": {},
   "outputs": [
    {
     "data": {
      "text/plain": [
       "<AxesSubplot:xlabel='Version'>"
      ]
     },
     "execution_count": 55,
     "metadata": {},
     "output_type": "execute_result"
    },
    {
     "data": {
      "image/png": "[encoded data removed]",
      "text/plain": [
       "<Figure size 864x576 with 1 Axes>"
      ]
     },
     "metadata": {
      "needs_background": "light"
     },
     "output_type": "display_data"
    }
   ],
   "source": [
    "#...and I represent it graphically\n",
    "df_Pro.plot(x='Version', y='Pro', figsize=(12,8))"
   ]
  },
  {
   "cell_type": "code",
   "execution_count": 56,
   "metadata": {},
   "outputs": [
    {
     "data": {
      "text/plain": [
       "<AxesSubplot:xlabel='Version'>"
      ]
     },
     "execution_count": 56,
     "metadata": {},
     "output_type": "execute_result"
    },
    {
     "data": {
      "image/png": "[encoded data removed]",
      "text/plain": [
       "<Figure size 864x576 with 1 Axes>"
      ]
     },
     "metadata": {
      "needs_background": "light"
     },
     "output_type": "display_data"
    }
   ],
   "source": [
    "#I do the same graphic, but only with the first 15 Versions\n",
    "df_lowP = df_Pro[(df_Pro.Version <= 15)].copy()\n",
    "#df_lowP\n",
    "df_lowP.plot(x='Version', y='Pro', kind='bar',figsize=(12,8))"
   ]
  },
  {
   "cell_type": "markdown",
   "metadata": {},
   "source": [
    "## From here onwards:\n",
    "- I will do boxplots of the versions by service, to see if they can compare \n",
    "- I will create dataframes by kind of services (Administrative, Operational and Political) to work on them\n",
    "- I will plot histograms of Version by these three kinds, normalised in order to make them comparable\n",
    "- Finally, I will run a mann-withney test by the three kinds of service to see if we can deduce they work differently (i.e., they come from different samples) or not."
   ]
  },
  {
   "cell_type": "code",
   "execution_count": 57,
   "metadata": {},
   "outputs": [
    {
     "data": {
      "text/plain": [
       "<AxesSubplot:xlabel='Version', ylabel='Service'>"
      ]
     },
     "execution_count": 57,
     "metadata": {},
     "output_type": "execute_result"
    },
    {
     "data": {
      "image/png": "[encoded data removed]",
      "text/plain": [
       "<Figure size 1440x360 with 1 Axes>"
      ]
     },
     "metadata": {
      "needs_background": "light"
     },
     "output_type": "display_data"
    }
   ],
   "source": [
    "# Boxplots I'll do a general boxplot, and by kind of service\n",
    "#import seaborn as sns\n",
    "plt.figure(figsize=(20,5))\n",
    "sns.boxplot(data=df, y='Service', x='Version', notch=True)"
   ]
  },
  {
   "cell_type": "code",
   "execution_count": 58,
   "metadata": {
    "scrolled": true
   },
   "outputs": [
    {
     "data": {
      "text/plain": [
       "<AxesSubplot:xlabel='Version', ylabel='Service'>"
      ]
     },
     "execution_count": 58,
     "metadata": {},
     "output_type": "execute_result"
    },
    {
     "data": {
      "image/png": "[encoded data removed]",
      "text/plain": [
       "<Figure size 1440x360 with 1 Axes>"
      ]
     },
     "metadata": {
      "needs_background": "light"
     },
     "output_type": "display_data"
    }
   ],
   "source": [
    "# Boxplots I'll do a general boxplot, and by kind of service\n",
    "plt.figure(figsize=(20,5))\n",
    "sns.boxplot(data=df_lowV, y='Service', x='Version', notch=True)"
   ]
  },
  {
   "cell_type": "markdown",
   "metadata": {},
   "source": [
    "Some conclusions here:\n",
    "- Version is very low in all cases. Above version 4 are outliers for every service. The exception is REM"
   ]
  },
  {
   "cell_type": "code",
   "execution_count": 59,
   "metadata": {},
   "outputs": [],
   "source": [
    "#I will split the dataset (global and low version) in administrative & operational services\n",
    "df_ad = df[(df['Service'] == 'FAD') | (df['Service'] == 'REM')].copy()\n",
    "df_op = df[(df['Service'] == 'PROT') | (df['Service'] == 'ASSIST')].copy()\n",
    "df_po = df[df['Service']=='PRES'].copy()"
   ]
  },
  {
   "cell_type": "code",
   "execution_count": 60,
   "metadata": {},
   "outputs": [
    {
     "data": {
      "text/html": [
       "<div>\n",
       "<style scoped>\n",
       "    .dataframe tbody tr th:only-of-type {\n",
       "        vertical-align: middle;\n",
       "    }\n",
       "\n",
       "    .dataframe tbody tr th {\n",
       "        vertical-align: top;\n",
       "    }\n",
       "\n",
       "    .dataframe thead th {\n",
       "        text-align: right;\n",
       "    }\n",
       "</style>\n",
       "<table border=\"1\" class=\"dataframe\">\n",
       "  <thead>\n",
       "    <tr style=\"text-align: right;\">\n",
       "      <th></th>\n",
       "      <th>File_type</th>\n",
       "      <th>Service</th>\n",
       "      <th>SizeMB</th>\n",
       "      <th>Version</th>\n",
       "      <th>Total_sizeMB</th>\n",
       "      <th>Created</th>\n",
       "      <th>Last_modified</th>\n",
       "      <th>Working_days</th>\n",
       "      <th>Pro</th>\n",
       "    </tr>\n",
       "  </thead>\n",
       "  <tbody>\n",
       "    <tr>\n",
       "      <th>134</th>\n",
       "      <td>Presentation</td>\n",
       "      <td>FAD</td>\n",
       "      <td>1.190</td>\n",
       "      <td>1</td>\n",
       "      <td>1.190</td>\n",
       "      <td>2015-11-11</td>\n",
       "      <td>2015-11-11</td>\n",
       "      <td>0 days</td>\n",
       "      <td>0.589</td>\n",
       "    </tr>\n",
       "    <tr>\n",
       "      <th>135</th>\n",
       "      <td>Worksheet</td>\n",
       "      <td>FAD</td>\n",
       "      <td>0.050</td>\n",
       "      <td>1</td>\n",
       "      <td>0.050</td>\n",
       "      <td>2015-11-11</td>\n",
       "      <td>2015-11-11</td>\n",
       "      <td>0 days</td>\n",
       "      <td>0.589</td>\n",
       "    </tr>\n",
       "    <tr>\n",
       "      <th>136</th>\n",
       "      <td>Textual</td>\n",
       "      <td>FAD</td>\n",
       "      <td>0.040</td>\n",
       "      <td>1</td>\n",
       "      <td>0.040</td>\n",
       "      <td>2015-11-11</td>\n",
       "      <td>2015-11-11</td>\n",
       "      <td>0 days</td>\n",
       "      <td>0.589</td>\n",
       "    </tr>\n",
       "    <tr>\n",
       "      <th>137</th>\n",
       "      <td>Textual</td>\n",
       "      <td>FAD</td>\n",
       "      <td>0.040</td>\n",
       "      <td>8</td>\n",
       "      <td>0.260</td>\n",
       "      <td>2015-11-24</td>\n",
       "      <td>2015-11-26</td>\n",
       "      <td>2 days</td>\n",
       "      <td>0.008</td>\n",
       "    </tr>\n",
       "    <tr>\n",
       "      <th>148</th>\n",
       "      <td>Textual</td>\n",
       "      <td>FAD</td>\n",
       "      <td>0.140</td>\n",
       "      <td>2</td>\n",
       "      <td>0.300</td>\n",
       "      <td>2015-11-11</td>\n",
       "      <td>2015-12-11</td>\n",
       "      <td>30 days</td>\n",
       "      <td>0.196</td>\n",
       "    </tr>\n",
       "    <tr>\n",
       "      <th>...</th>\n",
       "      <td>...</td>\n",
       "      <td>...</td>\n",
       "      <td>...</td>\n",
       "      <td>...</td>\n",
       "      <td>...</td>\n",
       "      <td>...</td>\n",
       "      <td>...</td>\n",
       "      <td>...</td>\n",
       "      <td>...</td>\n",
       "    </tr>\n",
       "    <tr>\n",
       "      <th>106681</th>\n",
       "      <td>Worksheet</td>\n",
       "      <td>FAD</td>\n",
       "      <td>0.090</td>\n",
       "      <td>144</td>\n",
       "      <td>11.530</td>\n",
       "      <td>2020-01-07</td>\n",
       "      <td>2020-09-04</td>\n",
       "      <td>241 days</td>\n",
       "      <td>0.000</td>\n",
       "    </tr>\n",
       "    <tr>\n",
       "      <th>106682</th>\n",
       "      <td>Worksheet</td>\n",
       "      <td>FAD</td>\n",
       "      <td>1.290</td>\n",
       "      <td>136</td>\n",
       "      <td>410.040</td>\n",
       "      <td>2019-12-19</td>\n",
       "      <td>2020-09-04</td>\n",
       "      <td>260 days</td>\n",
       "      <td>0.000</td>\n",
       "    </tr>\n",
       "    <tr>\n",
       "      <th>106683</th>\n",
       "      <td>Worksheet</td>\n",
       "      <td>FAD</td>\n",
       "      <td>0.050</td>\n",
       "      <td>211</td>\n",
       "      <td>9.270</td>\n",
       "      <td>2020-05-25</td>\n",
       "      <td>2020-09-04</td>\n",
       "      <td>102 days</td>\n",
       "      <td>0.000</td>\n",
       "    </tr>\n",
       "    <tr>\n",
       "      <th>106684</th>\n",
       "      <td>Worksheet</td>\n",
       "      <td>FAD</td>\n",
       "      <td>0.620</td>\n",
       "      <td>128</td>\n",
       "      <td>71.460</td>\n",
       "      <td>2020-02-05</td>\n",
       "      <td>2020-09-04</td>\n",
       "      <td>212 days</td>\n",
       "      <td>0.000</td>\n",
       "    </tr>\n",
       "    <tr>\n",
       "      <th>106685</th>\n",
       "      <td>Presentation</td>\n",
       "      <td>FAD</td>\n",
       "      <td>1.440</td>\n",
       "      <td>5</td>\n",
       "      <td>49.540</td>\n",
       "      <td>2020-08-28</td>\n",
       "      <td>2020-09-04</td>\n",
       "      <td>7 days</td>\n",
       "      <td>0.024</td>\n",
       "    </tr>\n",
       "  </tbody>\n",
       "</table>\n",
       "<p>66897 rows × 9 columns</p>\n",
       "</div>"
      ],
      "text/plain": [
       "           File_type Service  SizeMB  Version  Total_sizeMB    Created  \\\n",
       "134     Presentation     FAD   1.190        1         1.190 2015-11-11   \n",
       "135        Worksheet     FAD   0.050        1         0.050 2015-11-11   \n",
       "136          Textual     FAD   0.040        1         0.040 2015-11-11   \n",
       "137          Textual     FAD   0.040        8         0.260 2015-11-24   \n",
       "148          Textual     FAD   0.140        2         0.300 2015-11-11   \n",
       "...              ...     ...     ...      ...           ...        ...   \n",
       "106681     Worksheet     FAD   0.090      144        11.530 2020-01-07   \n",
       "106682     Worksheet     FAD   1.290      136       410.040 2019-12-19   \n",
       "106683     Worksheet     FAD   0.050      211         9.270 2020-05-25   \n",
       "106684     Worksheet     FAD   0.620      128        71.460 2020-02-05   \n",
       "106685  Presentation     FAD   1.440        5        49.540 2020-08-28   \n",
       "\n",
       "       Last_modified Working_days   Pro  \n",
       "134       2015-11-11       0 days 0.589  \n",
       "135       2015-11-11       0 days 0.589  \n",
       "136       2015-11-11       0 days 0.589  \n",
       "137       2015-11-26       2 days 0.008  \n",
       "148       2015-12-11      30 days 0.196  \n",
       "...              ...          ...   ...  \n",
       "106681    2020-09-04     241 days 0.000  \n",
       "106682    2020-09-04     260 days 0.000  \n",
       "106683    2020-09-04     102 days 0.000  \n",
       "106684    2020-09-04     212 days 0.000  \n",
       "106685    2020-09-04       7 days 0.024  \n",
       "\n",
       "[66897 rows x 9 columns]"
      ]
     },
     "execution_count": 60,
     "metadata": {},
     "output_type": "execute_result"
    }
   ],
   "source": [
    "#I check that it worked\n",
    "df_ad"
   ]
  },
  {
   "cell_type": "code",
   "execution_count": 61,
   "metadata": {},
   "outputs": [],
   "source": [
    "#I will do the same with our \"low version\" dataset\n",
    "df_ad_LowV = df_lowV[(df_lowV['Service'] == 'FAD') | (df_lowV['Service'] == 'REM')].copy()\n",
    "df_op_LowV = df_lowV[(df_lowV['Service'] == 'PROT') | (df_lowV['Service'] == 'ASSIST')].copy()\n",
    "df_po_LowV = df_lowV[df_lowV['Service']=='PRES'].copy()"
   ]
  },
  {
   "cell_type": "code",
   "execution_count": 62,
   "metadata": {},
   "outputs": [],
   "source": [
    "#I will do the same with our \"low version\" dataset, for the file type\n",
    "df_doc_LowV = df_lowV[df_lowV['File_type']=='Textual'].copy()\n",
    "df_ppt_LowV = df_lowV[df_lowV['File_type']=='Presentation'].copy()\n",
    "df_xls_LowV = df_lowV[df_lowV['File_type']=='Worksheet'].copy()"
   ]
  },
  {
   "cell_type": "code",
   "execution_count": 63,
   "metadata": {},
   "outputs": [
    {
     "data": {
      "image/png": "[encoded data removed]",
      "text/plain": [
       "<Figure size 1440x576 with 1 Axes>"
      ]
     },
     "metadata": {
      "needs_background": "light"
     },
     "output_type": "display_data"
    }
   ],
   "source": [
    "#I will represent the distribution of Versions for both dataframes\n",
    "#since the number of documents (observations) is different, I will normalise the graph to be able to compare\n",
    "df_ad['Version'].plot(bins=511,range=(1,511),kind=\"hist\",fill=True,histtype='step',label='Adm', density=True, figsize=(20,8))\n",
    "df_op['Version'].plot(bins=511,range=(1,511),kind=\"hist\",fill=False,histtype='step',label='Op', density=True, figsize=(20,8))\n",
    "plt.legend()\n",
    "plt.show()"
   ]
  },
  {
   "cell_type": "markdown",
   "metadata": {},
   "source": [
    "No surprise that this is almost impossible to read. But we gess some differences... Let's focus again in the lower versions"
   ]
  },
  {
   "cell_type": "code",
   "execution_count": 64,
   "metadata": {},
   "outputs": [
    {
     "data": {
      "image/png": "[encoded data removed]",
      "text/plain": [
       "<Figure size 1440x576 with 1 Axes>"
      ]
     },
     "metadata": {
      "needs_background": "light"
     },
     "output_type": "display_data"
    }
   ],
   "source": [
    "df_ad_LowV['Version'].plot(bins=15, kind=\"hist\",fill=True,color='skyblue',histtype='step',label='Administrative', density=True, figsize=(20,8))\n",
    "df_op_LowV['Version'].plot(bins=15, kind=\"hist\",fill=False,color='red',histtype='step',label='Operational', density=True, figsize=(20,8))\n",
    "df_po_LowV['Version'].plot(bins=15, kind=\"hist\",fill=False,color='yellow',histtype='step',label='Political', density=True, figsize=(20,8))\n",
    "plt.legend()\n",
    "plt.show()"
   ]
  },
  {
   "cell_type": "code",
   "execution_count": 65,
   "metadata": {},
   "outputs": [
    {
     "data": {
      "image/png": "[encoded data removed]",
      "text/plain": [
       "<Figure size 1440x576 with 1 Axes>"
      ]
     },
     "metadata": {
      "needs_background": "light"
     },
     "output_type": "display_data"
    }
   ],
   "source": [
    "df_doc_LowV['Version'].plot(bins=15, kind=\"hist\",fill=True,color='skyblue',histtype='step',label='Textual', density=True, figsize=(20,8))\n",
    "df_ppt_LowV['Version'].plot(bins=15, kind=\"hist\",fill=False,color='red',histtype='step',label='Presentation', density=True, figsize=(20,8))\n",
    "df_xls_LowV['Version'].plot(bins=15, kind=\"hist\",fill=False,color='yellow',histtype='step',label='Worksheet', density=True, figsize=(20,8))\n",
    "plt.legend()\n",
    "plt.show()"
   ]
  },
  {
   "cell_type": "markdown",
   "metadata": {},
   "source": [
    "Here we see that there might be a difference in the way of working between the three services.\n",
    "Out of the graph, we can see that Administrative and Political documents are closer to each other than Administrative and Operational.\n",
    "If we want to resolve this question (Do service work differently?), we could assume that we have two samples (one is \"Administrative\" and the other is \"Operational\") and those samples are not paired (it is not the same person creating two documents). In this case, the best test to use is the Mann-Whithney test. We will do it with Administrative and Operational data, and finally with Administrative and Political\n",
    "Our null hypothesis H0 is that the distribution of both populations are equal.\n",
    "Our alternative hypothesis H1 is that the distribution of both populations is not equal, thus, there is a difference among them that allows us to conclude that both populations work differently in Sharepoint"
   ]
  },
  {
   "cell_type": "code",
   "execution_count": 66,
   "metadata": {},
   "outputs": [
    {
     "data": {
      "text/plain": [
       "MannwhitneyuResult(statistic=1229811282.0, pvalue=9.849611125021713e-45)"
      ]
     },
     "execution_count": 66,
     "metadata": {},
     "output_type": "execute_result"
    }
   ],
   "source": [
    "#We run the test in the whole population and in the lower version population\n",
    "from scipy import stats\n",
    "stats.mannwhitneyu(df_ad['Version'],df_op['Version'])"
   ]
  },
  {
   "cell_type": "code",
   "execution_count": 67,
   "metadata": {},
   "outputs": [
    {
     "data": {
      "text/plain": [
       "MannwhitneyuResult(statistic=1181174376.0, pvalue=7.460119065756636e-49)"
      ]
     },
     "execution_count": 67,
     "metadata": {},
     "output_type": "execute_result"
    }
   ],
   "source": [
    "stats.mannwhitneyu(df_ad_LowV['Version'],df_op_LowV['Version'])"
   ]
  },
  {
   "cell_type": "markdown",
   "metadata": {},
   "source": [
    "The P value is well below 5% between Operations and Administration in both cases. We can assume that they come from different samples and thus, that they work differently. Let's check the political bodies vs the other two:"
   ]
  },
  {
   "cell_type": "code",
   "execution_count": 68,
   "metadata": {},
   "outputs": [
    {
     "data": {
      "text/plain": [
       "MannwhitneyuResult(statistic=41017173.0, pvalue=0.05460307030360114)"
      ]
     },
     "execution_count": 68,
     "metadata": {},
     "output_type": "execute_result"
    }
   ],
   "source": [
    "#First with the whole population\n",
    "#Political vs Administrative\n",
    "stats.mannwhitneyu(df_po['Version'],df_ad['Version'])"
   ]
  },
  {
   "cell_type": "code",
   "execution_count": 69,
   "metadata": {},
   "outputs": [
    {
     "data": {
      "text/plain": [
       "MannwhitneyuResult(statistic=23612134.5, pvalue=0.04535339094652567)"
      ]
     },
     "execution_count": 69,
     "metadata": {},
     "output_type": "execute_result"
    }
   ],
   "source": [
    "#Political Vs Operational\n",
    "stats.mannwhitneyu(df_po['Version'],df_op['Version'])"
   ]
  },
  {
   "cell_type": "code",
   "execution_count": 70,
   "metadata": {},
   "outputs": [
    {
     "data": {
      "text/plain": [
       "MannwhitneyuResult(statistic=40090773.0, pvalue=0.12925266153495296)"
      ]
     },
     "execution_count": 70,
     "metadata": {},
     "output_type": "execute_result"
    }
   ],
   "source": [
    "#Then with the lower version sample\n",
    "#Political vs Administrative\n",
    "stats.mannwhitneyu(df_po_LowV['Version'],df_ad_LowV['Version'])"
   ]
  },
  {
   "cell_type": "code",
   "execution_count": 71,
   "metadata": {},
   "outputs": [
    {
     "data": {
      "text/plain": [
       "MannwhitneyuResult(statistic=22694611.0, pvalue=0.010051810425034653)"
      ]
     },
     "execution_count": 71,
     "metadata": {},
     "output_type": "execute_result"
    }
   ],
   "source": [
    "#Political vs Operational\n",
    "stats.mannwhitneyu(df_po_LowV['Version'],df_op_LowV['Version'])"
   ]
  },
  {
   "cell_type": "code",
   "execution_count": 72,
   "metadata": {},
   "outputs": [
    {
     "data": {
      "text/plain": [
       "MannwhitneyuResult(statistic=1041806776.0, pvalue=1.1415248285123397e-68)"
      ]
     },
     "execution_count": 72,
     "metadata": {},
     "output_type": "execute_result"
    }
   ],
   "source": [
    "stats.mannwhitneyu(df_doc_LowV['Version'],df_xls_LowV['Version'])"
   ]
  },
  {
   "cell_type": "code",
   "execution_count": 73,
   "metadata": {},
   "outputs": [
    {
     "data": {
      "text/plain": [
       "MannwhitneyuResult(statistic=236519746.0, pvalue=9.347830903680159e-38)"
      ]
     },
     "execution_count": 73,
     "metadata": {},
     "output_type": "execute_result"
    }
   ],
   "source": [
    "stats.mannwhitneyu(df_doc_LowV['Version'],df_ppt_LowV['Version'])"
   ]
  },
  {
   "cell_type": "code",
   "execution_count": 74,
   "metadata": {},
   "outputs": [
    {
     "data": {
      "text/plain": [
       "MannwhitneyuResult(statistic=213225700.5, pvalue=2.660634435508406e-121)"
      ]
     },
     "execution_count": 74,
     "metadata": {},
     "output_type": "execute_result"
    }
   ],
   "source": [
    "stats.mannwhitneyu(df_xls_LowV['Version'],df_ppt_LowV['Version'])"
   ]
  },
  {
   "cell_type": "markdown",
   "metadata": {},
   "source": [
    "We can accept our hypothesis. "
   ]
  }
 ],
 "metadata": {
  "kernelspec": {
   "display_name": "Python 3",
   "language": "python",
   "name": "python3"
  },
  "language_info": {
   "codemirror_mode": {
    "name": "ipython",
    "version": 3
   },
   "file_extension": ".py",
   "mimetype": "text/x-python",
   "name": "python",
   "nbconvert_exporter": "python",
   "pygments_lexer": "ipython3",
   "version": "3.8.5"
  }
 },
 "nbformat": 4,
 "nbformat_minor": 4
}
