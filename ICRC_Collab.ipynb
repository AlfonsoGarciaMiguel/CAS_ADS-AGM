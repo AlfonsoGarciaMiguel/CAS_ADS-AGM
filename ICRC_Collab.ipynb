{
 "cells": [
  {
   "cell_type": "markdown",
   "metadata": {},
   "source": [
    "Project: ICRC Collaboration. CAS Applied Data Sciencem Module 1. University of Bern"
   ]
  },
  {
   "cell_type": "markdown",
   "metadata": {},
   "source": [
    "# Collaborative work at ICRC\n",
    "## Data analysis on collaborative spaces"
   ]
  },
  {
   "cell_type": "markdown",
   "metadata": {},
   "source": [
    "### Data capture and cleaning"
   ]
  },
  {
   "cell_type": "code",
   "execution_count": 1,
   "metadata": {},
   "outputs": [],
   "source": [
    "#import necessary modules\n",
    "import pandas as pd\n",
    "import math\n",
    "import matplotlib.pyplot as plt\n",
    "import seaborn as sns\n",
    "sns.set()\n",
    "#in addition, we have to install the xlrd and the Seaborn modules in the working environment (done in anaconda)"
   ]
  },
  {
   "cell_type": "code",
   "execution_count": 2,
   "metadata": {},
   "outputs": [
    {
     "data": {
      "text/html": [
       "<div>\n",
       "<style scoped>\n",
       "    .dataframe tbody tr th:only-of-type {\n",
       "        vertical-align: middle;\n",
       "    }\n",
       "\n",
       "    .dataframe tbody tr th {\n",
       "        vertical-align: top;\n",
       "    }\n",
       "\n",
       "    .dataframe thead th {\n",
       "        text-align: right;\n",
       "    }\n",
       "</style>\n",
       "<table border=\"1\" class=\"dataframe\">\n",
       "  <thead>\n",
       "    <tr style=\"text-align: right;\">\n",
       "      <th></th>\n",
       "      <th>Name</th>\n",
       "      <th>List</th>\n",
       "      <th>Location</th>\n",
       "      <th>Content type</th>\n",
       "      <th>File extension</th>\n",
       "      <th>Site collection address</th>\n",
       "      <th>Size (MB)</th>\n",
       "      <th>Version number</th>\n",
       "      <th>Site address</th>\n",
       "      <th>Total size for all versions (MB)</th>\n",
       "      <th>Created date</th>\n",
       "      <th>Last modified date</th>\n",
       "    </tr>\n",
       "  </thead>\n",
       "  <tbody>\n",
       "    <tr>\n",
       "      <th>0</th>\n",
       "      <td>0803-ICRC-M2RBM-Handbook-EN-vFINAL.pdf</td>\n",
       "      <td>05. Resource Centres</td>\n",
       "      <td>https://collab-bo.ext.icrc.org/sites/TS_ASSIST...</td>\n",
       "      <td>ICRC Team Document</td>\n",
       "      <td>pdf</td>\n",
       "      <td>https://collab-bo.ext.icrc.org/sites/TS_ASSIST/</td>\n",
       "      <td>6.18</td>\n",
       "      <td>1.000</td>\n",
       "      <td>https://collab-bo.ext.icrc.org/sites/TS_ASSIST/</td>\n",
       "      <td>18.53</td>\n",
       "      <td>2014-08-11 13:55:42</td>\n",
       "      <td>2014-08-20 17:32:16</td>\n",
       "    </tr>\n",
       "    <tr>\n",
       "      <th>1</th>\n",
       "      <td>140710-ICRCEcoSec-Brief-Accountability-EN-vFIN...</td>\n",
       "      <td>05. Resource Centres</td>\n",
       "      <td>https://collab-bo.ext.icrc.org/sites/TS_ASSIST...</td>\n",
       "      <td>ICRC Team Document</td>\n",
       "      <td>docx</td>\n",
       "      <td>https://collab-bo.ext.icrc.org/sites/TS_ASSIST/</td>\n",
       "      <td>0.12</td>\n",
       "      <td>1.000</td>\n",
       "      <td>https://collab-bo.ext.icrc.org/sites/TS_ASSIST/</td>\n",
       "      <td>0.24</td>\n",
       "      <td>2014-08-20 13:40:34</td>\n",
       "      <td>2014-08-20 19:43:22</td>\n",
       "    </tr>\n",
       "    <tr>\n",
       "      <th>2</th>\n",
       "      <td>140710-ICRCEcoSec-Brief-Accountability-EN-vFIN...</td>\n",
       "      <td>05. Resource Centres</td>\n",
       "      <td>https://collab-bo.ext.icrc.org/sites/TS_ASSIST...</td>\n",
       "      <td>ICRC Team Document</td>\n",
       "      <td>pdf</td>\n",
       "      <td>https://collab-bo.ext.icrc.org/sites/TS_ASSIST/</td>\n",
       "      <td>0.11</td>\n",
       "      <td>1.000</td>\n",
       "      <td>https://collab-bo.ext.icrc.org/sites/TS_ASSIST/</td>\n",
       "      <td>0.11</td>\n",
       "      <td>2014-08-20 13:43:40</td>\n",
       "      <td>2014-08-20 19:44:40</td>\n",
       "    </tr>\n",
       "    <tr>\n",
       "      <th>3</th>\n",
       "      <td>140618-ICRCEcoSec-Brief-CashTransfers-vFINAL.docx</td>\n",
       "      <td>05. Resource Centres</td>\n",
       "      <td>https://collab-bo.ext.icrc.org/sites/TS_ASSIST...</td>\n",
       "      <td>ICRC Team Document</td>\n",
       "      <td>docx</td>\n",
       "      <td>https://collab-bo.ext.icrc.org/sites/TS_ASSIST/</td>\n",
       "      <td>0.53</td>\n",
       "      <td>1.000</td>\n",
       "      <td>https://collab-bo.ext.icrc.org/sites/TS_ASSIST/</td>\n",
       "      <td>0.53</td>\n",
       "      <td>2014-08-20 13:38:52</td>\n",
       "      <td>2014-08-20 19:45:58</td>\n",
       "    </tr>\n",
       "    <tr>\n",
       "      <th>4</th>\n",
       "      <td>ICRCEcoSec-OPGuidelines-AssistDoctrine49-EN-vF...</td>\n",
       "      <td>05. Resource Centres</td>\n",
       "      <td>https://collab-bo.ext.icrc.org/sites/TS_ASSIST...</td>\n",
       "      <td>ICRC Team Document</td>\n",
       "      <td>doc</td>\n",
       "      <td>https://collab-bo.ext.icrc.org/sites/TS_ASSIST/</td>\n",
       "      <td>0.26</td>\n",
       "      <td>1.000</td>\n",
       "      <td>https://collab-bo.ext.icrc.org/sites/TS_ASSIST/</td>\n",
       "      <td>0.51</td>\n",
       "      <td>2014-08-18 13:46:08</td>\n",
       "      <td>2014-08-20 19:46:35</td>\n",
       "    </tr>\n",
       "    <tr>\n",
       "      <th>...</th>\n",
       "      <td>...</td>\n",
       "      <td>...</td>\n",
       "      <td>...</td>\n",
       "      <td>...</td>\n",
       "      <td>...</td>\n",
       "      <td>...</td>\n",
       "      <td>...</td>\n",
       "      <td>...</td>\n",
       "      <td>...</td>\n",
       "      <td>...</td>\n",
       "      <td>...</td>\n",
       "      <td>...</td>\n",
       "    </tr>\n",
       "    <tr>\n",
       "      <th>209763</th>\n",
       "      <td>2019-06-19_PWS_JEH_FL-Bar-Tax_intl-charitable-...</td>\n",
       "      <td>10. Finance</td>\n",
       "      <td>https://collab-bo.ext.icrc.org/sites/FAD/Finan...</td>\n",
       "      <td>ICRC Team Document</td>\n",
       "      <td>pdf</td>\n",
       "      <td>https://collab-bo.ext.icrc.org/sites/FAD/</td>\n",
       "      <td>0.18</td>\n",
       "      <td>0.200</td>\n",
       "      <td>https://collab-bo.ext.icrc.org/sites/FAD/</td>\n",
       "      <td>0.36</td>\n",
       "      <td>2020-08-06 15:06:10</td>\n",
       "      <td>2020-09-04 15:21:14</td>\n",
       "    </tr>\n",
       "    <tr>\n",
       "      <th>209764</th>\n",
       "      <td>supporting-organizations-practice-guide.pdf</td>\n",
       "      <td>10. Finance</td>\n",
       "      <td>https://collab-bo.ext.icrc.org/sites/FAD/Finan...</td>\n",
       "      <td>ICRC Team Document</td>\n",
       "      <td>pdf</td>\n",
       "      <td>https://collab-bo.ext.icrc.org/sites/FAD/</td>\n",
       "      <td>0.14</td>\n",
       "      <td>0.200</td>\n",
       "      <td>https://collab-bo.ext.icrc.org/sites/FAD/</td>\n",
       "      <td>0.28</td>\n",
       "      <td>2020-08-06 15:06:28</td>\n",
       "      <td>2020-09-04 15:21:36</td>\n",
       "    </tr>\n",
       "    <tr>\n",
       "      <th>209765</th>\n",
       "      <td>2020-09-03_ICRC_Letter re IRS Correspondence w...</td>\n",
       "      <td>10. Finance</td>\n",
       "      <td>https://collab-bo.ext.icrc.org/sites/FAD/Finan...</td>\n",
       "      <td>ICRC Team Document</td>\n",
       "      <td>pdf</td>\n",
       "      <td>https://collab-bo.ext.icrc.org/sites/FAD/</td>\n",
       "      <td>0.23</td>\n",
       "      <td>0.100</td>\n",
       "      <td>https://collab-bo.ext.icrc.org/sites/FAD/</td>\n",
       "      <td>0.23</td>\n",
       "      <td>2020-09-04 15:22:31</td>\n",
       "      <td>2020-09-04 15:22:38</td>\n",
       "    </tr>\n",
       "    <tr>\n",
       "      <th>209766</th>\n",
       "      <td>FTE_Control_DP.xlsm</td>\n",
       "      <td>10. Finance</td>\n",
       "      <td>https://collab-bo.ext.icrc.org/sites/FAD/Finan...</td>\n",
       "      <td>ICRC Team Document</td>\n",
       "      <td>xlsm</td>\n",
       "      <td>https://collab-bo.ext.icrc.org/sites/FAD/</td>\n",
       "      <td>0.62</td>\n",
       "      <td>0.128</td>\n",
       "      <td>https://collab-bo.ext.icrc.org/sites/FAD/</td>\n",
       "      <td>71.46</td>\n",
       "      <td>2020-02-05 03:17:37</td>\n",
       "      <td>2020-09-04 15:24:16</td>\n",
       "    </tr>\n",
       "    <tr>\n",
       "      <th>209767</th>\n",
       "      <td>200903 - 07 PfR21_HQ Budget - Decelerate - Inp...</td>\n",
       "      <td>10. Finance</td>\n",
       "      <td>https://collab-bo.ext.icrc.org/sites/FAD/Finan...</td>\n",
       "      <td>ICRC Team PowerPoint</td>\n",
       "      <td>pptx</td>\n",
       "      <td>https://collab-bo.ext.icrc.org/sites/FAD/</td>\n",
       "      <td>1.44</td>\n",
       "      <td>3.200</td>\n",
       "      <td>https://collab-bo.ext.icrc.org/sites/FAD/</td>\n",
       "      <td>49.54</td>\n",
       "      <td>2020-08-28 16:46:48</td>\n",
       "      <td>2020-09-04 16:08:09</td>\n",
       "    </tr>\n",
       "  </tbody>\n",
       "</table>\n",
       "<p>209768 rows × 12 columns</p>\n",
       "</div>"
      ],
      "text/plain": [
       "                                                     Name  \\\n",
       "0                  0803-ICRC-M2RBM-Handbook-EN-vFINAL.pdf   \n",
       "1       140710-ICRCEcoSec-Brief-Accountability-EN-vFIN...   \n",
       "2       140710-ICRCEcoSec-Brief-Accountability-EN-vFIN...   \n",
       "3       140618-ICRCEcoSec-Brief-CashTransfers-vFINAL.docx   \n",
       "4       ICRCEcoSec-OPGuidelines-AssistDoctrine49-EN-vF...   \n",
       "...                                                   ...   \n",
       "209763  2019-06-19_PWS_JEH_FL-Bar-Tax_intl-charitable-...   \n",
       "209764        supporting-organizations-practice-guide.pdf   \n",
       "209765  2020-09-03_ICRC_Letter re IRS Correspondence w...   \n",
       "209766                                FTE_Control_DP.xlsm   \n",
       "209767  200903 - 07 PfR21_HQ Budget - Decelerate - Inp...   \n",
       "\n",
       "                        List  \\\n",
       "0       05. Resource Centres   \n",
       "1       05. Resource Centres   \n",
       "2       05. Resource Centres   \n",
       "3       05. Resource Centres   \n",
       "4       05. Resource Centres   \n",
       "...                      ...   \n",
       "209763           10. Finance   \n",
       "209764           10. Finance   \n",
       "209765           10. Finance   \n",
       "209766           10. Finance   \n",
       "209767           10. Finance   \n",
       "\n",
       "                                                 Location  \\\n",
       "0       https://collab-bo.ext.icrc.org/sites/TS_ASSIST...   \n",
       "1       https://collab-bo.ext.icrc.org/sites/TS_ASSIST...   \n",
       "2       https://collab-bo.ext.icrc.org/sites/TS_ASSIST...   \n",
       "3       https://collab-bo.ext.icrc.org/sites/TS_ASSIST...   \n",
       "4       https://collab-bo.ext.icrc.org/sites/TS_ASSIST...   \n",
       "...                                                   ...   \n",
       "209763  https://collab-bo.ext.icrc.org/sites/FAD/Finan...   \n",
       "209764  https://collab-bo.ext.icrc.org/sites/FAD/Finan...   \n",
       "209765  https://collab-bo.ext.icrc.org/sites/FAD/Finan...   \n",
       "209766  https://collab-bo.ext.icrc.org/sites/FAD/Finan...   \n",
       "209767  https://collab-bo.ext.icrc.org/sites/FAD/Finan...   \n",
       "\n",
       "                Content type File extension  \\\n",
       "0         ICRC Team Document            pdf   \n",
       "1         ICRC Team Document           docx   \n",
       "2         ICRC Team Document            pdf   \n",
       "3         ICRC Team Document           docx   \n",
       "4         ICRC Team Document            doc   \n",
       "...                      ...            ...   \n",
       "209763    ICRC Team Document            pdf   \n",
       "209764    ICRC Team Document            pdf   \n",
       "209765    ICRC Team Document            pdf   \n",
       "209766    ICRC Team Document           xlsm   \n",
       "209767  ICRC Team PowerPoint           pptx   \n",
       "\n",
       "                                Site collection address  Size (MB)  \\\n",
       "0       https://collab-bo.ext.icrc.org/sites/TS_ASSIST/       6.18   \n",
       "1       https://collab-bo.ext.icrc.org/sites/TS_ASSIST/       0.12   \n",
       "2       https://collab-bo.ext.icrc.org/sites/TS_ASSIST/       0.11   \n",
       "3       https://collab-bo.ext.icrc.org/sites/TS_ASSIST/       0.53   \n",
       "4       https://collab-bo.ext.icrc.org/sites/TS_ASSIST/       0.26   \n",
       "...                                                 ...        ...   \n",
       "209763        https://collab-bo.ext.icrc.org/sites/FAD/       0.18   \n",
       "209764        https://collab-bo.ext.icrc.org/sites/FAD/       0.14   \n",
       "209765        https://collab-bo.ext.icrc.org/sites/FAD/       0.23   \n",
       "209766        https://collab-bo.ext.icrc.org/sites/FAD/       0.62   \n",
       "209767        https://collab-bo.ext.icrc.org/sites/FAD/       1.44   \n",
       "\n",
       "        Version number                                     Site address  \\\n",
       "0                1.000  https://collab-bo.ext.icrc.org/sites/TS_ASSIST/   \n",
       "1                1.000  https://collab-bo.ext.icrc.org/sites/TS_ASSIST/   \n",
       "2                1.000  https://collab-bo.ext.icrc.org/sites/TS_ASSIST/   \n",
       "3                1.000  https://collab-bo.ext.icrc.org/sites/TS_ASSIST/   \n",
       "4                1.000  https://collab-bo.ext.icrc.org/sites/TS_ASSIST/   \n",
       "...                ...                                              ...   \n",
       "209763           0.200        https://collab-bo.ext.icrc.org/sites/FAD/   \n",
       "209764           0.200        https://collab-bo.ext.icrc.org/sites/FAD/   \n",
       "209765           0.100        https://collab-bo.ext.icrc.org/sites/FAD/   \n",
       "209766           0.128        https://collab-bo.ext.icrc.org/sites/FAD/   \n",
       "209767           3.200        https://collab-bo.ext.icrc.org/sites/FAD/   \n",
       "\n",
       "        Total size for all versions (MB)        Created date  \\\n",
       "0                                  18.53 2014-08-11 13:55:42   \n",
       "1                                   0.24 2014-08-20 13:40:34   \n",
       "2                                   0.11 2014-08-20 13:43:40   \n",
       "3                                   0.53 2014-08-20 13:38:52   \n",
       "4                                   0.51 2014-08-18 13:46:08   \n",
       "...                                  ...                 ...   \n",
       "209763                              0.36 2020-08-06 15:06:10   \n",
       "209764                              0.28 2020-08-06 15:06:28   \n",
       "209765                              0.23 2020-09-04 15:22:31   \n",
       "209766                             71.46 2020-02-05 03:17:37   \n",
       "209767                             49.54 2020-08-28 16:46:48   \n",
       "\n",
       "        Last modified date  \n",
       "0      2014-08-20 17:32:16  \n",
       "1      2014-08-20 19:43:22  \n",
       "2      2014-08-20 19:44:40  \n",
       "3      2014-08-20 19:45:58  \n",
       "4      2014-08-20 19:46:35  \n",
       "...                    ...  \n",
       "209763 2020-09-04 15:21:14  \n",
       "209764 2020-09-04 15:21:36  \n",
       "209765 2020-09-04 15:22:38  \n",
       "209766 2020-09-04 15:24:16  \n",
       "209767 2020-09-04 16:08:09  \n",
       "\n",
       "[209768 rows x 12 columns]"
      ]
     },
     "execution_count": 2,
     "metadata": {},
     "output_type": "execute_result"
    }
   ],
   "source": [
    "#import dataframe from excel extraction of Sharepoint\n",
    "Allfiles = pd.read_excel ('DocumentData_ALL.xlsx', header=0)\n",
    "#we have a quick look at it\n",
    "Allfiles"
   ]
  },
  {
   "cell_type": "code",
   "execution_count": 3,
   "metadata": {},
   "outputs": [
    {
     "name": "stdout",
     "output_type": "stream",
     "text": [
      "<class 'pandas.core.frame.DataFrame'>\n",
      "RangeIndex: 209768 entries, 0 to 209767\n",
      "Data columns (total 12 columns):\n",
      " #   Column                            Non-Null Count   Dtype         \n",
      "---  ------                            --------------   -----         \n",
      " 0   Name                              209768 non-null  object        \n",
      " 1   List                              209768 non-null  object        \n",
      " 2   Location                          209768 non-null  object        \n",
      " 3   Content type                      209768 non-null  object        \n",
      " 4   File extension                    209616 non-null  object        \n",
      " 5   Site collection address           209768 non-null  object        \n",
      " 6   Size (MB)                         209768 non-null  float64       \n",
      " 7   Version number                    209768 non-null  float64       \n",
      " 8   Site address                      209768 non-null  object        \n",
      " 9   Total size for all versions (MB)  209768 non-null  float64       \n",
      " 10  Created date                      209768 non-null  datetime64[ns]\n",
      " 11  Last modified date                209768 non-null  datetime64[ns]\n",
      "dtypes: datetime64[ns](2), float64(3), object(7)\n",
      "memory usage: 19.2+ MB\n"
     ]
    }
   ],
   "source": [
    "#we check also how the import was done automatically. Do we need to change column types? Is the data what we expected?\n",
    "Allfiles.info()"
   ]
  },
  {
   "cell_type": "markdown",
   "metadata": {},
   "source": [
    "We need to clean data, as it is not appropriate to properly work on the questions we want to address. Namely, we have to:\n",
    "- Get the service name of each document. For that, we will can use either the 'Location' or 'site collection adress'. Those are url adresses containing the service name. Site collection adress has the advantage that the last string is the name of the service "
   ]
  },
  {
   "cell_type": "code",
   "execution_count": 4,
   "metadata": {},
   "outputs": [
    {
     "data": {
      "text/plain": [
       "0         ASSIST\n",
       "1         ASSIST\n",
       "2         ASSIST\n",
       "3         ASSIST\n",
       "4         ASSIST\n",
       "           ...  \n",
       "209763       FAD\n",
       "209764       FAD\n",
       "209765       FAD\n",
       "209766       FAD\n",
       "209767       FAD\n",
       "Name: Site collection address, Length: 209768, dtype: object"
      ]
     },
     "execution_count": 4,
     "metadata": {},
     "output_type": "execute_result"
    }
   ],
   "source": [
    "# we proceed with the cleaning\n",
    "Allfiles['Site collection address'] = Allfiles['Site collection address'].str.replace('https://collab-bo.ext.icrc.org/sites/','')\n",
    "Allfiles['Site collection address'] = Allfiles['Site collection address'].str.replace('/','')\n",
    "Allfiles['Site collection address'] = Allfiles['Site collection address'].str.replace('TS_','')\n",
    "#and we print the result to see if it worked\n",
    "Allfiles['Site collection address']"
   ]
  },
  {
   "cell_type": "markdown",
   "metadata": {},
   "source": [
    "Now, we will rename several columns to better fit their needs:\n",
    "- 'File extension' has a space in the title. We will remove it since it will be easier to code later. We take adventage of this operation to shorten the title to File_type\n",
    "- 'site collection address' can tells us now the name of the service. It is better to rename the column to Service in order to reflect this.\n",
    "- 'Size (MB) has space and parentesis. We will rename it to SizeMB\n",
    "- Since we will have to work with Version number extensively, we rename it to something shorter and simpler: Version\n",
    "- Total size for all versions (MB) is too long, too many spaces, and some elements that are python text, such as 'for'. We rename it to Total_sizeMB\n",
    "- Created date and Last Modified date contain also spaces. We will rename them to Created and Last_modified."
   ]
  },
  {
   "cell_type": "code",
   "execution_count": 5,
   "metadata": {},
   "outputs": [],
   "source": [
    "#to do it at once, we will use a dictionary\n",
    "Allfiles = Allfiles.rename(columns = {'File extension': 'File_type', 'Site collection address': 'Service', 'Size (MB)': 'SizeMB', 'Version number': 'Version', 'Total size for all versions (MB)': 'Total_sizeMB', 'Created date': 'Created', 'Last modified date': 'Last_modified'})"
   ]
  },
  {
   "cell_type": "code",
   "execution_count": 6,
   "metadata": {
    "scrolled": true
   },
   "outputs": [
    {
     "data": {
      "text/html": [
       "<div>\n",
       "<style scoped>\n",
       "    .dataframe tbody tr th:only-of-type {\n",
       "        vertical-align: middle;\n",
       "    }\n",
       "\n",
       "    .dataframe tbody tr th {\n",
       "        vertical-align: top;\n",
       "    }\n",
       "\n",
       "    .dataframe thead th {\n",
       "        text-align: right;\n",
       "    }\n",
       "</style>\n",
       "<table border=\"1\" class=\"dataframe\">\n",
       "  <thead>\n",
       "    <tr style=\"text-align: right;\">\n",
       "      <th></th>\n",
       "      <th>Name</th>\n",
       "      <th>List</th>\n",
       "      <th>Location</th>\n",
       "      <th>Content type</th>\n",
       "      <th>File_type</th>\n",
       "      <th>Service</th>\n",
       "      <th>SizeMB</th>\n",
       "      <th>Version</th>\n",
       "      <th>Site address</th>\n",
       "      <th>Total_sizeMB</th>\n",
       "      <th>Created</th>\n",
       "      <th>Last_modified</th>\n",
       "    </tr>\n",
       "  </thead>\n",
       "  <tbody>\n",
       "    <tr>\n",
       "      <th>0</th>\n",
       "      <td>0803-ICRC-M2RBM-Handbook-EN-vFINAL.pdf</td>\n",
       "      <td>05. Resource Centres</td>\n",
       "      <td>https://collab-bo.ext.icrc.org/sites/TS_ASSIST...</td>\n",
       "      <td>ICRC Team Document</td>\n",
       "      <td>pdf</td>\n",
       "      <td>ASSIST</td>\n",
       "      <td>6.18</td>\n",
       "      <td>1.0</td>\n",
       "      <td>https://collab-bo.ext.icrc.org/sites/TS_ASSIST/</td>\n",
       "      <td>18.53</td>\n",
       "      <td>2014-08-11 13:55:42</td>\n",
       "      <td>2014-08-20 17:32:16</td>\n",
       "    </tr>\n",
       "  </tbody>\n",
       "</table>\n",
       "</div>"
      ],
      "text/plain": [
       "                                     Name                  List  \\\n",
       "0  0803-ICRC-M2RBM-Handbook-EN-vFINAL.pdf  05. Resource Centres   \n",
       "\n",
       "                                            Location        Content type  \\\n",
       "0  https://collab-bo.ext.icrc.org/sites/TS_ASSIST...  ICRC Team Document   \n",
       "\n",
       "  File_type Service  SizeMB  Version  \\\n",
       "0       pdf  ASSIST    6.18      1.0   \n",
       "\n",
       "                                      Site address  Total_sizeMB  \\\n",
       "0  https://collab-bo.ext.icrc.org/sites/TS_ASSIST/         18.53   \n",
       "\n",
       "              Created       Last_modified  \n",
       "0 2014-08-11 13:55:42 2014-08-20 17:32:16  "
      ]
     },
     "execution_count": 6,
     "metadata": {},
     "output_type": "execute_result"
    }
   ],
   "source": [
    "#now we look if it worked well\n",
    "Allfiles.head(1)"
   ]
  },
  {
   "cell_type": "markdown",
   "metadata": {},
   "source": [
    "### working with version number"
   ]
  },
  {
   "cell_type": "markdown",
   "metadata": {},
   "source": [
    "Version number (now called just Version) is a very important data. It tells us how many times a document has been modified. However, the information provided by sharepoint tell us also some information irrelevant for our purpose: The difference between major and minor version. Sharepoint represents major versions as the integer part of a float number, and minor versions as the decimal part. A document version 2.0 has been updated twice as a major version. A document 0.2 has been updated twice as a minor version, For our purpose, both documents represent exactly the same case: a document updated twice.\n",
    "We will proceed as follows:\n",
    "- The document is a false float (2.0 and 0.2 are equivalent) we will transform it into a string. Funnily enough, when we transform decimals higher than 3 digits, Pandas creates and incredibly long number. As an example, 2.111 becomes 2.1109...9 (14 positions). To avoid this behaviour, we will set the .round function to 3 digits\n",
    "- Then, we will split the left side of the point, leaving it in the existing column\n",
    "- We will do the same with the right side, and save it in another new column 'Minor'\n",
    "- We will transform then into integer columns, since they now really represent a number (how many times has the document been updated)\n",
    "- And we will save it in the first column, that we will keep. \n",
    "We could create new columns for that, but this will expand the size of our dataframe unnecessarily"
   ]
  },
  {
   "cell_type": "code",
   "execution_count": 7,
   "metadata": {},
   "outputs": [
    {
     "name": "stdout",
     "output_type": "stream",
     "text": [
      "<class 'pandas.core.frame.DataFrame'>\n",
      "RangeIndex: 209768 entries, 0 to 209767\n",
      "Data columns (total 12 columns):\n",
      " #   Column         Non-Null Count   Dtype         \n",
      "---  ------         --------------   -----         \n",
      " 0   Name           209768 non-null  object        \n",
      " 1   List           209768 non-null  object        \n",
      " 2   Location       209768 non-null  object        \n",
      " 3   Content type   209768 non-null  object        \n",
      " 4   File_type      209616 non-null  object        \n",
      " 5   Service        209768 non-null  object        \n",
      " 6   SizeMB         209768 non-null  float64       \n",
      " 7   Version        209768 non-null  object        \n",
      " 8   Site address   209768 non-null  object        \n",
      " 9   Total_sizeMB   209768 non-null  float64       \n",
      " 10  Created        209768 non-null  datetime64[ns]\n",
      " 11  Last_modified  209768 non-null  datetime64[ns]\n",
      "dtypes: datetime64[ns](2), float64(2), object(8)\n",
      "memory usage: 19.2+ MB\n"
     ]
    }
   ],
   "source": [
    "Allfiles['Version'] = Allfiles['Version'].round(3).astype(str)\n",
    "Allfiles.info()\n",
    "#now we need to work on the versions to show the whole history of modifications of a file. \n",
    "#for that, we split the column \"version number\" in minor and major vesion, and we sum both in a new column \"total version\""
   ]
  },
  {
   "cell_type": "code",
   "execution_count": 8,
   "metadata": {},
   "outputs": [
    {
     "data": {
      "text/html": [
       "<div>\n",
       "<style scoped>\n",
       "    .dataframe tbody tr th:only-of-type {\n",
       "        vertical-align: middle;\n",
       "    }\n",
       "\n",
       "    .dataframe tbody tr th {\n",
       "        vertical-align: top;\n",
       "    }\n",
       "\n",
       "    .dataframe thead th {\n",
       "        text-align: right;\n",
       "    }\n",
       "</style>\n",
       "<table border=\"1\" class=\"dataframe\">\n",
       "  <thead>\n",
       "    <tr style=\"text-align: right;\">\n",
       "      <th></th>\n",
       "      <th>Name</th>\n",
       "      <th>List</th>\n",
       "      <th>Location</th>\n",
       "      <th>Content type</th>\n",
       "      <th>File_type</th>\n",
       "      <th>Service</th>\n",
       "      <th>SizeMB</th>\n",
       "      <th>Version</th>\n",
       "      <th>Site address</th>\n",
       "      <th>Total_sizeMB</th>\n",
       "      <th>Created</th>\n",
       "      <th>Last_modified</th>\n",
       "      <th>minor</th>\n",
       "    </tr>\n",
       "  </thead>\n",
       "  <tbody>\n",
       "    <tr>\n",
       "      <th>0</th>\n",
       "      <td>0803-ICRC-M2RBM-Handbook-EN-vFINAL.pdf</td>\n",
       "      <td>05. Resource Centres</td>\n",
       "      <td>https://collab-bo.ext.icrc.org/sites/TS_ASSIST...</td>\n",
       "      <td>ICRC Team Document</td>\n",
       "      <td>pdf</td>\n",
       "      <td>ASSIST</td>\n",
       "      <td>6.18</td>\n",
       "      <td>1</td>\n",
       "      <td>https://collab-bo.ext.icrc.org/sites/TS_ASSIST/</td>\n",
       "      <td>18.53</td>\n",
       "      <td>2014-08-11 13:55:42</td>\n",
       "      <td>2014-08-20 17:32:16</td>\n",
       "      <td>0</td>\n",
       "    </tr>\n",
       "    <tr>\n",
       "      <th>1</th>\n",
       "      <td>140710-ICRCEcoSec-Brief-Accountability-EN-vFIN...</td>\n",
       "      <td>05. Resource Centres</td>\n",
       "      <td>https://collab-bo.ext.icrc.org/sites/TS_ASSIST...</td>\n",
       "      <td>ICRC Team Document</td>\n",
       "      <td>docx</td>\n",
       "      <td>ASSIST</td>\n",
       "      <td>0.12</td>\n",
       "      <td>1</td>\n",
       "      <td>https://collab-bo.ext.icrc.org/sites/TS_ASSIST/</td>\n",
       "      <td>0.24</td>\n",
       "      <td>2014-08-20 13:40:34</td>\n",
       "      <td>2014-08-20 19:43:22</td>\n",
       "      <td>0</td>\n",
       "    </tr>\n",
       "    <tr>\n",
       "      <th>2</th>\n",
       "      <td>140710-ICRCEcoSec-Brief-Accountability-EN-vFIN...</td>\n",
       "      <td>05. Resource Centres</td>\n",
       "      <td>https://collab-bo.ext.icrc.org/sites/TS_ASSIST...</td>\n",
       "      <td>ICRC Team Document</td>\n",
       "      <td>pdf</td>\n",
       "      <td>ASSIST</td>\n",
       "      <td>0.11</td>\n",
       "      <td>1</td>\n",
       "      <td>https://collab-bo.ext.icrc.org/sites/TS_ASSIST/</td>\n",
       "      <td>0.11</td>\n",
       "      <td>2014-08-20 13:43:40</td>\n",
       "      <td>2014-08-20 19:44:40</td>\n",
       "      <td>0</td>\n",
       "    </tr>\n",
       "    <tr>\n",
       "      <th>3</th>\n",
       "      <td>140618-ICRCEcoSec-Brief-CashTransfers-vFINAL.docx</td>\n",
       "      <td>05. Resource Centres</td>\n",
       "      <td>https://collab-bo.ext.icrc.org/sites/TS_ASSIST...</td>\n",
       "      <td>ICRC Team Document</td>\n",
       "      <td>docx</td>\n",
       "      <td>ASSIST</td>\n",
       "      <td>0.53</td>\n",
       "      <td>1</td>\n",
       "      <td>https://collab-bo.ext.icrc.org/sites/TS_ASSIST/</td>\n",
       "      <td>0.53</td>\n",
       "      <td>2014-08-20 13:38:52</td>\n",
       "      <td>2014-08-20 19:45:58</td>\n",
       "      <td>0</td>\n",
       "    </tr>\n",
       "    <tr>\n",
       "      <th>4</th>\n",
       "      <td>ICRCEcoSec-OPGuidelines-AssistDoctrine49-EN-vF...</td>\n",
       "      <td>05. Resource Centres</td>\n",
       "      <td>https://collab-bo.ext.icrc.org/sites/TS_ASSIST...</td>\n",
       "      <td>ICRC Team Document</td>\n",
       "      <td>doc</td>\n",
       "      <td>ASSIST</td>\n",
       "      <td>0.26</td>\n",
       "      <td>1</td>\n",
       "      <td>https://collab-bo.ext.icrc.org/sites/TS_ASSIST/</td>\n",
       "      <td>0.51</td>\n",
       "      <td>2014-08-18 13:46:08</td>\n",
       "      <td>2014-08-20 19:46:35</td>\n",
       "      <td>0</td>\n",
       "    </tr>\n",
       "    <tr>\n",
       "      <th>...</th>\n",
       "      <td>...</td>\n",
       "      <td>...</td>\n",
       "      <td>...</td>\n",
       "      <td>...</td>\n",
       "      <td>...</td>\n",
       "      <td>...</td>\n",
       "      <td>...</td>\n",
       "      <td>...</td>\n",
       "      <td>...</td>\n",
       "      <td>...</td>\n",
       "      <td>...</td>\n",
       "      <td>...</td>\n",
       "      <td>...</td>\n",
       "    </tr>\n",
       "    <tr>\n",
       "      <th>209763</th>\n",
       "      <td>2019-06-19_PWS_JEH_FL-Bar-Tax_intl-charitable-...</td>\n",
       "      <td>10. Finance</td>\n",
       "      <td>https://collab-bo.ext.icrc.org/sites/FAD/Finan...</td>\n",
       "      <td>ICRC Team Document</td>\n",
       "      <td>pdf</td>\n",
       "      <td>FAD</td>\n",
       "      <td>0.18</td>\n",
       "      <td>0</td>\n",
       "      <td>https://collab-bo.ext.icrc.org/sites/FAD/</td>\n",
       "      <td>0.36</td>\n",
       "      <td>2020-08-06 15:06:10</td>\n",
       "      <td>2020-09-04 15:21:14</td>\n",
       "      <td>2</td>\n",
       "    </tr>\n",
       "    <tr>\n",
       "      <th>209764</th>\n",
       "      <td>supporting-organizations-practice-guide.pdf</td>\n",
       "      <td>10. Finance</td>\n",
       "      <td>https://collab-bo.ext.icrc.org/sites/FAD/Finan...</td>\n",
       "      <td>ICRC Team Document</td>\n",
       "      <td>pdf</td>\n",
       "      <td>FAD</td>\n",
       "      <td>0.14</td>\n",
       "      <td>0</td>\n",
       "      <td>https://collab-bo.ext.icrc.org/sites/FAD/</td>\n",
       "      <td>0.28</td>\n",
       "      <td>2020-08-06 15:06:28</td>\n",
       "      <td>2020-09-04 15:21:36</td>\n",
       "      <td>2</td>\n",
       "    </tr>\n",
       "    <tr>\n",
       "      <th>209765</th>\n",
       "      <td>2020-09-03_ICRC_Letter re IRS Correspondence w...</td>\n",
       "      <td>10. Finance</td>\n",
       "      <td>https://collab-bo.ext.icrc.org/sites/FAD/Finan...</td>\n",
       "      <td>ICRC Team Document</td>\n",
       "      <td>pdf</td>\n",
       "      <td>FAD</td>\n",
       "      <td>0.23</td>\n",
       "      <td>0</td>\n",
       "      <td>https://collab-bo.ext.icrc.org/sites/FAD/</td>\n",
       "      <td>0.23</td>\n",
       "      <td>2020-09-04 15:22:31</td>\n",
       "      <td>2020-09-04 15:22:38</td>\n",
       "      <td>1</td>\n",
       "    </tr>\n",
       "    <tr>\n",
       "      <th>209766</th>\n",
       "      <td>FTE_Control_DP.xlsm</td>\n",
       "      <td>10. Finance</td>\n",
       "      <td>https://collab-bo.ext.icrc.org/sites/FAD/Finan...</td>\n",
       "      <td>ICRC Team Document</td>\n",
       "      <td>xlsm</td>\n",
       "      <td>FAD</td>\n",
       "      <td>0.62</td>\n",
       "      <td>0</td>\n",
       "      <td>https://collab-bo.ext.icrc.org/sites/FAD/</td>\n",
       "      <td>71.46</td>\n",
       "      <td>2020-02-05 03:17:37</td>\n",
       "      <td>2020-09-04 15:24:16</td>\n",
       "      <td>128</td>\n",
       "    </tr>\n",
       "    <tr>\n",
       "      <th>209767</th>\n",
       "      <td>200903 - 07 PfR21_HQ Budget - Decelerate - Inp...</td>\n",
       "      <td>10. Finance</td>\n",
       "      <td>https://collab-bo.ext.icrc.org/sites/FAD/Finan...</td>\n",
       "      <td>ICRC Team PowerPoint</td>\n",
       "      <td>pptx</td>\n",
       "      <td>FAD</td>\n",
       "      <td>1.44</td>\n",
       "      <td>3</td>\n",
       "      <td>https://collab-bo.ext.icrc.org/sites/FAD/</td>\n",
       "      <td>49.54</td>\n",
       "      <td>2020-08-28 16:46:48</td>\n",
       "      <td>2020-09-04 16:08:09</td>\n",
       "      <td>2</td>\n",
       "    </tr>\n",
       "  </tbody>\n",
       "</table>\n",
       "<p>209768 rows × 13 columns</p>\n",
       "</div>"
      ],
      "text/plain": [
       "                                                     Name  \\\n",
       "0                  0803-ICRC-M2RBM-Handbook-EN-vFINAL.pdf   \n",
       "1       140710-ICRCEcoSec-Brief-Accountability-EN-vFIN...   \n",
       "2       140710-ICRCEcoSec-Brief-Accountability-EN-vFIN...   \n",
       "3       140618-ICRCEcoSec-Brief-CashTransfers-vFINAL.docx   \n",
       "4       ICRCEcoSec-OPGuidelines-AssistDoctrine49-EN-vF...   \n",
       "...                                                   ...   \n",
       "209763  2019-06-19_PWS_JEH_FL-Bar-Tax_intl-charitable-...   \n",
       "209764        supporting-organizations-practice-guide.pdf   \n",
       "209765  2020-09-03_ICRC_Letter re IRS Correspondence w...   \n",
       "209766                                FTE_Control_DP.xlsm   \n",
       "209767  200903 - 07 PfR21_HQ Budget - Decelerate - Inp...   \n",
       "\n",
       "                        List  \\\n",
       "0       05. Resource Centres   \n",
       "1       05. Resource Centres   \n",
       "2       05. Resource Centres   \n",
       "3       05. Resource Centres   \n",
       "4       05. Resource Centres   \n",
       "...                      ...   \n",
       "209763           10. Finance   \n",
       "209764           10. Finance   \n",
       "209765           10. Finance   \n",
       "209766           10. Finance   \n",
       "209767           10. Finance   \n",
       "\n",
       "                                                 Location  \\\n",
       "0       https://collab-bo.ext.icrc.org/sites/TS_ASSIST...   \n",
       "1       https://collab-bo.ext.icrc.org/sites/TS_ASSIST...   \n",
       "2       https://collab-bo.ext.icrc.org/sites/TS_ASSIST...   \n",
       "3       https://collab-bo.ext.icrc.org/sites/TS_ASSIST...   \n",
       "4       https://collab-bo.ext.icrc.org/sites/TS_ASSIST...   \n",
       "...                                                   ...   \n",
       "209763  https://collab-bo.ext.icrc.org/sites/FAD/Finan...   \n",
       "209764  https://collab-bo.ext.icrc.org/sites/FAD/Finan...   \n",
       "209765  https://collab-bo.ext.icrc.org/sites/FAD/Finan...   \n",
       "209766  https://collab-bo.ext.icrc.org/sites/FAD/Finan...   \n",
       "209767  https://collab-bo.ext.icrc.org/sites/FAD/Finan...   \n",
       "\n",
       "                Content type File_type Service  SizeMB Version  \\\n",
       "0         ICRC Team Document       pdf  ASSIST    6.18       1   \n",
       "1         ICRC Team Document      docx  ASSIST    0.12       1   \n",
       "2         ICRC Team Document       pdf  ASSIST    0.11       1   \n",
       "3         ICRC Team Document      docx  ASSIST    0.53       1   \n",
       "4         ICRC Team Document       doc  ASSIST    0.26       1   \n",
       "...                      ...       ...     ...     ...     ...   \n",
       "209763    ICRC Team Document       pdf     FAD    0.18       0   \n",
       "209764    ICRC Team Document       pdf     FAD    0.14       0   \n",
       "209765    ICRC Team Document       pdf     FAD    0.23       0   \n",
       "209766    ICRC Team Document      xlsm     FAD    0.62       0   \n",
       "209767  ICRC Team PowerPoint      pptx     FAD    1.44       3   \n",
       "\n",
       "                                           Site address  Total_sizeMB  \\\n",
       "0       https://collab-bo.ext.icrc.org/sites/TS_ASSIST/         18.53   \n",
       "1       https://collab-bo.ext.icrc.org/sites/TS_ASSIST/          0.24   \n",
       "2       https://collab-bo.ext.icrc.org/sites/TS_ASSIST/          0.11   \n",
       "3       https://collab-bo.ext.icrc.org/sites/TS_ASSIST/          0.53   \n",
       "4       https://collab-bo.ext.icrc.org/sites/TS_ASSIST/          0.51   \n",
       "...                                                 ...           ...   \n",
       "209763        https://collab-bo.ext.icrc.org/sites/FAD/          0.36   \n",
       "209764        https://collab-bo.ext.icrc.org/sites/FAD/          0.28   \n",
       "209765        https://collab-bo.ext.icrc.org/sites/FAD/          0.23   \n",
       "209766        https://collab-bo.ext.icrc.org/sites/FAD/         71.46   \n",
       "209767        https://collab-bo.ext.icrc.org/sites/FAD/         49.54   \n",
       "\n",
       "                   Created       Last_modified minor  \n",
       "0      2014-08-11 13:55:42 2014-08-20 17:32:16     0  \n",
       "1      2014-08-20 13:40:34 2014-08-20 19:43:22     0  \n",
       "2      2014-08-20 13:43:40 2014-08-20 19:44:40     0  \n",
       "3      2014-08-20 13:38:52 2014-08-20 19:45:58     0  \n",
       "4      2014-08-18 13:46:08 2014-08-20 19:46:35     0  \n",
       "...                    ...                 ...   ...  \n",
       "209763 2020-08-06 15:06:10 2020-09-04 15:21:14     2  \n",
       "209764 2020-08-06 15:06:28 2020-09-04 15:21:36     2  \n",
       "209765 2020-09-04 15:22:31 2020-09-04 15:22:38     1  \n",
       "209766 2020-02-05 03:17:37 2020-09-04 15:24:16   128  \n",
       "209767 2020-08-28 16:46:48 2020-09-04 16:08:09     2  \n",
       "\n",
       "[209768 rows x 13 columns]"
      ]
     },
     "execution_count": 8,
     "metadata": {},
     "output_type": "execute_result"
    }
   ],
   "source": [
    "#now that we have transformed it into string, we split it and assign left and right parts to new columns\n",
    "Allfiles[['Version', 'minor']] = Allfiles['Version'].str.split('.', expand=True)\n",
    "Allfiles"
   ]
  },
  {
   "cell_type": "code",
   "execution_count": 9,
   "metadata": {},
   "outputs": [
    {
     "name": "stdout",
     "output_type": "stream",
     "text": [
      "<class 'pandas.core.frame.DataFrame'>\n",
      "RangeIndex: 209768 entries, 0 to 209767\n",
      "Data columns (total 13 columns):\n",
      " #   Column         Non-Null Count   Dtype         \n",
      "---  ------         --------------   -----         \n",
      " 0   Name           209768 non-null  object        \n",
      " 1   List           209768 non-null  object        \n",
      " 2   Location       209768 non-null  object        \n",
      " 3   Content type   209768 non-null  object        \n",
      " 4   File_type      209616 non-null  object        \n",
      " 5   Service        209768 non-null  object        \n",
      " 6   SizeMB         209768 non-null  float64       \n",
      " 7   Version        209768 non-null  int64         \n",
      " 8   Site address   209768 non-null  object        \n",
      " 9   Total_sizeMB   209768 non-null  float64       \n",
      " 10  Created        209768 non-null  datetime64[ns]\n",
      " 11  Last_modified  209768 non-null  datetime64[ns]\n",
      " 12  minor          209768 non-null  int64         \n",
      "dtypes: datetime64[ns](2), float64(2), int64(2), object(7)\n",
      "memory usage: 20.8+ MB\n"
     ]
    }
   ],
   "source": [
    "#now that we have splitted the two values, we transform them as integers and we sum them\n",
    "convert_dict = {'Version': 'int64', 'minor': 'int64'} \n",
    "Allfiles = Allfiles.astype(convert_dict)\n",
    "Allfiles.info()"
   ]
  },
  {
   "cell_type": "code",
   "execution_count": 10,
   "metadata": {},
   "outputs": [
    {
     "data": {
      "text/plain": [
       "0           1\n",
       "1           1\n",
       "2           1\n",
       "3           1\n",
       "4           1\n",
       "         ... \n",
       "209763      2\n",
       "209764      2\n",
       "209765      1\n",
       "209766    128\n",
       "209767      5\n",
       "Name: Version, Length: 209768, dtype: int64"
      ]
     },
     "execution_count": 10,
     "metadata": {},
     "output_type": "execute_result"
    }
   ],
   "source": [
    "#And now we sum both columns, Version and minor, in Version to have total versions\n",
    "Allfiles['Version'] = Allfiles['Version']+Allfiles['minor']\n",
    "Allfiles['Version']"
   ]
  },
  {
   "cell_type": "code",
   "execution_count": 11,
   "metadata": {},
   "outputs": [
    {
     "name": "stdout",
     "output_type": "stream",
     "text": [
      "<class 'pandas.core.frame.DataFrame'>\n",
      "RangeIndex: 209768 entries, 0 to 209767\n",
      "Data columns (total 7 columns):\n",
      " #   Column         Non-Null Count   Dtype         \n",
      "---  ------         --------------   -----         \n",
      " 0   File_type      209616 non-null  object        \n",
      " 1   Service        209768 non-null  object        \n",
      " 2   SizeMB         209768 non-null  float64       \n",
      " 3   Version        209768 non-null  int64         \n",
      " 4   Total_sizeMB   209768 non-null  float64       \n",
      " 5   Created        209768 non-null  datetime64[ns]\n",
      " 6   Last_modified  209768 non-null  datetime64[ns]\n",
      "dtypes: datetime64[ns](2), float64(2), int64(1), object(2)\n",
      "memory usage: 11.2+ MB\n"
     ]
    },
    {
     "data": {
      "text/html": [
       "<div>\n",
       "<style scoped>\n",
       "    .dataframe tbody tr th:only-of-type {\n",
       "        vertical-align: middle;\n",
       "    }\n",
       "\n",
       "    .dataframe tbody tr th {\n",
       "        vertical-align: top;\n",
       "    }\n",
       "\n",
       "    .dataframe thead th {\n",
       "        text-align: right;\n",
       "    }\n",
       "</style>\n",
       "<table border=\"1\" class=\"dataframe\">\n",
       "  <thead>\n",
       "    <tr style=\"text-align: right;\">\n",
       "      <th></th>\n",
       "      <th>File_type</th>\n",
       "      <th>Service</th>\n",
       "      <th>SizeMB</th>\n",
       "      <th>Version</th>\n",
       "      <th>Total_sizeMB</th>\n",
       "      <th>Created</th>\n",
       "      <th>Last_modified</th>\n",
       "    </tr>\n",
       "  </thead>\n",
       "  <tbody>\n",
       "    <tr>\n",
       "      <th>0</th>\n",
       "      <td>pdf</td>\n",
       "      <td>ASSIST</td>\n",
       "      <td>6.18</td>\n",
       "      <td>1</td>\n",
       "      <td>18.53</td>\n",
       "      <td>2014-08-11 13:55:42</td>\n",
       "      <td>2014-08-20 17:32:16</td>\n",
       "    </tr>\n",
       "    <tr>\n",
       "      <th>1</th>\n",
       "      <td>docx</td>\n",
       "      <td>ASSIST</td>\n",
       "      <td>0.12</td>\n",
       "      <td>1</td>\n",
       "      <td>0.24</td>\n",
       "      <td>2014-08-20 13:40:34</td>\n",
       "      <td>2014-08-20 19:43:22</td>\n",
       "    </tr>\n",
       "    <tr>\n",
       "      <th>2</th>\n",
       "      <td>pdf</td>\n",
       "      <td>ASSIST</td>\n",
       "      <td>0.11</td>\n",
       "      <td>1</td>\n",
       "      <td>0.11</td>\n",
       "      <td>2014-08-20 13:43:40</td>\n",
       "      <td>2014-08-20 19:44:40</td>\n",
       "    </tr>\n",
       "    <tr>\n",
       "      <th>3</th>\n",
       "      <td>docx</td>\n",
       "      <td>ASSIST</td>\n",
       "      <td>0.53</td>\n",
       "      <td>1</td>\n",
       "      <td>0.53</td>\n",
       "      <td>2014-08-20 13:38:52</td>\n",
       "      <td>2014-08-20 19:45:58</td>\n",
       "    </tr>\n",
       "    <tr>\n",
       "      <th>4</th>\n",
       "      <td>doc</td>\n",
       "      <td>ASSIST</td>\n",
       "      <td>0.26</td>\n",
       "      <td>1</td>\n",
       "      <td>0.51</td>\n",
       "      <td>2014-08-18 13:46:08</td>\n",
       "      <td>2014-08-20 19:46:35</td>\n",
       "    </tr>\n",
       "    <tr>\n",
       "      <th>5</th>\n",
       "      <td>docx</td>\n",
       "      <td>ASSIST</td>\n",
       "      <td>0.09</td>\n",
       "      <td>1</td>\n",
       "      <td>0.53</td>\n",
       "      <td>2014-08-11 13:12:23</td>\n",
       "      <td>2014-08-20 19:48:44</td>\n",
       "    </tr>\n",
       "    <tr>\n",
       "      <th>6</th>\n",
       "      <td>doc</td>\n",
       "      <td>ASSIST</td>\n",
       "      <td>0.17</td>\n",
       "      <td>1</td>\n",
       "      <td>0.52</td>\n",
       "      <td>2014-08-11 13:25:16</td>\n",
       "      <td>2014-08-20 19:49:49</td>\n",
       "    </tr>\n",
       "    <tr>\n",
       "      <th>7</th>\n",
       "      <td>doc</td>\n",
       "      <td>ASSIST</td>\n",
       "      <td>0.23</td>\n",
       "      <td>1</td>\n",
       "      <td>0.90</td>\n",
       "      <td>2014-08-11 13:27:01</td>\n",
       "      <td>2014-08-20 19:49:59</td>\n",
       "    </tr>\n",
       "    <tr>\n",
       "      <th>8</th>\n",
       "      <td>pdf</td>\n",
       "      <td>ASSIST</td>\n",
       "      <td>1.71</td>\n",
       "      <td>1</td>\n",
       "      <td>5.12</td>\n",
       "      <td>2014-08-11 13:58:10</td>\n",
       "      <td>2014-08-20 19:50:10</td>\n",
       "    </tr>\n",
       "    <tr>\n",
       "      <th>9</th>\n",
       "      <td>pdf</td>\n",
       "      <td>ASSIST</td>\n",
       "      <td>2.56</td>\n",
       "      <td>1</td>\n",
       "      <td>7.69</td>\n",
       "      <td>2014-08-11 13:59:10</td>\n",
       "      <td>2014-08-20 19:50:21</td>\n",
       "    </tr>\n",
       "  </tbody>\n",
       "</table>\n",
       "</div>"
      ],
      "text/plain": [
       "  File_type Service  SizeMB  Version  Total_sizeMB             Created  \\\n",
       "0       pdf  ASSIST    6.18        1         18.53 2014-08-11 13:55:42   \n",
       "1      docx  ASSIST    0.12        1          0.24 2014-08-20 13:40:34   \n",
       "2       pdf  ASSIST    0.11        1          0.11 2014-08-20 13:43:40   \n",
       "3      docx  ASSIST    0.53        1          0.53 2014-08-20 13:38:52   \n",
       "4       doc  ASSIST    0.26        1          0.51 2014-08-18 13:46:08   \n",
       "5      docx  ASSIST    0.09        1          0.53 2014-08-11 13:12:23   \n",
       "6       doc  ASSIST    0.17        1          0.52 2014-08-11 13:25:16   \n",
       "7       doc  ASSIST    0.23        1          0.90 2014-08-11 13:27:01   \n",
       "8       pdf  ASSIST    1.71        1          5.12 2014-08-11 13:58:10   \n",
       "9       pdf  ASSIST    2.56        1          7.69 2014-08-11 13:59:10   \n",
       "\n",
       "        Last_modified  \n",
       "0 2014-08-20 17:32:16  \n",
       "1 2014-08-20 19:43:22  \n",
       "2 2014-08-20 19:44:40  \n",
       "3 2014-08-20 19:45:58  \n",
       "4 2014-08-20 19:46:35  \n",
       "5 2014-08-20 19:48:44  \n",
       "6 2014-08-20 19:49:49  \n",
       "7 2014-08-20 19:49:59  \n",
       "8 2014-08-20 19:50:10  \n",
       "9 2014-08-20 19:50:21  "
      ]
     },
     "execution_count": 11,
     "metadata": {},
     "output_type": "execute_result"
    }
   ],
   "source": [
    "#we create our final dataframe with the data that we need,\n",
    "#namely: File_type, Service, SizeMB, Version, Total_sizeMB, Created, Last_modified\n",
    "df = Allfiles[['File_type', 'Service', 'SizeMB', 'Version', 'Total_sizeMB', 'Created', 'Last_modified']].copy()\n",
    "df.info()\n",
    "df.head(10)"
   ]
  },
  {
   "cell_type": "markdown",
   "metadata": {},
   "source": [
    "### Dataset values\n",
    "We have a look at our values, especially the fields that interest us most. For that, we do a series of counts and some plotting\n",
    "- We will work with the dates to have a simple timeline and see the evolution in time\n",
    "- We will count the occurrences of several parameters, in particular the number of times a version appears, the number of times a file type appears, the number of times a service appears.\n",
    "- We will do some plotting, to visually display that information\n",
    "- With this information, we will refine further our data if we think is necessary."
   ]
  },
  {
   "cell_type": "code",
   "execution_count": 12,
   "metadata": {},
   "outputs": [
    {
     "data": {
      "text/plain": [
       "0         2014-08-11\n",
       "1         2014-08-20\n",
       "2         2014-08-20\n",
       "3         2014-08-20\n",
       "4         2014-08-18\n",
       "             ...    \n",
       "209763    2020-08-06\n",
       "209764    2020-08-06\n",
       "209765    2020-09-04\n",
       "209766    2020-02-05\n",
       "209767    2020-08-28\n",
       "Name: Created, Length: 209768, dtype: object"
      ]
     },
     "execution_count": 12,
     "metadata": {},
     "output_type": "execute_result"
    }
   ],
   "source": [
    "#To further simplify our data, we will get rid of the hours in the dates columns\n",
    "from datetime import datetime\n",
    "df['Created'] = pd.to_datetime(df['Created']).dt.date\n",
    "df['Created']"
   ]
  },
  {
   "cell_type": "code",
   "execution_count": 13,
   "metadata": {},
   "outputs": [
    {
     "data": {
      "text/plain": [
       "0         2014-08-20\n",
       "1         2014-08-20\n",
       "2         2014-08-20\n",
       "3         2014-08-20\n",
       "4         2014-08-20\n",
       "             ...    \n",
       "209763    2020-09-04\n",
       "209764    2020-09-04\n",
       "209765    2020-09-04\n",
       "209766    2020-09-04\n",
       "209767    2020-09-04\n",
       "Name: Last_modified, Length: 209768, dtype: object"
      ]
     },
     "execution_count": 13,
     "metadata": {},
     "output_type": "execute_result"
    }
   ],
   "source": [
    "#And we do the same for Last modified date\n",
    "df['Last_modified'] = pd.to_datetime(df['Last_modified']).dt.date\n",
    "df['Last_modified']"
   ]
  },
  {
   "cell_type": "code",
   "execution_count": 14,
   "metadata": {},
   "outputs": [
    {
     "data": {
      "text/plain": [
       "0          9 days\n",
       "1          0 days\n",
       "2          0 days\n",
       "3          0 days\n",
       "4          2 days\n",
       "           ...   \n",
       "209763    29 days\n",
       "209764    29 days\n",
       "209765     0 days\n",
       "209766   212 days\n",
       "209767     7 days\n",
       "Name: Working_days, Length: 209768, dtype: timedelta64[ns]"
      ]
     },
     "execution_count": 14,
     "metadata": {},
     "output_type": "execute_result"
    }
   ],
   "source": [
    "#with these two dates, I can calculate how long a file is in editing mode (how late staff keep making updates)\n",
    "#I will add it to a column in the dataframe\n",
    "df['Working_days'] = df['Last_modified'] - df['Created'].copy()\n",
    "df['Working_days']"
   ]
  },
  {
   "cell_type": "code",
   "execution_count": 16,
   "metadata": {},
   "outputs": [
    {
     "data": {
      "text/html": [
       "<div>\n",
       "<style scoped>\n",
       "    .dataframe tbody tr th:only-of-type {\n",
       "        vertical-align: middle;\n",
       "    }\n",
       "\n",
       "    .dataframe tbody tr th {\n",
       "        vertical-align: top;\n",
       "    }\n",
       "\n",
       "    .dataframe thead th {\n",
       "        text-align: right;\n",
       "    }\n",
       "</style>\n",
       "<table border=\"1\" class=\"dataframe\">\n",
       "  <thead>\n",
       "    <tr style=\"text-align: right;\">\n",
       "      <th></th>\n",
       "      <th>SizeMB</th>\n",
       "      <th>Version</th>\n",
       "      <th>Total_sizeMB</th>\n",
       "      <th>Working_days</th>\n",
       "    </tr>\n",
       "  </thead>\n",
       "  <tbody>\n",
       "    <tr>\n",
       "      <th>count</th>\n",
       "      <td>209768.000000</td>\n",
       "      <td>209768.000000</td>\n",
       "      <td>209768.000000</td>\n",
       "      <td>209768</td>\n",
       "    </tr>\n",
       "    <tr>\n",
       "      <th>mean</th>\n",
       "      <td>1.283371</td>\n",
       "      <td>2.011837</td>\n",
       "      <td>3.353033</td>\n",
       "      <td>74 days 17:05:04.107394836</td>\n",
       "    </tr>\n",
       "    <tr>\n",
       "      <th>std</th>\n",
       "      <td>7.778840</td>\n",
       "      <td>6.203860</td>\n",
       "      <td>33.322995</td>\n",
       "      <td>168 days 12:48:48.389700918</td>\n",
       "    </tr>\n",
       "    <tr>\n",
       "      <th>min</th>\n",
       "      <td>0.000000</td>\n",
       "      <td>1.000000</td>\n",
       "      <td>0.000000</td>\n",
       "      <td>0 days 00:00:00</td>\n",
       "    </tr>\n",
       "    <tr>\n",
       "      <th>25%</th>\n",
       "      <td>0.040000</td>\n",
       "      <td>1.000000</td>\n",
       "      <td>0.060000</td>\n",
       "      <td>0 days 00:00:00</td>\n",
       "    </tr>\n",
       "    <tr>\n",
       "      <th>50%</th>\n",
       "      <td>0.090000</td>\n",
       "      <td>1.000000</td>\n",
       "      <td>0.170000</td>\n",
       "      <td>0 days 00:00:00</td>\n",
       "    </tr>\n",
       "    <tr>\n",
       "      <th>75%</th>\n",
       "      <td>0.420000</td>\n",
       "      <td>2.000000</td>\n",
       "      <td>0.730000</td>\n",
       "      <td>36 days 00:00:00</td>\n",
       "    </tr>\n",
       "    <tr>\n",
       "      <th>max</th>\n",
       "      <td>249.410000</td>\n",
       "      <td>511.000000</td>\n",
       "      <td>5485.640000</td>\n",
       "      <td>1739 days 00:00:00</td>\n",
       "    </tr>\n",
       "  </tbody>\n",
       "</table>\n",
       "</div>"
      ],
      "text/plain": [
       "              SizeMB        Version   Total_sizeMB  \\\n",
       "count  209768.000000  209768.000000  209768.000000   \n",
       "mean        1.283371       2.011837       3.353033   \n",
       "std         7.778840       6.203860      33.322995   \n",
       "min         0.000000       1.000000       0.000000   \n",
       "25%         0.040000       1.000000       0.060000   \n",
       "50%         0.090000       1.000000       0.170000   \n",
       "75%         0.420000       2.000000       0.730000   \n",
       "max       249.410000     511.000000    5485.640000   \n",
       "\n",
       "                      Working_days  \n",
       "count                       209768  \n",
       "mean    74 days 17:05:04.107394836  \n",
       "std    168 days 12:48:48.389700918  \n",
       "min                0 days 00:00:00  \n",
       "25%                0 days 00:00:00  \n",
       "50%                0 days 00:00:00  \n",
       "75%               36 days 00:00:00  \n",
       "max             1739 days 00:00:00  "
      ]
     },
     "execution_count": 16,
     "metadata": {},
     "output_type": "execute_result"
    }
   ],
   "source": [
    "#we do a general description of the statistical values of our data frame\n",
    "df.describe()"
   ]
  },
  {
   "cell_type": "code",
   "execution_count": 15,
   "metadata": {},
   "outputs": [
    {
     "data": {
      "text/plain": [
       "1     150353\n",
       "2      31053\n",
       "3      10901\n",
       "4       5523\n",
       "5       3189\n",
       "6       2056\n",
       "7       1328\n",
       "8        940\n",
       "9        732\n",
       "11       391\n",
       "12       335\n",
       "13       294\n",
       "14       245\n",
       "15       202\n",
       "10       176\n",
       "Name: Version, dtype: int64"
      ]
     },
     "execution_count": 15,
     "metadata": {},
     "output_type": "execute_result"
    }
   ],
   "source": [
    "#I count how many occurrences of each version I have, and show the 15 more common\n",
    "df['Version'].value_counts().head(15)"
   ]
  },
  {
   "cell_type": "code",
   "execution_count": 17,
   "metadata": {},
   "outputs": [
    {
     "data": {
      "image/png": "[encoded data removed]",
      "text/plain": [
       "<Figure size 432x288 with 1 Axes>"
      ]
     },
     "metadata": {},
     "output_type": "display_data"
    }
   ],
   "source": [
    "#We saw above that the versions range from 1 to 511. Let's represent all of them:\n",
    "ax = df['Version'].plot(bins=511,range=(1,511), kind=\"hist\",fill=True,histtype='step',label='Version number')\n",
    "ax.set_xlabel('Version number')\n",
    "plt.legend()\n",
    "plt.show()"
   ]
  },
  {
   "cell_type": "code",
   "execution_count": 18,
   "metadata": {},
   "outputs": [
    {
     "data": {
      "image/png": "[encoded data removed]",
      "text/plain": [
       "<Figure size 432x288 with 1 Axes>"
      ]
     },
     "metadata": {},
     "output_type": "display_data"
    }
   ],
   "source": [
    "#This shows in a visual way that the vast majority of documents find themselves in the first values. \n",
    "#Let's focus at those first values and represent only the 15 most common occurences:\n",
    "ax = df['Version'].plot(bins=15,range=(1,15), kind=\"hist\",fill=True,histtype='step',label='Version number')\n",
    "ax.set_xlabel('Version number')\n",
    "plt.legend()\n",
    "plt.show()"
   ]
  },
  {
   "cell_type": "code",
   "execution_count": 19,
   "metadata": {},
   "outputs": [
    {
     "data": {
      "text/plain": [
       "0 days      124509\n",
       "1 days        5990\n",
       "2 days        3193\n",
       "4 days        2088\n",
       "3 days        1967\n",
       "7 days        1645\n",
       "6 days        1586\n",
       "5 days        1296\n",
       "8 days        1180\n",
       "14 days        930\n",
       "12 days        883\n",
       "74 days        854\n",
       "264 days       802\n",
       "21 days        800\n",
       "56 days        793\n",
       "Name: Working_days, dtype: int64"
      ]
     },
     "execution_count": 19,
     "metadata": {},
     "output_type": "execute_result"
    }
   ],
   "source": [
    "#to further analyse how people work, I count the occurences of working time on documents\n",
    "df['Working_days'].value_counts().head(15)"
   ]
  },
  {
   "cell_type": "code",
   "execution_count": 20,
   "metadata": {},
   "outputs": [
    {
     "data": {
      "text/plain": [
       "pdf           66295\n",
       "docx          38235\n",
       "xlsx          35248\n",
       "jpg           12796\n",
       "pptx           9579\n",
       "doc            9047\n",
       "xls            5300\n",
       "gif            3817\n",
       "xlsm           3382\n",
       "eml            3367\n",
       "xlsb           3346\n",
       "msg            3317\n",
       "jpeg           2404\n",
       "xml            2033\n",
       "png            1142\n",
       "ppt            1050\n",
       "txt             866\n",
       "atx             534\n",
       "mp4             471\n",
       "dta             440\n",
       "rdl             359\n",
       "gdbtable        329\n",
       "gdbtablx        328\n",
       "teq             317\n",
       "gdbindexes      299\n",
       "ors             242\n",
       "svg             238\n",
       "emf             237\n",
       "log             234\n",
       "db              234\n",
       "lnk             222\n",
       "csv             220\n",
       "docm            174\n",
       "spx             147\n",
       "dotx            129\n",
       "js              128\n",
       "css             120\n",
       "pptm            115\n",
       "dat             107\n",
       "tif             106\n",
       "mp3              97\n",
       "pub              89\n",
       "prj              87\n",
       "dbf              87\n",
       "shp              87\n",
       "shx              87\n",
       "freelist         87\n",
       "ai               83\n",
       "dwg              80\n",
       "m4a              74\n",
       "Name: File_type, dtype: int64"
      ]
     },
     "execution_count": 20,
     "metadata": {},
     "output_type": "execute_result"
    }
   ],
   "source": [
    "#I count how many occurrences of each File_type I have. Here I really want detail, I show the first 50\n",
    "df['File_type'].value_counts().head(50)"
   ]
  },
  {
   "cell_type": "markdown",
   "metadata": {},
   "source": [
    "### Question about file types\n",
    "There are a lot of different files, especially with fewer occurrences. Many of them do not allow editing, like .pdf, images... this will contaminate our study because we want to assess collaboration (editing) on files.\n",
    "In addition, we find that we have just different extensions of the same kind of document (.doc and .docx are both word documents).\n",
    "Therefore, we will have to clean this data, first by unifying extensions of the same kind (Textual, Presentation, Worksheets...) and later, by selecting only this data in a new dataframe"
   ]
  },
  {
   "cell_type": "code",
   "execution_count": 21,
   "metadata": {},
   "outputs": [
    {
     "data": {
      "image/png": "[encoded data removed]",
      "text/plain": [
       "<Figure size 432x288 with 1 Axes>"
      ]
     },
     "metadata": {},
     "output_type": "display_data"
    }
   ],
   "source": [
    "#For the sake of visualisation we represent the File_type with more than 300 occurrences in a graphic.\n",
    "df['File_type'].value_counts().loc[lambda x : x>300].plot(kind='bar',fill=True,label='File_type frequency')\n",
    "plt.legend()\n",
    "plt.show()"
   ]
  },
  {
   "cell_type": "code",
   "execution_count": 22,
   "metadata": {},
   "outputs": [
    {
     "data": {
      "text/plain": [
       "pdf        66295\n",
       "Textual    48666\n",
       "xlsx       35248\n",
       "jpg        12796\n",
       "pptx        9579\n",
       "xls         5300\n",
       "gif         3817\n",
       "xlsm        3382\n",
       "eml         3367\n",
       "xlsb        3346\n",
       "Name: File_type, dtype: int64"
      ]
     },
     "execution_count": 22,
     "metadata": {},
     "output_type": "execute_result"
    }
   ],
   "source": [
    "#Now we change the different extensions of the same kind of document, starting by the textual ones\n",
    "pattern = '|'.join(['dotx', 'docx','docm', 'doc', 'dot','txt', 'css', 'prj'])\n",
    "df['File_type'] = df['File_type'].str.replace(pattern, 'Textual').copy()\n",
    "#and we print the result to see if it worked  \n",
    "df['File_type'].value_counts().head(10)"
   ]
  },
  {
   "cell_type": "code",
   "execution_count": 23,
   "metadata": {},
   "outputs": [
    {
     "data": {
      "text/plain": [
       "pdf             66295\n",
       "Textual         48666\n",
       "xlsx            35248\n",
       "jpg             12796\n",
       "Presentation    10744\n",
       "xls              5300\n",
       "gif              3817\n",
       "xlsm             3382\n",
       "eml              3367\n",
       "xlsb             3346\n",
       "Name: File_type, dtype: int64"
      ]
     },
     "execution_count": 23,
     "metadata": {},
     "output_type": "execute_result"
    }
   ],
   "source": [
    "#We modify now the presentations\n",
    "pattern = '|'.join(['pptx', 'pptm','ppt'])\n",
    "df['File_type'] = df['File_type'].str.replace(pattern, 'Presentation').copy()\n",
    "#and we print the result to see if it worked  \n",
    "df['File_type'].value_counts().head(10)"
   ]
  },
  {
   "cell_type": "code",
   "execution_count": 24,
   "metadata": {},
   "outputs": [
    {
     "data": {
      "text/plain": [
       "pdf             66295\n",
       "Textual         48666\n",
       "Worksheet       47276\n",
       "jpg             12796\n",
       "Presentation    10744\n",
       "gif              3817\n",
       "eml              3367\n",
       "msg              3317\n",
       "jpeg             2404\n",
       "xml              2033\n",
       "Name: File_type, dtype: int64"
      ]
     },
     "execution_count": 24,
     "metadata": {},
     "output_type": "execute_result"
    }
   ],
   "source": [
    "#We modify now the calculations (worksheets)\n",
    "pattern = '|'.join(['xlsx', 'xlsm','xlsb', 'xls'])\n",
    "df['File_type'] = df['File_type'].str.replace(pattern, 'Worksheet').copy()\n",
    "#and we print the result to see if it worked  \n",
    "df['File_type'].value_counts().head(10)"
   ]
  },
  {
   "cell_type": "code",
   "execution_count": 25,
   "metadata": {},
   "outputs": [
    {
     "data": {
      "text/html": [
       "<div>\n",
       "<style scoped>\n",
       "    .dataframe tbody tr th:only-of-type {\n",
       "        vertical-align: middle;\n",
       "    }\n",
       "\n",
       "    .dataframe tbody tr th {\n",
       "        vertical-align: top;\n",
       "    }\n",
       "\n",
       "    .dataframe thead th {\n",
       "        text-align: right;\n",
       "    }\n",
       "</style>\n",
       "<table border=\"1\" class=\"dataframe\">\n",
       "  <thead>\n",
       "    <tr style=\"text-align: right;\">\n",
       "      <th></th>\n",
       "      <th>File_type</th>\n",
       "      <th>Service</th>\n",
       "      <th>SizeMB</th>\n",
       "      <th>Version</th>\n",
       "      <th>Total_sizeMB</th>\n",
       "      <th>Created</th>\n",
       "      <th>Last_modified</th>\n",
       "      <th>Working_days</th>\n",
       "    </tr>\n",
       "  </thead>\n",
       "  <tbody>\n",
       "    <tr>\n",
       "      <th>1</th>\n",
       "      <td>Textual</td>\n",
       "      <td>ASSIST</td>\n",
       "      <td>0.12</td>\n",
       "      <td>1</td>\n",
       "      <td>0.24</td>\n",
       "      <td>2014-08-20</td>\n",
       "      <td>2014-08-20</td>\n",
       "      <td>0 days</td>\n",
       "    </tr>\n",
       "    <tr>\n",
       "      <th>3</th>\n",
       "      <td>Textual</td>\n",
       "      <td>ASSIST</td>\n",
       "      <td>0.53</td>\n",
       "      <td>1</td>\n",
       "      <td>0.53</td>\n",
       "      <td>2014-08-20</td>\n",
       "      <td>2014-08-20</td>\n",
       "      <td>0 days</td>\n",
       "    </tr>\n",
       "    <tr>\n",
       "      <th>4</th>\n",
       "      <td>Textual</td>\n",
       "      <td>ASSIST</td>\n",
       "      <td>0.26</td>\n",
       "      <td>1</td>\n",
       "      <td>0.51</td>\n",
       "      <td>2014-08-18</td>\n",
       "      <td>2014-08-20</td>\n",
       "      <td>2 days</td>\n",
       "    </tr>\n",
       "    <tr>\n",
       "      <th>5</th>\n",
       "      <td>Textual</td>\n",
       "      <td>ASSIST</td>\n",
       "      <td>0.09</td>\n",
       "      <td>1</td>\n",
       "      <td>0.53</td>\n",
       "      <td>2014-08-11</td>\n",
       "      <td>2014-08-20</td>\n",
       "      <td>9 days</td>\n",
       "    </tr>\n",
       "    <tr>\n",
       "      <th>6</th>\n",
       "      <td>Textual</td>\n",
       "      <td>ASSIST</td>\n",
       "      <td>0.17</td>\n",
       "      <td>1</td>\n",
       "      <td>0.52</td>\n",
       "      <td>2014-08-11</td>\n",
       "      <td>2014-08-20</td>\n",
       "      <td>9 days</td>\n",
       "    </tr>\n",
       "  </tbody>\n",
       "</table>\n",
       "</div>"
      ],
      "text/plain": [
       "  File_type Service  SizeMB  Version  Total_sizeMB     Created Last_modified  \\\n",
       "1   Textual  ASSIST    0.12        1          0.24  2014-08-20    2014-08-20   \n",
       "3   Textual  ASSIST    0.53        1          0.53  2014-08-20    2014-08-20   \n",
       "4   Textual  ASSIST    0.26        1          0.51  2014-08-18    2014-08-20   \n",
       "5   Textual  ASSIST    0.09        1          0.53  2014-08-11    2014-08-20   \n",
       "6   Textual  ASSIST    0.17        1          0.52  2014-08-11    2014-08-20   \n",
       "\n",
       "  Working_days  \n",
       "1       0 days  \n",
       "3       0 days  \n",
       "4       2 days  \n",
       "5       9 days  \n",
       "6       9 days  "
      ]
     },
     "execution_count": 25,
     "metadata": {},
     "output_type": "execute_result"
    }
   ],
   "source": [
    "#I will create a subset of data with only these three kinds of documents, to later work on it.\n",
    "collab_df = df.loc[df['File_type'].isin(['Textual','Worksheet', 'Presentation'])].copy()\n",
    "collab_df.head()\n",
    "#print(df.loc[df['File_type'].isin(['Textual','Worksheet', 'Presentation'])])"
   ]
  },
  {
   "cell_type": "code",
   "execution_count": 26,
   "metadata": {},
   "outputs": [
    {
     "data": {
      "text/plain": [
       "FAD       96390\n",
       "PROT      48285\n",
       "REM       31901\n",
       "ASSIST    29911\n",
       "PRES       3281\n",
       "Name: Service, dtype: int64"
      ]
     },
     "execution_count": 26,
     "metadata": {},
     "output_type": "execute_result"
    }
   ],
   "source": [
    "#I count how many occurrences of each Service I have\n",
    "df['Service'].value_counts().head()"
   ]
  },
  {
   "cell_type": "code",
   "execution_count": 27,
   "metadata": {},
   "outputs": [
    {
     "data": {
      "image/png": "[encoded data removed]",
      "text/plain": [
       "<Figure size 432x288 with 1 Axes>"
      ]
     },
     "metadata": {},
     "output_type": "display_data"
    }
   ],
   "source": [
    "#And we also represent this in a graphic, nicer way to show it.\n",
    "df.Service.value_counts().plot(kind=\"bar\",fill=True,label='Service')\n",
    "plt.legend()\n",
    "plt.show()"
   ]
  },
  {
   "cell_type": "code",
   "execution_count": 28,
   "metadata": {},
   "outputs": [
    {
     "data": {
      "image/png": "[encoded data removed]",
      "text/plain": [
       "<Figure size 864x576 with 1 Axes>"
      ]
     },
     "metadata": {},
     "output_type": "display_data"
    }
   ],
   "source": [
    "#to finalise, we plot a timeline to show how many documents are created per day\n",
    "df.Created.value_counts().plot(kind='line', color='Red', label='Service', figsize=(12,8))\n",
    "plt.legend()\n",
    "plt.show()"
   ]
  },
  {
   "cell_type": "markdown",
   "metadata": {},
   "source": [
    "This shows two interesting things:\n",
    "- First, until 2017 the usage of sharepoint was limited. It is from this year onward that we see a relevant usage. \n",
    "- Secondly: something very interesting: there has been 5 times when more than 2000 items were created. Let's look into detail to those pics, and see what dates they were:"
   ]
  },
  {
   "cell_type": "code",
   "execution_count": 29,
   "metadata": {},
   "outputs": [
    {
     "data": {
      "text/plain": [
       "2019-12-13    11610\n",
       "2019-12-16     3990\n",
       "2019-02-15     2708\n",
       "2017-11-27     2338\n",
       "2018-11-29     2294\n",
       "Name: Created, dtype: int64"
      ]
     },
     "execution_count": 29,
     "metadata": {},
     "output_type": "execute_result"
    }
   ],
   "source": [
    "df['Created'].value_counts().head(5)"
   ]
  },
  {
   "cell_type": "code",
   "execution_count": 30,
   "metadata": {},
   "outputs": [
    {
     "data": {
      "image/png": "[encoded data removed]",
      "text/plain": [
       "<Figure size 864x576 with 1 Axes>"
      ]
     },
     "metadata": {},
     "output_type": "display_data"
    }
   ],
   "source": [
    "#We check the same information in the collaborative subset of data:\n",
    "collab_df.Created.value_counts().plot(kind='line', color='Red', label='Service', figsize=(12,8))\n",
    "plt.legend()\n",
    "plt.show()"
   ]
  },
  {
   "cell_type": "markdown",
   "metadata": {},
   "source": [
    "Here we notice that although there are still some individual pics, (3 times above 1000 documents created, 5 times above 600) the pattern is more stable."
   ]
  },
  {
   "cell_type": "markdown",
   "metadata": {},
   "source": [
    "Finally, we make an export of our dataframes (both the complete and the \"collaborative\" one) in order to back-up it, and be able to skip all cleaning process in case we want to reuse the file, or in case of emergency."
   ]
  },
  {
   "cell_type": "code",
   "execution_count": 32,
   "metadata": {},
   "outputs": [],
   "source": [
    "df.to_csv('CleanSPdata.csv')\n",
    "collab_df.to_csv('CollabCleanSPdata.csv')"
   ]
  }
 ],
 "metadata": {
  "kernelspec": {
   "display_name": "Python 3",
   "language": "python",
   "name": "python3"
  },
  "language_info": {
   "codemirror_mode": {
    "name": "ipython",
    "version": 3
   },
   "file_extension": ".py",
   "mimetype": "text/x-python",
   "name": "python",
   "nbconvert_exporter": "python",
   "pygments_lexer": "ipython3",
   "version": "3.8.5"
  }
 },
 "nbformat": 4,
 "nbformat_minor": 4
}
